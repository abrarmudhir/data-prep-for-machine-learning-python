{
 "cells": [
  {
   "cell_type": "markdown",
   "metadata": {},
   "source": [
    "# Data Validation"
   ]
  },
  {
   "cell_type": "markdown",
   "metadata": {},
   "source": [
    "In this notebook, we will go over various ways to validate our data. Validating our data is important because it gives us proof that our data is reliable to work with.\n",
    "\n",
    "We can validate our data in various ways such as checking -\n",
    "\n",
    "- against another trusted source\n",
    "- data types\n",
    "- unique values\n",
    "- data ranges\n",
    "- nulls\n",
    "- consistency\n"
   ]
  },
  {
   "cell_type": "markdown",
   "metadata": {},
   "source": [
    "### Import Basic Packages & Data"
   ]
  },
  {
   "cell_type": "code",
   "execution_count": 2,
   "metadata": {},
   "outputs": [],
   "source": [
    "#Basics\n",
    "import numpy as np\n",
    "import pandas as pd"
   ]
  },
  {
   "cell_type": "markdown",
   "metadata": {},
   "source": [
    "We will continue to work with the student grades data."
   ]
  },
  {
   "cell_type": "code",
   "execution_count": 4,
   "metadata": {},
   "outputs": [
    {
     "data": {
      "text/html": [
       "<div>\n",
       "<style scoped>\n",
       "    .dataframe tbody tr th:only-of-type {\n",
       "        vertical-align: middle;\n",
       "    }\n",
       "\n",
       "    .dataframe tbody tr th {\n",
       "        vertical-align: top;\n",
       "    }\n",
       "\n",
       "    .dataframe thead th {\n",
       "        text-align: right;\n",
       "    }\n",
       "</style>\n",
       "<table border=\"1\" class=\"dataframe\">\n",
       "  <thead>\n",
       "    <tr style=\"text-align: right;\">\n",
       "      <th></th>\n",
       "      <th>student_ID</th>\n",
       "      <th>first_name</th>\n",
       "      <th>last_name</th>\n",
       "      <th>grade_avg</th>\n",
       "      <th>faculty</th>\n",
       "      <th>tuition</th>\n",
       "      <th>OH_participated</th>\n",
       "      <th>classes_skipped</th>\n",
       "    </tr>\n",
       "  </thead>\n",
       "  <tbody>\n",
       "    <tr>\n",
       "      <th>0</th>\n",
       "      <td>20123456.0</td>\n",
       "      <td>John</td>\n",
       "      <td>Park</td>\n",
       "      <td>B</td>\n",
       "      <td>Arts</td>\n",
       "      <td>44191.0</td>\n",
       "      <td>0</td>\n",
       "      <td>5.0</td>\n",
       "    </tr>\n",
       "    <tr>\n",
       "      <th>1</th>\n",
       "      <td>20123457.0</td>\n",
       "      <td>Alex</td>\n",
       "      <td>Great</td>\n",
       "      <td>B</td>\n",
       "      <td>Science</td>\n",
       "      <td>32245.0</td>\n",
       "      <td>\"4\"</td>\n",
       "      <td>10.0</td>\n",
       "    </tr>\n",
       "    <tr>\n",
       "      <th>2</th>\n",
       "      <td>20123458.0</td>\n",
       "      <td>Sebastian</td>\n",
       "      <td>Taylor</td>\n",
       "      <td>B</td>\n",
       "      <td>Business</td>\n",
       "      <td>42679.0</td>\n",
       "      <td>6</td>\n",
       "      <td>7.0</td>\n",
       "    </tr>\n",
       "    <tr>\n",
       "      <th>3</th>\n",
       "      <td>20123459.0</td>\n",
       "      <td>Michael</td>\n",
       "      <td>Bay</td>\n",
       "      <td>A</td>\n",
       "      <td>Math</td>\n",
       "      <td>46478.0</td>\n",
       "      <td>15</td>\n",
       "      <td>2.0</td>\n",
       "    </tr>\n",
       "    <tr>\n",
       "      <th>4</th>\n",
       "      <td>20123460.0</td>\n",
       "      <td>Scott</td>\n",
       "      <td>Foster</td>\n",
       "      <td>A</td>\n",
       "      <td>Engineering</td>\n",
       "      <td>36784.0</td>\n",
       "      <td>5</td>\n",
       "      <td>8.0</td>\n",
       "    </tr>\n",
       "  </tbody>\n",
       "</table>\n",
       "</div>"
      ],
      "text/plain": [
       "   student_ID first_name last_name grade_avg      faculty  tuition  \\\n",
       "0  20123456.0       John      Park         B         Arts  44191.0   \n",
       "1  20123457.0       Alex     Great         B      Science  32245.0   \n",
       "2  20123458.0  Sebastian    Taylor         B     Business  42679.0   \n",
       "3  20123459.0    Michael       Bay         A         Math  46478.0   \n",
       "4  20123460.0      Scott    Foster         A  Engineering  36784.0   \n",
       "\n",
       "  OH_participated  classes_skipped  \n",
       "0               0              5.0  \n",
       "1             \"4\"             10.0  \n",
       "2               6              7.0  \n",
       "3              15              2.0  \n",
       "4               5              8.0  "
      ]
     },
     "execution_count": 4,
     "metadata": {},
     "output_type": "execute_result"
    }
   ],
   "source": [
    "# Import data to a pandas dataframe\n",
    "df_grades = pd.read_csv('student grades.csv')\n",
    "df_grades.head()"
   ]
  },
  {
   "cell_type": "markdown",
   "metadata": {},
   "source": [
    "### Check Data Types "
   ]
  },
  {
   "cell_type": "code",
   "execution_count": 5,
   "metadata": {
    "scrolled": true
   },
   "outputs": [
    {
     "name": "stdout",
     "output_type": "stream",
     "text": [
      "<class 'pandas.core.frame.DataFrame'>\n",
      "RangeIndex: 31 entries, 0 to 30\n",
      "Data columns (total 8 columns):\n",
      " #   Column           Non-Null Count  Dtype  \n",
      "---  ------           --------------  -----  \n",
      " 0   student_ID       30 non-null     float64\n",
      " 1   first_name       31 non-null     object \n",
      " 2   last_name        30 non-null     object \n",
      " 3   grade_avg        31 non-null     object \n",
      " 4   faculty          31 non-null     object \n",
      " 5   tuition          27 non-null     float64\n",
      " 6   OH_participated  29 non-null     object \n",
      " 7   classes_skipped  29 non-null     float64\n",
      "dtypes: float64(3), object(5)\n",
      "memory usage: 2.1+ KB\n"
     ]
    }
   ],
   "source": [
    "# Check the data types of each column\n",
    "df_grades.info()"
   ]
  },
  {
   "cell_type": "markdown",
   "metadata": {},
   "source": [
    "### Identify NULL or Missing values\n",
    "\n",
    "The `isna` function can be used to check for null or missing values in a dataframe. When we combine it with the `sum` function, we are able to figure out the number of null or missing values in a dataframe. \n"
   ]
  },
  {
   "cell_type": "code",
   "execution_count": 6,
   "metadata": {
    "scrolled": false
   },
   "outputs": [
    {
     "data": {
      "text/plain": [
       "student_ID         1\n",
       "first_name         0\n",
       "last_name          1\n",
       "grade_avg          0\n",
       "faculty            0\n",
       "tuition            4\n",
       "OH_participated    2\n",
       "classes_skipped    2\n",
       "dtype: int64"
      ]
     },
     "execution_count": 6,
     "metadata": {},
     "output_type": "execute_result"
    }
   ],
   "source": [
    "# Identify missing values (NULLS) in the dataset\n",
    "df_grades.isna().sum()"
   ]
  },
  {
   "cell_type": "markdown",
   "metadata": {},
   "source": [
    "One other thing to look out for as well is that whenever there are multiple null value columns, there is a good chance that there are errors not just in the column level, but in the row level as well. If we see the entire dataset, we see that the last line of the majority of the row is null, which may indicate that there was a mistake when data was inputted for this particular student."
   ]
  },
  {
   "cell_type": "code",
   "execution_count": 7,
   "metadata": {},
   "outputs": [
    {
     "data": {
      "text/html": [
       "<div>\n",
       "<style scoped>\n",
       "    .dataframe tbody tr th:only-of-type {\n",
       "        vertical-align: middle;\n",
       "    }\n",
       "\n",
       "    .dataframe tbody tr th {\n",
       "        vertical-align: top;\n",
       "    }\n",
       "\n",
       "    .dataframe thead th {\n",
       "        text-align: right;\n",
       "    }\n",
       "</style>\n",
       "<table border=\"1\" class=\"dataframe\">\n",
       "  <thead>\n",
       "    <tr style=\"text-align: right;\">\n",
       "      <th></th>\n",
       "      <th>student_ID</th>\n",
       "      <th>first_name</th>\n",
       "      <th>last_name</th>\n",
       "      <th>grade_avg</th>\n",
       "      <th>faculty</th>\n",
       "      <th>tuition</th>\n",
       "      <th>OH_participated</th>\n",
       "      <th>classes_skipped</th>\n",
       "    </tr>\n",
       "  </thead>\n",
       "  <tbody>\n",
       "    <tr>\n",
       "      <th>26</th>\n",
       "      <td>20123482.0</td>\n",
       "      <td>Joseph</td>\n",
       "      <td>Kim</td>\n",
       "      <td>A</td>\n",
       "      <td>Math</td>\n",
       "      <td>33376.0</td>\n",
       "      <td>12</td>\n",
       "      <td>6.0</td>\n",
       "    </tr>\n",
       "    <tr>\n",
       "      <th>27</th>\n",
       "      <td>20123483.0</td>\n",
       "      <td>Chris</td>\n",
       "      <td>Dang</td>\n",
       "      <td>F</td>\n",
       "      <td>Business</td>\n",
       "      <td>44737.0</td>\n",
       "      <td>NaN</td>\n",
       "      <td>8.0</td>\n",
       "    </tr>\n",
       "    <tr>\n",
       "      <th>28</th>\n",
       "      <td>20123484.0</td>\n",
       "      <td>Robbie</td>\n",
       "      <td>Tee</td>\n",
       "      <td>B</td>\n",
       "      <td>Engineering</td>\n",
       "      <td>49682.0</td>\n",
       "      <td>10</td>\n",
       "      <td>6.0</td>\n",
       "    </tr>\n",
       "    <tr>\n",
       "      <th>29</th>\n",
       "      <td>20123485.0</td>\n",
       "      <td>Shelly</td>\n",
       "      <td>Yoon</td>\n",
       "      <td>A</td>\n",
       "      <td>Math</td>\n",
       "      <td>33585.0</td>\n",
       "      <td>5</td>\n",
       "      <td>10.0</td>\n",
       "    </tr>\n",
       "    <tr>\n",
       "      <th>30</th>\n",
       "      <td>NaN</td>\n",
       "      <td>Joseph</td>\n",
       "      <td>NaN</td>\n",
       "      <td>A</td>\n",
       "      <td>English</td>\n",
       "      <td>NaN</td>\n",
       "      <td>2</td>\n",
       "      <td>4.0</td>\n",
       "    </tr>\n",
       "  </tbody>\n",
       "</table>\n",
       "</div>"
      ],
      "text/plain": [
       "    student_ID first_name last_name grade_avg      faculty  tuition  \\\n",
       "26  20123482.0     Joseph       Kim         A         Math  33376.0   \n",
       "27  20123483.0      Chris      Dang         F     Business  44737.0   \n",
       "28  20123484.0     Robbie       Tee         B  Engineering  49682.0   \n",
       "29  20123485.0     Shelly      Yoon         A         Math  33585.0   \n",
       "30         NaN     Joseph       NaN         A      English      NaN   \n",
       "\n",
       "   OH_participated  classes_skipped  \n",
       "26              12              6.0  \n",
       "27             NaN              8.0  \n",
       "28              10              6.0  \n",
       "29               5             10.0  \n",
       "30               2              4.0  "
      ]
     },
     "execution_count": 7,
     "metadata": {},
     "output_type": "execute_result"
    }
   ],
   "source": [
    "# Investigate the bottom of the dataset using tail()\n",
    "df_grades.tail()"
   ]
  },
  {
   "cell_type": "markdown",
   "metadata": {},
   "source": [
    "### Check unique values for categorical columns \n",
    "\n",
    "We can also use the `value_counts` function to easily find unique values and their frequencies for a column. With this, we can see that we found that there was a typo for \"Arts\" since there was a count for the incorrect spelling of it."
   ]
  },
  {
   "cell_type": "code",
   "execution_count": 8,
   "metadata": {
    "scrolled": true
   },
   "outputs": [
    {
     "data": {
      "text/plain": [
       "Business       9\n",
       "Engineering    8\n",
       "Arts           4\n",
       "Science        4\n",
       "Math           4\n",
       "Art$           1\n",
       "English        1\n",
       "Name: faculty, dtype: int64"
      ]
     },
     "execution_count": 8,
     "metadata": {},
     "output_type": "execute_result"
    }
   ],
   "source": [
    "# Explore what unique values appear in the Faculty column\n",
    "df_grades['faculty'].value_counts()"
   ]
  },
  {
   "cell_type": "markdown",
   "metadata": {},
   "source": [
    "### Check value ranges for numerical columns and identify clear errors"
   ]
  },
  {
   "cell_type": "code",
   "execution_count": 7,
   "metadata": {
    "scrolled": true
   },
   "outputs": [
    {
     "data": {
      "text/html": [
       "<div>\n",
       "<style scoped>\n",
       "    .dataframe tbody tr th:only-of-type {\n",
       "        vertical-align: middle;\n",
       "    }\n",
       "\n",
       "    .dataframe tbody tr th {\n",
       "        vertical-align: top;\n",
       "    }\n",
       "\n",
       "    .dataframe thead th {\n",
       "        text-align: right;\n",
       "    }\n",
       "</style>\n",
       "<table border=\"1\" class=\"dataframe\">\n",
       "  <thead>\n",
       "    <tr style=\"text-align: right;\">\n",
       "      <th></th>\n",
       "      <th>StudentID</th>\n",
       "      <th>Tuition</th>\n",
       "      <th>ClassesSkipped</th>\n",
       "    </tr>\n",
       "  </thead>\n",
       "  <tbody>\n",
       "    <tr>\n",
       "      <th>count</th>\n",
       "      <td>3.000000e+01</td>\n",
       "      <td>27.000000</td>\n",
       "      <td>29.000000</td>\n",
       "    </tr>\n",
       "    <tr>\n",
       "      <th>mean</th>\n",
       "      <td>2.012347e+07</td>\n",
       "      <td>39727.592593</td>\n",
       "      <td>4.862069</td>\n",
       "    </tr>\n",
       "    <tr>\n",
       "      <th>std</th>\n",
       "      <td>8.803408e+00</td>\n",
       "      <td>9749.186961</td>\n",
       "      <td>3.020456</td>\n",
       "    </tr>\n",
       "    <tr>\n",
       "      <th>min</th>\n",
       "      <td>2.012346e+07</td>\n",
       "      <td>40.000000</td>\n",
       "      <td>0.000000</td>\n",
       "    </tr>\n",
       "    <tr>\n",
       "      <th>25%</th>\n",
       "      <td>2.012346e+07</td>\n",
       "      <td>34898.500000</td>\n",
       "      <td>3.000000</td>\n",
       "    </tr>\n",
       "    <tr>\n",
       "      <th>50%</th>\n",
       "      <td>2.012347e+07</td>\n",
       "      <td>42679.000000</td>\n",
       "      <td>4.000000</td>\n",
       "    </tr>\n",
       "    <tr>\n",
       "      <th>75%</th>\n",
       "      <td>2.012348e+07</td>\n",
       "      <td>45734.000000</td>\n",
       "      <td>7.000000</td>\n",
       "    </tr>\n",
       "    <tr>\n",
       "      <th>max</th>\n",
       "      <td>2.012348e+07</td>\n",
       "      <td>49682.000000</td>\n",
       "      <td>10.000000</td>\n",
       "    </tr>\n",
       "  </tbody>\n",
       "</table>\n",
       "</div>"
      ],
      "text/plain": [
       "          StudentID       Tuition  ClassesSkipped\n",
       "count  3.000000e+01     27.000000       29.000000\n",
       "mean   2.012347e+07  39727.592593        4.862069\n",
       "std    8.803408e+00   9749.186961        3.020456\n",
       "min    2.012346e+07     40.000000        0.000000\n",
       "25%    2.012346e+07  34898.500000        3.000000\n",
       "50%    2.012347e+07  42679.000000        4.000000\n",
       "75%    2.012348e+07  45734.000000        7.000000\n",
       "max    2.012348e+07  49682.000000       10.000000"
      ]
     },
     "execution_count": 7,
     "metadata": {},
     "output_type": "execute_result"
    }
   ],
   "source": [
    "# Explore what range of values exist for numerical columns\n",
    "df_grades.describe()"
   ]
  },
  {
   "cell_type": "markdown",
   "metadata": {},
   "source": [
    "We can see here that from the `describe` function, that there is something that sticks out - the minimum value for tuition we see here is 40, which is highly unlikely since tuition in general is much more expensive and relative to the other values it is substantially lower. This is a good chance that this is an error in the dataset. \n",
    "\n",
    "\n",
    "We have identified many errors in our dataset, and we will deal with this in the next lesson."
   ]
  },
  {
   "cell_type": "markdown",
   "metadata": {},
   "source": [
    "### Compare Aggregated Data to Another Trusted DataSource"
   ]
  },
  {
   "cell_type": "markdown",
   "metadata": {},
   "source": [
    "One other important method of validating our data is to simply compare it from another data source. It is crucial to utilize all of our resources, and cross-validating our data can be a simple yet powerful way to gain confidence in our data.\n",
    "\n",
    "\n",
    "Open the \"External Report for Data Prep\" file. Navigate the file to cross-reference if the below function results are correct and incorrect based on your findings."
   ]
  },
  {
   "cell_type": "code",
   "execution_count": 10,
   "metadata": {
    "scrolled": true
   },
   "outputs": [
    {
     "data": {
      "text/plain": [
       "30"
      ]
     },
     "execution_count": 10,
     "metadata": {},
     "output_type": "execute_result"
    }
   ],
   "source": [
    "# Confirming if count of students is the same as our known source of truth?\n",
    "count_students = len(df_grades)\n",
    "count_students"
   ]
  },
  {
   "cell_type": "code",
   "execution_count": 11,
   "metadata": {},
   "outputs": [
    {
     "data": {
      "text/plain": [
       "1072645.0"
      ]
     },
     "execution_count": 11,
     "metadata": {},
     "output_type": "execute_result"
    }
   ],
   "source": [
    "# Confirming if count of business only students is the same as our known source of truth?\n",
    "business_students = len(df_grades[df_grades['faculty'] == 'Business'])\n",
    "business_students"
   ]
  },
  {
   "cell_type": "code",
   "execution_count": 13,
   "metadata": {},
   "outputs": [
    {
     "data": {
      "text/plain": [
       "9"
      ]
     },
     "execution_count": 13,
     "metadata": {},
     "output_type": "execute_result"
    }
   ],
   "source": [
    "\n",
    "\n",
    "# Confirming if total tuition fees is the same as our known source of truth?\n",
    "sum_tuition = df_grades['tuition'].sum()\n",
    "sum_tuition"
   ]
  },
  {
   "cell_type": "markdown",
   "metadata": {},
   "source": [
    "### Exercise 1 (Basic) - Understanding the data type of columns"
   ]
  },
  {
   "cell_type": "markdown",
   "metadata": {},
   "source": [
    "Find the data type of each column, for each column that is categorical list out their unique values, and check value range for each column that is numerical\n",
    "\n",
    "Task:\n",
    "- Import data\n",
    "- Explore data types\n",
    "- Explore value ranges\n"
   ]
  },
  {
   "cell_type": "code",
   "execution_count": 34,
   "metadata": {},
   "outputs": [
    {
     "data": {
      "text/html": [
       "<div>\n",
       "<style scoped>\n",
       "    .dataframe tbody tr th:only-of-type {\n",
       "        vertical-align: middle;\n",
       "    }\n",
       "\n",
       "    .dataframe tbody tr th {\n",
       "        vertical-align: top;\n",
       "    }\n",
       "\n",
       "    .dataframe thead th {\n",
       "        text-align: right;\n",
       "    }\n",
       "</style>\n",
       "<table border=\"1\" class=\"dataframe\">\n",
       "  <thead>\n",
       "    <tr style=\"text-align: right;\">\n",
       "      <th></th>\n",
       "      <th>price</th>\n",
       "      <th>year_made</th>\n",
       "      <th>name</th>\n",
       "      <th>battery_life_percentage</th>\n",
       "      <th>storage</th>\n",
       "      <th>magnet_charging</th>\n",
       "      <th>marketplace</th>\n",
       "      <th>years_owned</th>\n",
       "      <th>visible_scratches</th>\n",
       "      <th>pro</th>\n",
       "      <th>original_sale_price</th>\n",
       "      <th>#_of_previous_owners</th>\n",
       "      <th>megapixel</th>\n",
       "    </tr>\n",
       "  </thead>\n",
       "  <tbody>\n",
       "    <tr>\n",
       "      <th>0</th>\n",
       "      <td>551.0</td>\n",
       "      <td>2019</td>\n",
       "      <td>iPhone_11</td>\n",
       "      <td>74</td>\n",
       "      <td>64</td>\n",
       "      <td>no</td>\n",
       "      <td>kijiji</td>\n",
       "      <td>2</td>\n",
       "      <td>9</td>\n",
       "      <td>no</td>\n",
       "      <td>747</td>\n",
       "      <td>1</td>\n",
       "      <td>12</td>\n",
       "    </tr>\n",
       "    <tr>\n",
       "      <th>1</th>\n",
       "      <td>822.0</td>\n",
       "      <td>2020</td>\n",
       "      <td>iPhone_12</td>\n",
       "      <td>94</td>\n",
       "      <td>128</td>\n",
       "      <td>yes</td>\n",
       "      <td>craigslist</td>\n",
       "      <td>2</td>\n",
       "      <td>6</td>\n",
       "      <td>no</td>\n",
       "      <td>888</td>\n",
       "      <td>1</td>\n",
       "      <td>16</td>\n",
       "    </tr>\n",
       "    <tr>\n",
       "      <th>2</th>\n",
       "      <td>1008.0</td>\n",
       "      <td>2022</td>\n",
       "      <td>iPhone_14</td>\n",
       "      <td>97</td>\n",
       "      <td>256</td>\n",
       "      <td>yes</td>\n",
       "      <td>craigslist!</td>\n",
       "      <td>0</td>\n",
       "      <td>2</td>\n",
       "      <td>no</td>\n",
       "      <td>1185</td>\n",
       "      <td>1</td>\n",
       "      <td>22</td>\n",
       "    </tr>\n",
       "    <tr>\n",
       "      <th>3</th>\n",
       "      <td>NaN</td>\n",
       "      <td>2021</td>\n",
       "      <td>iPhone_13</td>\n",
       "      <td>90</td>\n",
       "      <td>128</td>\n",
       "      <td>yes</td>\n",
       "      <td>craigslist</td>\n",
       "      <td>2</td>\n",
       "      <td>2</td>\n",
       "      <td>no</td>\n",
       "      <td>887</td>\n",
       "      <td>1</td>\n",
       "      <td>20</td>\n",
       "    </tr>\n",
       "    <tr>\n",
       "      <th>4</th>\n",
       "      <td>839.0</td>\n",
       "      <td>2020</td>\n",
       "      <td>iPhone_12</td>\n",
       "      <td>91</td>\n",
       "      <td>256</td>\n",
       "      <td>yes</td>\n",
       "      <td>kijiji</td>\n",
       "      <td>1</td>\n",
       "      <td>5</td>\n",
       "      <td>no</td>\n",
       "      <td>969</td>\n",
       "      <td>1</td>\n",
       "      <td>16</td>\n",
       "    </tr>\n",
       "    <tr>\n",
       "      <th>...</th>\n",
       "      <td>...</td>\n",
       "      <td>...</td>\n",
       "      <td>...</td>\n",
       "      <td>...</td>\n",
       "      <td>...</td>\n",
       "      <td>...</td>\n",
       "      <td>...</td>\n",
       "      <td>...</td>\n",
       "      <td>...</td>\n",
       "      <td>...</td>\n",
       "      <td>...</td>\n",
       "      <td>...</td>\n",
       "      <td>...</td>\n",
       "    </tr>\n",
       "    <tr>\n",
       "      <th>344</th>\n",
       "      <td>1326.0</td>\n",
       "      <td>2022</td>\n",
       "      <td>iPhone_14</td>\n",
       "      <td>91</td>\n",
       "      <td>64</td>\n",
       "      <td>yes</td>\n",
       "      <td>craigslist</td>\n",
       "      <td>0</td>\n",
       "      <td>0</td>\n",
       "      <td>no</td>\n",
       "      <td>1394</td>\n",
       "      <td>1</td>\n",
       "      <td>22</td>\n",
       "    </tr>\n",
       "    <tr>\n",
       "      <th>345</th>\n",
       "      <td>458.0</td>\n",
       "      <td>2019</td>\n",
       "      <td>iPhone_11</td>\n",
       "      <td>75</td>\n",
       "      <td>256</td>\n",
       "      <td>no</td>\n",
       "      <td>facebook</td>\n",
       "      <td>3</td>\n",
       "      <td>3</td>\n",
       "      <td>no</td>\n",
       "      <td>702</td>\n",
       "      <td>2</td>\n",
       "      <td>12</td>\n",
       "    </tr>\n",
       "    <tr>\n",
       "      <th>346</th>\n",
       "      <td>487.0</td>\n",
       "      <td>2019</td>\n",
       "      <td>iPhone_11</td>\n",
       "      <td>87</td>\n",
       "      <td>256</td>\n",
       "      <td>no</td>\n",
       "      <td>facebook</td>\n",
       "      <td>1</td>\n",
       "      <td>7</td>\n",
       "      <td>no</td>\n",
       "      <td>781</td>\n",
       "      <td>2</td>\n",
       "      <td>12</td>\n",
       "    </tr>\n",
       "    <tr>\n",
       "      <th>347</th>\n",
       "      <td>1340.0</td>\n",
       "      <td>2022</td>\n",
       "      <td>iPhone_14</td>\n",
       "      <td>100</td>\n",
       "      <td>256</td>\n",
       "      <td>yes</td>\n",
       "      <td>craigslist</td>\n",
       "      <td>0</td>\n",
       "      <td>0</td>\n",
       "      <td>no</td>\n",
       "      <td>1411</td>\n",
       "      <td>1</td>\n",
       "      <td>22</td>\n",
       "    </tr>\n",
       "    <tr>\n",
       "      <th>348</th>\n",
       "      <td>1144.0</td>\n",
       "      <td>2021</td>\n",
       "      <td>iPhone_13</td>\n",
       "      <td>94</td>\n",
       "      <td>128</td>\n",
       "      <td>yes</td>\n",
       "      <td>facebook</td>\n",
       "      <td>1</td>\n",
       "      <td>1</td>\n",
       "      <td>yes</td>\n",
       "      <td>1249</td>\n",
       "      <td>1</td>\n",
       "      <td>20</td>\n",
       "    </tr>\n",
       "  </tbody>\n",
       "</table>\n",
       "<p>349 rows × 13 columns</p>\n",
       "</div>"
      ],
      "text/plain": [
       "      price  year_made       name  battery_life_percentage  storage  \\\n",
       "0     551.0       2019  iPhone_11                       74       64   \n",
       "1     822.0       2020  iPhone_12                       94      128   \n",
       "2    1008.0       2022  iPhone_14                       97      256   \n",
       "3       NaN       2021  iPhone_13                       90      128   \n",
       "4     839.0       2020  iPhone_12                       91      256   \n",
       "..      ...        ...        ...                      ...      ...   \n",
       "344  1326.0       2022  iPhone_14                       91       64   \n",
       "345   458.0       2019  iPhone_11                       75      256   \n",
       "346   487.0       2019  iPhone_11                       87      256   \n",
       "347  1340.0       2022  iPhone_14                      100      256   \n",
       "348  1144.0       2021  iPhone_13                       94      128   \n",
       "\n",
       "    magnet_charging  marketplace  years_owned  visible_scratches  pro  \\\n",
       "0                no       kijiji            2                  9   no   \n",
       "1               yes   craigslist            2                  6   no   \n",
       "2               yes  craigslist!            0                  2   no   \n",
       "3               yes   craigslist            2                  2   no   \n",
       "4               yes       kijiji            1                  5   no   \n",
       "..              ...          ...          ...                ...  ...   \n",
       "344             yes   craigslist            0                  0   no   \n",
       "345              no     facebook            3                  3   no   \n",
       "346              no     facebook            1                  7   no   \n",
       "347             yes   craigslist            0                  0   no   \n",
       "348             yes     facebook            1                  1  yes   \n",
       "\n",
       "     original_sale_price  #_of_previous_owners  megapixel  \n",
       "0                    747                     1         12  \n",
       "1                    888                     1         16  \n",
       "2                   1185                     1         22  \n",
       "3                    887                     1         20  \n",
       "4                    969                     1         16  \n",
       "..                   ...                   ...        ...  \n",
       "344                 1394                     1         22  \n",
       "345                  702                     2         12  \n",
       "346                  781                     2         12  \n",
       "347                 1411                     1         22  \n",
       "348                 1249                     1         20  \n",
       "\n",
       "[349 rows x 13 columns]"
      ]
     },
     "execution_count": 34,
     "metadata": {},
     "output_type": "execute_result"
    }
   ],
   "source": [
    "# Import data to a pandas dataframe\n",
    "df_phone = pd.read_csv('phone_marketplace_dataset_cleaning_set.csv')\n",
    "df_phone"
   ]
  },
  {
   "cell_type": "code",
   "execution_count": 35,
   "metadata": {
    "scrolled": true
   },
   "outputs": [
    {
     "name": "stdout",
     "output_type": "stream",
     "text": [
      "<class 'pandas.core.frame.DataFrame'>\n",
      "RangeIndex: 349 entries, 0 to 348\n",
      "Data columns (total 13 columns):\n",
      " #   Column                   Non-Null Count  Dtype  \n",
      "---  ------                   --------------  -----  \n",
      " 0   price                    343 non-null    float64\n",
      " 1   year_made                349 non-null    int64  \n",
      " 2   name                     349 non-null    object \n",
      " 3   battery_life_percentage  349 non-null    int64  \n",
      " 4   storage                  349 non-null    int64  \n",
      " 5   magnet_charging          349 non-null    object \n",
      " 6   marketplace              349 non-null    object \n",
      " 7   years_owned              349 non-null    int64  \n",
      " 8   visible_scratches        349 non-null    int64  \n",
      " 9   pro                      349 non-null    object \n",
      " 10  original_sale_price      349 non-null    int64  \n",
      " 11  #_of_previous_owners     349 non-null    int64  \n",
      " 12  megapixel                349 non-null    int64  \n",
      "dtypes: float64(1), int64(8), object(4)\n",
      "memory usage: 35.6+ KB\n"
     ]
    }
   ],
   "source": [
    "# Finding out data type of each column\n",
    "df_phone.info()"
   ]
  },
  {
   "cell_type": "code",
   "execution_count": 36,
   "metadata": {},
   "outputs": [
    {
     "data": {
      "text/html": [
       "<div>\n",
       "<style scoped>\n",
       "    .dataframe tbody tr th:only-of-type {\n",
       "        vertical-align: middle;\n",
       "    }\n",
       "\n",
       "    .dataframe tbody tr th {\n",
       "        vertical-align: top;\n",
       "    }\n",
       "\n",
       "    .dataframe thead th {\n",
       "        text-align: right;\n",
       "    }\n",
       "</style>\n",
       "<table border=\"1\" class=\"dataframe\">\n",
       "  <thead>\n",
       "    <tr style=\"text-align: right;\">\n",
       "      <th></th>\n",
       "      <th>price</th>\n",
       "      <th>year_made</th>\n",
       "      <th>battery_life_percentage</th>\n",
       "      <th>storage</th>\n",
       "      <th>years_owned</th>\n",
       "      <th>visible_scratches</th>\n",
       "      <th>original_sale_price</th>\n",
       "      <th>#_of_previous_owners</th>\n",
       "      <th>megapixel</th>\n",
       "    </tr>\n",
       "  </thead>\n",
       "  <tbody>\n",
       "    <tr>\n",
       "      <th>count</th>\n",
       "      <td>343.000000</td>\n",
       "      <td>349.000000</td>\n",
       "      <td>349.000000</td>\n",
       "      <td>349.000000</td>\n",
       "      <td>349.000000</td>\n",
       "      <td>349.000000</td>\n",
       "      <td>349.000000</td>\n",
       "      <td>349.000000</td>\n",
       "      <td>349.000000</td>\n",
       "    </tr>\n",
       "    <tr>\n",
       "      <th>mean</th>\n",
       "      <td>879.096210</td>\n",
       "      <td>2020.538682</td>\n",
       "      <td>88.607450</td>\n",
       "      <td>148.171920</td>\n",
       "      <td>1.495702</td>\n",
       "      <td>3.002865</td>\n",
       "      <td>965.103152</td>\n",
       "      <td>1.214900</td>\n",
       "      <td>17.524355</td>\n",
       "    </tr>\n",
       "    <tr>\n",
       "      <th>std</th>\n",
       "      <td>304.855338</td>\n",
       "      <td>1.182642</td>\n",
       "      <td>7.550067</td>\n",
       "      <td>79.229727</td>\n",
       "      <td>1.242499</td>\n",
       "      <td>2.566919</td>\n",
       "      <td>277.363067</td>\n",
       "      <td>0.599047</td>\n",
       "      <td>3.899986</td>\n",
       "    </tr>\n",
       "    <tr>\n",
       "      <th>min</th>\n",
       "      <td>402.000000</td>\n",
       "      <td>2019.000000</td>\n",
       "      <td>70.000000</td>\n",
       "      <td>64.000000</td>\n",
       "      <td>0.000000</td>\n",
       "      <td>0.000000</td>\n",
       "      <td>408.000000</td>\n",
       "      <td>1.000000</td>\n",
       "      <td>12.000000</td>\n",
       "    </tr>\n",
       "    <tr>\n",
       "      <th>25%</th>\n",
       "      <td>595.000000</td>\n",
       "      <td>2019.000000</td>\n",
       "      <td>84.000000</td>\n",
       "      <td>64.000000</td>\n",
       "      <td>0.000000</td>\n",
       "      <td>1.000000</td>\n",
       "      <td>745.000000</td>\n",
       "      <td>1.000000</td>\n",
       "      <td>12.000000</td>\n",
       "    </tr>\n",
       "    <tr>\n",
       "      <th>50%</th>\n",
       "      <td>856.000000</td>\n",
       "      <td>2021.000000</td>\n",
       "      <td>91.000000</td>\n",
       "      <td>128.000000</td>\n",
       "      <td>1.000000</td>\n",
       "      <td>2.000000</td>\n",
       "      <td>923.000000</td>\n",
       "      <td>1.000000</td>\n",
       "      <td>20.000000</td>\n",
       "    </tr>\n",
       "    <tr>\n",
       "      <th>75%</th>\n",
       "      <td>1121.500000</td>\n",
       "      <td>2022.000000</td>\n",
       "      <td>94.000000</td>\n",
       "      <td>256.000000</td>\n",
       "      <td>2.000000</td>\n",
       "      <td>5.000000</td>\n",
       "      <td>1200.000000</td>\n",
       "      <td>1.000000</td>\n",
       "      <td>22.000000</td>\n",
       "    </tr>\n",
       "    <tr>\n",
       "      <th>max</th>\n",
       "      <td>1499.000000</td>\n",
       "      <td>2024.000000</td>\n",
       "      <td>100.000000</td>\n",
       "      <td>256.000000</td>\n",
       "      <td>4.000000</td>\n",
       "      <td>10.000000</td>\n",
       "      <td>1499.000000</td>\n",
       "      <td>4.000000</td>\n",
       "      <td>22.000000</td>\n",
       "    </tr>\n",
       "  </tbody>\n",
       "</table>\n",
       "</div>"
      ],
      "text/plain": [
       "             price    year_made  battery_life_percentage     storage  \\\n",
       "count   343.000000   349.000000               349.000000  349.000000   \n",
       "mean    879.096210  2020.538682                88.607450  148.171920   \n",
       "std     304.855338     1.182642                 7.550067   79.229727   \n",
       "min     402.000000  2019.000000                70.000000   64.000000   \n",
       "25%     595.000000  2019.000000                84.000000   64.000000   \n",
       "50%     856.000000  2021.000000                91.000000  128.000000   \n",
       "75%    1121.500000  2022.000000                94.000000  256.000000   \n",
       "max    1499.000000  2024.000000               100.000000  256.000000   \n",
       "\n",
       "       years_owned  visible_scratches  original_sale_price  \\\n",
       "count   349.000000         349.000000           349.000000   \n",
       "mean      1.495702           3.002865           965.103152   \n",
       "std       1.242499           2.566919           277.363067   \n",
       "min       0.000000           0.000000           408.000000   \n",
       "25%       0.000000           1.000000           745.000000   \n",
       "50%       1.000000           2.000000           923.000000   \n",
       "75%       2.000000           5.000000          1200.000000   \n",
       "max       4.000000          10.000000          1499.000000   \n",
       "\n",
       "       #_of_previous_owners   megapixel  \n",
       "count            349.000000  349.000000  \n",
       "mean               1.214900   17.524355  \n",
       "std                0.599047    3.899986  \n",
       "min                1.000000   12.000000  \n",
       "25%                1.000000   12.000000  \n",
       "50%                1.000000   20.000000  \n",
       "75%                1.000000   22.000000  \n",
       "max                4.000000   22.000000  "
      ]
     },
     "execution_count": 36,
     "metadata": {},
     "output_type": "execute_result"
    }
   ],
   "source": [
    "# Explore the range of values in the numerical columns\n",
    "df_phone.describe()"
   ]
  },
  {
   "cell_type": "markdown",
   "metadata": {},
   "source": [
    "### Exercise 2 (Advanced) - Exploring Column Values"
   ]
  },
  {
   "cell_type": "markdown",
   "metadata": {},
   "source": [
    "Find the value count of each categorical column\n",
    "\n",
    "Task:\n",
    "- For each categorical column, find the count of each value\n",
    "- For each categorical column, return the unique values.\n",
    "- Hint: use a for loop to go through each column"
   ]
  },
  {
   "cell_type": "code",
   "execution_count": 37,
   "metadata": {},
   "outputs": [],
   "source": [
    "# Define a list of category columns\n",
    "cat_cols = ['name', 'magnet_charging', 'marketplace', 'pro']"
   ]
  },
  {
   "cell_type": "code",
   "execution_count": 38,
   "metadata": {
    "scrolled": true
   },
   "outputs": [
    {
     "name": "stdout",
     "output_type": "stream",
     "text": [
      "name ['iPhone_11' 'iPhone_12' 'iPhone_14' 'iPhone_13']\n",
      "magnet_charging ['no' 'yes']\n",
      "marketplace ['kijiji' 'craigslist' 'craigslist!' 'facebook' 'facebook!' 'kijiji!']\n",
      "pro ['no' 'yes']\n"
     ]
    }
   ],
   "source": [
    "# Using a loop to find all the unique values of a categorical column\n",
    "for col in cat_cols:\n",
    "    print(col,df_phone[col].unique())"
   ]
  },
  {
   "cell_type": "code",
   "execution_count": 41,
   "metadata": {
    "scrolled": true
   },
   "outputs": [
    {
     "name": "stdout",
     "output_type": "stream",
     "text": [
      "iPhone_14    94\n",
      "iPhone_11    89\n",
      "iPhone_12    85\n",
      "iPhone_13    81\n",
      "Name: name, dtype: int64 \n",
      "\n",
      "yes    260\n",
      "no      89\n",
      "Name: magnet_charging, dtype: int64 \n",
      "\n",
      "facebook       125\n",
      "craigslist     110\n",
      "kijiji         106\n",
      "craigslist!      3\n",
      "facebook!        3\n",
      "kijiji!          2\n",
      "Name: marketplace, dtype: int64 \n",
      "\n",
      "no     271\n",
      "yes     78\n",
      "Name: pro, dtype: int64 \n",
      "\n"
     ]
    }
   ],
   "source": [
    "# Using a for loop find number of instances of each unique value of each categorical column\n",
    "for col in cat_cols:\n",
    "    print(df_phone[col].value_counts(), \"\\n\")"
   ]
  }
 ],
 "metadata": {
  "kernelspec": {
   "display_name": "Python 3",
   "language": "python",
   "name": "python3"
  },
  "language_info": {
   "codemirror_mode": {
    "name": "ipython",
    "version": 3
   },
   "file_extension": ".py",
   "mimetype": "text/x-python",
   "name": "python",
   "nbconvert_exporter": "python",
   "pygments_lexer": "ipython3",
   "version": "3.8.5"
  }
 },
 "nbformat": 4,
 "nbformat_minor": 4
}
