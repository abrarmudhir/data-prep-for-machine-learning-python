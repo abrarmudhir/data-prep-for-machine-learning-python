{
 "cells": [
  {
   "cell_type": "markdown",
   "metadata": {},
   "source": [
    "# Data Validation"
   ]
  },
  {
   "cell_type": "markdown",
   "metadata": {},
   "source": [
    "In this notebook, we will go over various ways to validate our data. Validating our data is important because it gives us proof that our data is reliable to work with.\n",
    "\n",
    "We can validate our data in various ways such as checking -\n",
    "\n",
    "- against another trusted source\n",
    "- data types\n",
    "- unique values\n",
    "- data ranges\n",
    "- nulls\n",
    "- consistency\n"
   ]
  },
  {
   "cell_type": "markdown",
   "metadata": {},
   "source": [
    "### Import Basic Packages & Data"
   ]
  },
  {
   "cell_type": "code",
   "execution_count": 2,
   "metadata": {},
   "outputs": [],
   "source": [
    "#Basics\n",
    "import numpy as np\n",
    "import pandas as pd"
   ]
  },
  {
   "cell_type": "markdown",
   "metadata": {},
   "source": [
    "We will continue to work with the student grades data."
   ]
  },
  {
   "cell_type": "code",
   "execution_count": null,
   "metadata": {},
   "outputs": [],
   "source": [
    "# Import data to a pandas dataframe\n",
    "df_grades = pd.read_csv('student grades.csv')\n",
    "df_grades.head()"
   ]
  },
  {
   "cell_type": "markdown",
   "metadata": {},
   "source": [
    "### Check Data Types "
   ]
  },
  {
   "cell_type": "code",
   "execution_count": 11,
   "metadata": {
    "scrolled": true
   },
   "outputs": [],
   "source": [
    "# Check the data types of each column\n"
   ]
  },
  {
   "cell_type": "markdown",
   "metadata": {},
   "source": [
    "### Identify NULL or Missing values\n",
    "\n",
    "The `isna` function can be used to check for null or missing values in a dataframe. When we combine it with the `sum` function, we are able to figure out the number of null or missing values in a dataframe. \n"
   ]
  },
  {
   "cell_type": "code",
   "execution_count": 10,
   "metadata": {
    "scrolled": false
   },
   "outputs": [],
   "source": [
    "# Identify missing values (NULLS) in the dataset\n"
   ]
  },
  {
   "cell_type": "markdown",
   "metadata": {},
   "source": [
    "One other thing to look out for as well is that whenever there are multiple null value columns, there is a good chance that there are errors not just in the column level, but in the row level as well. If we see the entire dataset, we see that the last line of the majority of the row is null, which may indicate that there was a mistake when data was inputted for this particular student."
   ]
  },
  {
   "cell_type": "code",
   "execution_count": null,
   "metadata": {},
   "outputs": [],
   "source": [
    "# Investigate the bottom of the dataset using tail()\n"
   ]
  },
  {
   "cell_type": "markdown",
   "metadata": {},
   "source": [
    "### Check unique values for categorical columns \n",
    "\n",
    "We can also use the `value_counts` function to easily find unique values and their frequencies for a column. With this, we can see that we found that there was a typo for \"Arts\" since there was a count for the incorrect spelling of it."
   ]
  },
  {
   "cell_type": "code",
   "execution_count": 9,
   "metadata": {
    "scrolled": true
   },
   "outputs": [],
   "source": [
    "# Explore what unique values appear in the Faculty column\n"
   ]
  },
  {
   "cell_type": "markdown",
   "metadata": {},
   "source": [
    "### Check value ranges for numerical columns and identify clear errors"
   ]
  },
  {
   "cell_type": "code",
   "execution_count": 8,
   "metadata": {
    "scrolled": true
   },
   "outputs": [],
   "source": [
    "# Explore what range of values exist for numerical columns\n"
   ]
  },
  {
   "cell_type": "markdown",
   "metadata": {},
   "source": [
    "We can see here that from the `describe` function, that there is something that sticks out - the minimum value for tuition we see here is 40, which is highly unlikely since tuition in general is much more expensive and relative to the other values it is substantially lower. This is a good chance that this is an error in the dataset. \n",
    "\n",
    "\n",
    "We have identified many errors in our dataset, and we will deal with this in the next lesson."
   ]
  },
  {
   "cell_type": "markdown",
   "metadata": {},
   "source": [
    "### Compare Aggregated Data to Another Trusted DataSource"
   ]
  },
  {
   "cell_type": "markdown",
   "metadata": {},
   "source": [
    "One other important method of validating our data is to simply compare it from another data source. It is crucial to utilize all of our resources, and cross-validating our data can be a simple yet powerful way to gain confidence in our data.\n",
    "\n",
    "\n",
    "Open the \"External Report for Data Prep\" file. Navigate the file to cross-reference if the below function results are correct and incorrect based on your findings."
   ]
  },
  {
   "cell_type": "code",
   "execution_count": 1,
   "metadata": {
    "scrolled": true
   },
   "outputs": [],
   "source": [
    "# Confirming if count of students is the same as our known source of truth?\n"
   ]
  },
  {
   "cell_type": "code",
   "execution_count": 2,
   "metadata": {},
   "outputs": [],
   "source": [
    "# Confirming if count of business only students is the same as our known source of truth?\n"
   ]
  },
  {
   "cell_type": "code",
   "execution_count": 3,
   "metadata": {},
   "outputs": [],
   "source": [
    "# Confirming if total tuition fees is the same as our known source of truth?\n"
   ]
  },
  {
   "cell_type": "markdown",
   "metadata": {},
   "source": [
    "### Exercise 1 (Basic) - Understanding the data type of columns"
   ]
  },
  {
   "cell_type": "markdown",
   "metadata": {},
   "source": [
    "Find the data type of each column, for each column that is categorical list out their unique values, and check value range for each column that is numerical\n",
    "\n",
    "Task:\n",
    "- Import data\n",
    "- Explore data types\n",
    "- Explore value ranges"
   ]
  },
  {
   "cell_type": "code",
   "execution_count": null,
   "metadata": {},
   "outputs": [],
   "source": [
    "# Import data to a pandas dataframe\n",
    "df_phone = pd.read_csv('phone_marketplace_dataset_cleaning_set.csv')\n",
    "df_phone"
   ]
  },
  {
   "cell_type": "code",
   "execution_count": 4,
   "metadata": {
    "scrolled": true
   },
   "outputs": [],
   "source": [
    "# Finding out data type of each column\n"
   ]
  },
  {
   "cell_type": "code",
   "execution_count": 5,
   "metadata": {},
   "outputs": [],
   "source": [
    "# Explore the range of values in the numerical columns\n"
   ]
  },
  {
   "cell_type": "markdown",
   "metadata": {},
   "source": [
    "### Exercise 2 (Advanced) - Exploring Column Values"
   ]
  },
  {
   "cell_type": "markdown",
   "metadata": {},
   "source": [
    "Find the value count of each categorical column\n",
    "\n",
    "Task:\n",
    "- For each categorical column, find the count of each value\n",
    "- For each categorical column, return the unique values.\n",
    "- Hint: use a for loop to go through each column"
   ]
  },
  {
   "cell_type": "code",
   "execution_count": 37,
   "metadata": {},
   "outputs": [],
   "source": [
    "# Define a list of category columns\n",
    "cat_cols = ['name', 'magnet_charging', 'marketplace', 'pro']"
   ]
  },
  {
   "cell_type": "code",
   "execution_count": 6,
   "metadata": {
    "scrolled": true
   },
   "outputs": [],
   "source": [
    "# Using a loop to find all the unique values of a categorical column\n"
   ]
  },
  {
   "cell_type": "code",
   "execution_count": 7,
   "metadata": {
    "scrolled": true
   },
   "outputs": [],
   "source": [
    "# Using a for loop find number of instances of each unique value of each categorical column\n"
   ]
  },
  {
   "cell_type": "code",
   "execution_count": null,
   "metadata": {},
   "outputs": [],
   "source": []
  }
 ],
 "metadata": {
  "kernelspec": {
   "display_name": "Python 3",
   "language": "python",
   "name": "python3"
  },
  "language_info": {
   "codemirror_mode": {
    "name": "ipython",
    "version": 3
   },
   "file_extension": ".py",
   "mimetype": "text/x-python",
   "name": "python",
   "nbconvert_exporter": "python",
   "pygments_lexer": "ipython3",
   "version": "3.8.5"
  }
 },
 "nbformat": 4,
 "nbformat_minor": 4
}
