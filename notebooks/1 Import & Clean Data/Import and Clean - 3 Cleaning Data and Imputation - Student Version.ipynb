{
 "cells": [
  {
   "cell_type": "markdown",
   "metadata": {},
   "source": [
    "# Cleaning Data & Imputation"
   ]
  },
  {
   "cell_type": "markdown",
   "metadata": {},
   "source": [
    "In most cases, the data we are working with is missing or is not in the most ideal format for us to work with, and it is up to us to modify it so that it fits our use case. In this notebook we will clean identified errors and explore the concept of imputation."
   ]
  },
  {
   "cell_type": "markdown",
   "metadata": {},
   "source": [
    "### Import Basic Packages & Data"
   ]
  },
  {
   "cell_type": "code",
   "execution_count": 2,
   "metadata": {},
   "outputs": [],
   "source": [
    "#Basics\n",
    "import numpy as np\n",
    "import pandas as pd\n",
    "import warnings\n",
    "warnings.filterwarnings('ignore')"
   ]
  },
  {
   "cell_type": "markdown",
   "metadata": {},
   "source": [
    "We will continue working with the student grades dataset."
   ]
  },
  {
   "cell_type": "code",
   "execution_count": 21,
   "metadata": {
    "scrolled": true
   },
   "outputs": [
    {
     "data": {
      "text/html": [
       "<div>\n",
       "<style scoped>\n",
       "    .dataframe tbody tr th:only-of-type {\n",
       "        vertical-align: middle;\n",
       "    }\n",
       "\n",
       "    .dataframe tbody tr th {\n",
       "        vertical-align: top;\n",
       "    }\n",
       "\n",
       "    .dataframe thead th {\n",
       "        text-align: right;\n",
       "    }\n",
       "</style>\n",
       "<table border=\"1\" class=\"dataframe\">\n",
       "  <thead>\n",
       "    <tr style=\"text-align: right;\">\n",
       "      <th></th>\n",
       "      <th>student_ID</th>\n",
       "      <th>first_name</th>\n",
       "      <th>last_name</th>\n",
       "      <th>grade_avg</th>\n",
       "      <th>faculty</th>\n",
       "      <th>tuition</th>\n",
       "      <th>OH_participated</th>\n",
       "      <th>classes_skipped</th>\n",
       "    </tr>\n",
       "  </thead>\n",
       "  <tbody>\n",
       "    <tr>\n",
       "      <th>0</th>\n",
       "      <td>20123456.0</td>\n",
       "      <td>John</td>\n",
       "      <td>Park</td>\n",
       "      <td>B</td>\n",
       "      <td>Arts</td>\n",
       "      <td>44191.0</td>\n",
       "      <td>0</td>\n",
       "      <td>5.0</td>\n",
       "    </tr>\n",
       "    <tr>\n",
       "      <th>1</th>\n",
       "      <td>20123457.0</td>\n",
       "      <td>Alex</td>\n",
       "      <td>Great</td>\n",
       "      <td>B</td>\n",
       "      <td>Science</td>\n",
       "      <td>32245.0</td>\n",
       "      <td>\"4\"</td>\n",
       "      <td>10.0</td>\n",
       "    </tr>\n",
       "    <tr>\n",
       "      <th>2</th>\n",
       "      <td>20123458.0</td>\n",
       "      <td>Sebastian</td>\n",
       "      <td>Taylor</td>\n",
       "      <td>B</td>\n",
       "      <td>Business</td>\n",
       "      <td>42679.0</td>\n",
       "      <td>6</td>\n",
       "      <td>7.0</td>\n",
       "    </tr>\n",
       "    <tr>\n",
       "      <th>3</th>\n",
       "      <td>20123459.0</td>\n",
       "      <td>Michael</td>\n",
       "      <td>Bay</td>\n",
       "      <td>A</td>\n",
       "      <td>Math</td>\n",
       "      <td>46478.0</td>\n",
       "      <td>15</td>\n",
       "      <td>2.0</td>\n",
       "    </tr>\n",
       "    <tr>\n",
       "      <th>4</th>\n",
       "      <td>20123460.0</td>\n",
       "      <td>Scott</td>\n",
       "      <td>Foster</td>\n",
       "      <td>A</td>\n",
       "      <td>Engineering</td>\n",
       "      <td>36784.0</td>\n",
       "      <td>5</td>\n",
       "      <td>8.0</td>\n",
       "    </tr>\n",
       "  </tbody>\n",
       "</table>\n",
       "</div>"
      ],
      "text/plain": [
       "   student_ID first_name last_name grade_avg      faculty  tuition  \\\n",
       "0  20123456.0       John      Park         B         Arts  44191.0   \n",
       "1  20123457.0       Alex     Great         B      Science  32245.0   \n",
       "2  20123458.0  Sebastian    Taylor         B     Business  42679.0   \n",
       "3  20123459.0    Michael       Bay         A         Math  46478.0   \n",
       "4  20123460.0      Scott    Foster         A  Engineering  36784.0   \n",
       "\n",
       "  OH_participated  classes_skipped  \n",
       "0               0              5.0  \n",
       "1             \"4\"             10.0  \n",
       "2               6              7.0  \n",
       "3              15              2.0  \n",
       "4               5              8.0  "
      ]
     },
     "execution_count": 21,
     "metadata": {},
     "output_type": "execute_result"
    }
   ],
   "source": [
    "# Import data to a pandas dataframe\n",
    "df_grades = pd.read_csv('student grades.csv')\n",
    "df_grades.head()"
   ]
  },
  {
   "cell_type": "markdown",
   "metadata": {},
   "source": [
    "### Dealing with identified errors"
   ]
  },
  {
   "cell_type": "markdown",
   "metadata": {},
   "source": [
    "In the previous lesson, we discovered various errors and will now explore ways to deal with them.\n",
    "\n",
    "Lets first look at the number of null values in our dataset, both in the column level and row level."
   ]
  },
  {
   "cell_type": "code",
   "execution_count": 3,
   "metadata": {
    "scrolled": false
   },
   "outputs": [
    {
     "data": {
      "text/plain": [
       "StudentID         1\n",
       "FirstName         0\n",
       "LastName          1\n",
       "GradeAvg          0\n",
       "Faculty           0\n",
       "Tuition           4\n",
       "OHParticipated    2\n",
       "ClassesSkipped    2\n",
       "dtype: int64"
      ]
     },
     "execution_count": 3,
     "metadata": {},
     "output_type": "execute_result"
    }
   ],
   "source": [
    "# Identify missing values (NULLS) in the dataset\n",
    "df_grades.isna().sum()"
   ]
  },
  {
   "cell_type": "code",
   "execution_count": 4,
   "metadata": {
    "scrolled": true
   },
   "outputs": [
    {
     "data": {
      "text/html": [
       "<div>\n",
       "<style scoped>\n",
       "    .dataframe tbody tr th:only-of-type {\n",
       "        vertical-align: middle;\n",
       "    }\n",
       "\n",
       "    .dataframe tbody tr th {\n",
       "        vertical-align: top;\n",
       "    }\n",
       "\n",
       "    .dataframe thead th {\n",
       "        text-align: right;\n",
       "    }\n",
       "</style>\n",
       "<table border=\"1\" class=\"dataframe\">\n",
       "  <thead>\n",
       "    <tr style=\"text-align: right;\">\n",
       "      <th></th>\n",
       "      <th>StudentID</th>\n",
       "      <th>FirstName</th>\n",
       "      <th>LastName</th>\n",
       "      <th>GradeAvg</th>\n",
       "      <th>Faculty</th>\n",
       "      <th>Tuition</th>\n",
       "      <th>OHParticipated</th>\n",
       "      <th>ClassesSkipped</th>\n",
       "    </tr>\n",
       "  </thead>\n",
       "  <tbody>\n",
       "    <tr>\n",
       "      <th>26</th>\n",
       "      <td>20123482.0</td>\n",
       "      <td>Joseph</td>\n",
       "      <td>Kim</td>\n",
       "      <td>A</td>\n",
       "      <td>Math</td>\n",
       "      <td>33376.0</td>\n",
       "      <td>12</td>\n",
       "      <td>6.0</td>\n",
       "    </tr>\n",
       "    <tr>\n",
       "      <th>27</th>\n",
       "      <td>20123483.0</td>\n",
       "      <td>Chris</td>\n",
       "      <td>Dang</td>\n",
       "      <td>F</td>\n",
       "      <td>Business</td>\n",
       "      <td>44737.0</td>\n",
       "      <td>NaN</td>\n",
       "      <td>8.0</td>\n",
       "    </tr>\n",
       "    <tr>\n",
       "      <th>28</th>\n",
       "      <td>20123484.0</td>\n",
       "      <td>Robbie</td>\n",
       "      <td>Tee</td>\n",
       "      <td>B</td>\n",
       "      <td>Engineering</td>\n",
       "      <td>49682.0</td>\n",
       "      <td>10</td>\n",
       "      <td>6.0</td>\n",
       "    </tr>\n",
       "    <tr>\n",
       "      <th>29</th>\n",
       "      <td>20123485.0</td>\n",
       "      <td>Shelly</td>\n",
       "      <td>Yoon</td>\n",
       "      <td>A</td>\n",
       "      <td>Math</td>\n",
       "      <td>33585.0</td>\n",
       "      <td>5</td>\n",
       "      <td>10.0</td>\n",
       "    </tr>\n",
       "    <tr>\n",
       "      <th>30</th>\n",
       "      <td>NaN</td>\n",
       "      <td>Joseph</td>\n",
       "      <td>NaN</td>\n",
       "      <td>A</td>\n",
       "      <td>English</td>\n",
       "      <td>NaN</td>\n",
       "      <td>2</td>\n",
       "      <td>4.0</td>\n",
       "    </tr>\n",
       "  </tbody>\n",
       "</table>\n",
       "</div>"
      ],
      "text/plain": [
       "     StudentID FirstName LastName GradeAvg      Faculty  Tuition  \\\n",
       "26  20123482.0    Joseph      Kim        A         Math  33376.0   \n",
       "27  20123483.0     Chris     Dang        F     Business  44737.0   \n",
       "28  20123484.0    Robbie      Tee        B  Engineering  49682.0   \n",
       "29  20123485.0    Shelly     Yoon        A         Math  33585.0   \n",
       "30         NaN    Joseph      NaN        A      English      NaN   \n",
       "\n",
       "   OHParticipated  ClassesSkipped  \n",
       "26             12             6.0  \n",
       "27            NaN             8.0  \n",
       "28             10             6.0  \n",
       "29              5            10.0  \n",
       "30              2             4.0  "
      ]
     },
     "execution_count": 4,
     "metadata": {},
     "output_type": "execute_result"
    }
   ],
   "source": [
    "df_grades.tail()"
   ]
  },
  {
   "cell_type": "markdown",
   "metadata": {},
   "source": [
    "The simpliest way of getting rid of null values is to use the `drop_na` function. This allows us to either drop all rows that have null values or all columns that have null values. We can confirm that the rows or columns were dropped by looking at the shape of our dataframe."
   ]
  },
  {
   "cell_type": "code",
   "execution_count": null,
   "metadata": {
    "scrolled": true
   },
   "outputs": [],
   "source": [
    "# drop all rows or columns with nas (not recommended)\n",
    "df_drop_na = df_grades.dropna()      #Use axis = 1 to drop columns with missing values."
   ]
  },
  {
   "cell_type": "markdown",
   "metadata": {},
   "source": [
    "We saw in our previous notebook that the last row of our column was identified as a row with lots of errors that we can safely decide to drop.\n",
    "\n",
    "To easily drop only the last row of our dataset which contains the errors, we can simply use the `drop` function and use the index of the `tail` function in it."
   ]
  },
  {
   "cell_type": "code",
   "execution_count": 2,
   "metadata": {
    "scrolled": true
   },
   "outputs": [],
   "source": [
    "# dropping last row with the tail function\n"
   ]
  },
  {
   "cell_type": "markdown",
   "metadata": {},
   "source": [
    "In the case of the dropped last row, we can safely assume that that specific row of data was an error, because there was no name associated with it and there were many missing data.\n",
    "\n",
    "However, in most instances we want to keep our data and leave it as a last resort to drop it. We will explore other methods of cleaning our data using imputation further down in the notebook. \n",
    "\n",
    "We saw before that there was a typo in one of the faculty values by looking at the `value_counts` function. To solve this, we can use the `replace` function to replace the typo."
   ]
  },
  {
   "cell_type": "code",
   "execution_count": 5,
   "metadata": {
    "scrolled": true
   },
   "outputs": [
    {
     "data": {
      "text/plain": [
       "Business       9\n",
       "Engineering    8\n",
       "Arts           4\n",
       "Science        4\n",
       "Math           4\n",
       "Art$           1\n",
       "English        1\n",
       "Name: faculty, dtype: int64"
      ]
     },
     "execution_count": 5,
     "metadata": {},
     "output_type": "execute_result"
    }
   ],
   "source": [
    "# Explore what unique values appear in the Faculty column\n",
    "df_grades['faculty'].value_counts()"
   ]
  },
  {
   "cell_type": "code",
   "execution_count": 1,
   "metadata": {
    "scrolled": true
   },
   "outputs": [],
   "source": [
    "# Are there any categorical values which acutally have been entered incorrectly? Make them consistent with replace.\n"
   ]
  },
  {
   "cell_type": "markdown",
   "metadata": {},
   "source": [
    "Finally, we discovered using the `describe` function, we were able to see that there was a minimum tuition value that didn't make sense since the minimum tuition was 40 dollars. Luckily, we were able to find out from the external data source that their tuition was actually 40000 dollars. We can fix this by correcting the student's tuition value."
   ]
  },
  {
   "cell_type": "code",
   "execution_count": 10,
   "metadata": {
    "scrolled": true
   },
   "outputs": [
    {
     "data": {
      "text/html": [
       "<div>\n",
       "<style scoped>\n",
       "    .dataframe tbody tr th:only-of-type {\n",
       "        vertical-align: middle;\n",
       "    }\n",
       "\n",
       "    .dataframe tbody tr th {\n",
       "        vertical-align: top;\n",
       "    }\n",
       "\n",
       "    .dataframe thead th {\n",
       "        text-align: right;\n",
       "    }\n",
       "</style>\n",
       "<table border=\"1\" class=\"dataframe\">\n",
       "  <thead>\n",
       "    <tr style=\"text-align: right;\">\n",
       "      <th></th>\n",
       "      <th>StudentID</th>\n",
       "      <th>Tuition</th>\n",
       "      <th>ClassesSkipped</th>\n",
       "    </tr>\n",
       "  </thead>\n",
       "  <tbody>\n",
       "    <tr>\n",
       "      <th>count</th>\n",
       "      <td>3.000000e+01</td>\n",
       "      <td>27.000000</td>\n",
       "      <td>28.000000</td>\n",
       "    </tr>\n",
       "    <tr>\n",
       "      <th>mean</th>\n",
       "      <td>2.012347e+07</td>\n",
       "      <td>39727.592593</td>\n",
       "      <td>4.892857</td>\n",
       "    </tr>\n",
       "    <tr>\n",
       "      <th>std</th>\n",
       "      <td>8.803408e+00</td>\n",
       "      <td>9749.186961</td>\n",
       "      <td>3.071244</td>\n",
       "    </tr>\n",
       "    <tr>\n",
       "      <th>min</th>\n",
       "      <td>2.012346e+07</td>\n",
       "      <td>40.000000</td>\n",
       "      <td>0.000000</td>\n",
       "    </tr>\n",
       "    <tr>\n",
       "      <th>25%</th>\n",
       "      <td>2.012346e+07</td>\n",
       "      <td>34898.500000</td>\n",
       "      <td>2.750000</td>\n",
       "    </tr>\n",
       "    <tr>\n",
       "      <th>50%</th>\n",
       "      <td>2.012347e+07</td>\n",
       "      <td>42679.000000</td>\n",
       "      <td>4.500000</td>\n",
       "    </tr>\n",
       "    <tr>\n",
       "      <th>75%</th>\n",
       "      <td>2.012348e+07</td>\n",
       "      <td>45734.000000</td>\n",
       "      <td>7.250000</td>\n",
       "    </tr>\n",
       "    <tr>\n",
       "      <th>max</th>\n",
       "      <td>2.012348e+07</td>\n",
       "      <td>49682.000000</td>\n",
       "      <td>10.000000</td>\n",
       "    </tr>\n",
       "  </tbody>\n",
       "</table>\n",
       "</div>"
      ],
      "text/plain": [
       "          StudentID       Tuition  ClassesSkipped\n",
       "count  3.000000e+01     27.000000       28.000000\n",
       "mean   2.012347e+07  39727.592593        4.892857\n",
       "std    8.803408e+00   9749.186961        3.071244\n",
       "min    2.012346e+07     40.000000        0.000000\n",
       "25%    2.012346e+07  34898.500000        2.750000\n",
       "50%    2.012347e+07  42679.000000        4.500000\n",
       "75%    2.012348e+07  45734.000000        7.250000\n",
       "max    2.012348e+07  49682.000000       10.000000"
      ]
     },
     "execution_count": 10,
     "metadata": {},
     "output_type": "execute_result"
    }
   ],
   "source": [
    "# Explore what range of values exist for numerical columns\n",
    "df_grades.describe()"
   ]
  },
  {
   "cell_type": "code",
   "execution_count": 15,
   "metadata": {
    "scrolled": true
   },
   "outputs": [],
   "source": [
    "#Identifying which index is the student's\n"
   ]
  },
  {
   "cell_type": "code",
   "execution_count": 16,
   "metadata": {},
   "outputs": [],
   "source": [
    "# Specify the index in the tuition column to equal 40,000\n"
   ]
  },
  {
   "cell_type": "markdown",
   "metadata": {},
   "source": [
    "### Identify Errors for Data Types\n",
    "\n",
    "When importing data, there may be some data in places that there shouldn't be, whether it is in a different format or data that doesn't belong. For example, you may have noticed when we first imported the dataset that the \"OfficeHoursParticipated\" column had quotation marks to some numbers. Because of this, when we use the `info` function, the data type is shown as an object rather than a float. "
   ]
  },
  {
   "cell_type": "code",
   "execution_count": 13,
   "metadata": {
    "scrolled": true
   },
   "outputs": [
    {
     "name": "stdout",
     "output_type": "stream",
     "text": [
      "<class 'pandas.core.frame.DataFrame'>\n",
      "Int64Index: 30 entries, 0 to 29\n",
      "Data columns (total 8 columns):\n",
      " #   Column          Non-Null Count  Dtype  \n",
      "---  ------          --------------  -----  \n",
      " 0   StudentID       30 non-null     float64\n",
      " 1   FirstName       30 non-null     object \n",
      " 2   LastName        30 non-null     object \n",
      " 3   GradeAvg        30 non-null     object \n",
      " 4   Faculty         30 non-null     object \n",
      " 5   Tuition         27 non-null     float64\n",
      " 6   OHParticipated  28 non-null     object \n",
      " 7   ClassesSkipped  28 non-null     float64\n",
      "dtypes: float64(3), object(5)\n",
      "memory usage: 3.2+ KB\n"
     ]
    }
   ],
   "source": [
    "# Explore what errors exist in the data\n",
    "df_grades.info()"
   ]
  },
  {
   "cell_type": "markdown",
   "metadata": {},
   "source": [
    "To fix this error, we can use the `str.replace` function to extract the quotation marks and convert the entire column into the approrpriate data type. In this case, it would be the float data type for this column."
   ]
  },
  {
   "cell_type": "code",
   "execution_count": 17,
   "metadata": {
    "scrolled": true
   },
   "outputs": [],
   "source": [
    "# Using the str.replace function to extract the quotation mark\n",
    "\n",
    "\n",
    "# Once values have been stripped of the quotation mark, we will convert the entire column to a float\n"
   ]
  },
  {
   "cell_type": "markdown",
   "metadata": {},
   "source": [
    "### Imputation"
   ]
  },
  {
   "cell_type": "markdown",
   "metadata": {},
   "source": [
    "At a basic level, we can replace missing values or errors with any value we wish. But we should think carefully about if the values that we are replacing make sense. For example, a common way of filling in values is to fill in the column using the average of the column distribution. However, in most cases, these averages can really vary depending on other factors, and it may not be the best method to fill in your data.\n",
    "\n",
    "Lets explore ways to fill in our columns better. We will start by identifying the null values in our columns in our dataframe using the `isna` and `sum` functions."
   ]
  },
  {
   "cell_type": "code",
   "execution_count": 16,
   "metadata": {
    "scrolled": false
   },
   "outputs": [
    {
     "data": {
      "text/plain": [
       "StudentID         0\n",
       "FirstName         0\n",
       "LastName          0\n",
       "GradeAvg          0\n",
       "Faculty           0\n",
       "Tuition           3\n",
       "OHParticipated    2\n",
       "ClassesSkipped    2\n",
       "dtype: int64"
      ]
     },
     "execution_count": 16,
     "metadata": {},
     "output_type": "execute_result"
    }
   ],
   "source": [
    "# Look at the count of null values to identify easily which columns contain null values\n",
    "df_grades.isna().sum()"
   ]
  },
  {
   "cell_type": "markdown",
   "metadata": {},
   "source": [
    "We can see that three columns have a null count greater than 0.\n",
    "\n",
    "Some null values can be treated as zeros, whilst some may really be missing values.\n"
   ]
  },
  {
   "cell_type": "markdown",
   "metadata": {},
   "source": [
    "We have confirmed with staff that OHparticipated and ClassesSkipped both appear as null when these values are zero. The team know the data well enough to verify this. Therefore we can fill the nulls with zeros using the fillna() function."
   ]
  },
  {
   "cell_type": "code",
   "execution_count": null,
   "metadata": {
    "scrolled": true
   },
   "outputs": [],
   "source": [
    "#Replace OH_participated nulls with zeros\n",
    "\n",
    "#Replace ClassesSkipped nulls with zeros\n"
   ]
  },
  {
   "cell_type": "code",
   "execution_count": null,
   "metadata": {},
   "outputs": [],
   "source": [
    "#Check the presence of null values in all columns once again\n"
   ]
  },
  {
   "cell_type": "markdown",
   "metadata": {},
   "source": [
    "\n",
    "\n",
    "Lets now finally look at the null values in the \"Tuition\" column."
   ]
  },
  {
   "cell_type": "code",
   "execution_count": 18,
   "metadata": {
    "scrolled": true
   },
   "outputs": [],
   "source": [
    "# Identify the null values in \"Tuition\" column\n"
   ]
  },
  {
   "cell_type": "markdown",
   "metadata": {},
   "source": [
    "In this instance, we cannot use zeros to fill in the values, since it wouldn't make sense for students to not pay any tuition. One approriate approach to filling in these values is to take the average of the tuition of each faculty. That way, the average can be tied to each faculty since each faculty may have different tuition rates. "
   ]
  },
  {
   "cell_type": "code",
   "execution_count": 19,
   "metadata": {
    "scrolled": true
   },
   "outputs": [],
   "source": [
    "# Find tuition averages (returned as series)\n",
    "\n",
    "\n",
    "# Assigning varaibles based on the faculty average\n"
   ]
  },
  {
   "cell_type": "markdown",
   "metadata": {},
   "source": [
    "Finally, we can now check using the info function if there are any null values remaining. "
   ]
  },
  {
   "cell_type": "code",
   "execution_count": null,
   "metadata": {
    "scrolled": true
   },
   "outputs": [],
   "source": [
    "# Check null values in each column\n"
   ]
  },
  {
   "cell_type": "markdown",
   "metadata": {},
   "source": [
    "### Exercise 1 - Removing Unwanted Strings"
   ]
  },
  {
   "cell_type": "markdown",
   "metadata": {},
   "source": [
    "Once again, we are working with the phone dataset. However, as you know we identified a few problems.\n",
    "\n",
    "Task:\n",
    "- Explore the unique values in the marketplace column, identify the typos, and fix them."
   ]
  },
  {
   "cell_type": "code",
   "execution_count": 3,
   "metadata": {
    "scrolled": true
   },
   "outputs": [
    {
     "data": {
      "text/html": [
       "<div>\n",
       "<style scoped>\n",
       "    .dataframe tbody tr th:only-of-type {\n",
       "        vertical-align: middle;\n",
       "    }\n",
       "\n",
       "    .dataframe tbody tr th {\n",
       "        vertical-align: top;\n",
       "    }\n",
       "\n",
       "    .dataframe thead th {\n",
       "        text-align: right;\n",
       "    }\n",
       "</style>\n",
       "<table border=\"1\" class=\"dataframe\">\n",
       "  <thead>\n",
       "    <tr style=\"text-align: right;\">\n",
       "      <th></th>\n",
       "      <th>price</th>\n",
       "      <th>year_made</th>\n",
       "      <th>name</th>\n",
       "      <th>battery_life_percentage</th>\n",
       "      <th>storage</th>\n",
       "      <th>magnet_charging</th>\n",
       "      <th>marketplace</th>\n",
       "      <th>years_owned</th>\n",
       "      <th>visible_scratches</th>\n",
       "      <th>pro</th>\n",
       "      <th>original_sale_price</th>\n",
       "      <th>#_of_previous_owners</th>\n",
       "      <th>megapixel</th>\n",
       "    </tr>\n",
       "  </thead>\n",
       "  <tbody>\n",
       "    <tr>\n",
       "      <th>0</th>\n",
       "      <td>551.0</td>\n",
       "      <td>2019</td>\n",
       "      <td>iPhone_11</td>\n",
       "      <td>74</td>\n",
       "      <td>64</td>\n",
       "      <td>no</td>\n",
       "      <td>kijiji</td>\n",
       "      <td>2</td>\n",
       "      <td>9</td>\n",
       "      <td>no</td>\n",
       "      <td>747</td>\n",
       "      <td>1</td>\n",
       "      <td>12</td>\n",
       "    </tr>\n",
       "    <tr>\n",
       "      <th>1</th>\n",
       "      <td>822.0</td>\n",
       "      <td>2020</td>\n",
       "      <td>iPhone_12</td>\n",
       "      <td>94</td>\n",
       "      <td>128</td>\n",
       "      <td>yes</td>\n",
       "      <td>craigslist</td>\n",
       "      <td>2</td>\n",
       "      <td>6</td>\n",
       "      <td>no</td>\n",
       "      <td>888</td>\n",
       "      <td>1</td>\n",
       "      <td>16</td>\n",
       "    </tr>\n",
       "    <tr>\n",
       "      <th>2</th>\n",
       "      <td>1008.0</td>\n",
       "      <td>2022</td>\n",
       "      <td>iPhone_14</td>\n",
       "      <td>97</td>\n",
       "      <td>256</td>\n",
       "      <td>yes</td>\n",
       "      <td>craigslist!</td>\n",
       "      <td>0</td>\n",
       "      <td>2</td>\n",
       "      <td>no</td>\n",
       "      <td>1185</td>\n",
       "      <td>1</td>\n",
       "      <td>22</td>\n",
       "    </tr>\n",
       "    <tr>\n",
       "      <th>3</th>\n",
       "      <td>NaN</td>\n",
       "      <td>2021</td>\n",
       "      <td>iPhone_13</td>\n",
       "      <td>90</td>\n",
       "      <td>128</td>\n",
       "      <td>yes</td>\n",
       "      <td>craigslist</td>\n",
       "      <td>2</td>\n",
       "      <td>2</td>\n",
       "      <td>no</td>\n",
       "      <td>887</td>\n",
       "      <td>1</td>\n",
       "      <td>20</td>\n",
       "    </tr>\n",
       "    <tr>\n",
       "      <th>4</th>\n",
       "      <td>839.0</td>\n",
       "      <td>2020</td>\n",
       "      <td>iPhone_12</td>\n",
       "      <td>91</td>\n",
       "      <td>256</td>\n",
       "      <td>yes</td>\n",
       "      <td>kijiji</td>\n",
       "      <td>1</td>\n",
       "      <td>5</td>\n",
       "      <td>no</td>\n",
       "      <td>969</td>\n",
       "      <td>1</td>\n",
       "      <td>16</td>\n",
       "    </tr>\n",
       "    <tr>\n",
       "      <th>...</th>\n",
       "      <td>...</td>\n",
       "      <td>...</td>\n",
       "      <td>...</td>\n",
       "      <td>...</td>\n",
       "      <td>...</td>\n",
       "      <td>...</td>\n",
       "      <td>...</td>\n",
       "      <td>...</td>\n",
       "      <td>...</td>\n",
       "      <td>...</td>\n",
       "      <td>...</td>\n",
       "      <td>...</td>\n",
       "      <td>...</td>\n",
       "    </tr>\n",
       "    <tr>\n",
       "      <th>344</th>\n",
       "      <td>1326.0</td>\n",
       "      <td>2022</td>\n",
       "      <td>iPhone_14</td>\n",
       "      <td>91</td>\n",
       "      <td>64</td>\n",
       "      <td>yes</td>\n",
       "      <td>craigslist</td>\n",
       "      <td>0</td>\n",
       "      <td>0</td>\n",
       "      <td>no</td>\n",
       "      <td>1394</td>\n",
       "      <td>1</td>\n",
       "      <td>22</td>\n",
       "    </tr>\n",
       "    <tr>\n",
       "      <th>345</th>\n",
       "      <td>458.0</td>\n",
       "      <td>2019</td>\n",
       "      <td>iPhone_11</td>\n",
       "      <td>75</td>\n",
       "      <td>256</td>\n",
       "      <td>no</td>\n",
       "      <td>facebook</td>\n",
       "      <td>3</td>\n",
       "      <td>3</td>\n",
       "      <td>no</td>\n",
       "      <td>702</td>\n",
       "      <td>2</td>\n",
       "      <td>12</td>\n",
       "    </tr>\n",
       "    <tr>\n",
       "      <th>346</th>\n",
       "      <td>487.0</td>\n",
       "      <td>2019</td>\n",
       "      <td>iPhone_11</td>\n",
       "      <td>87</td>\n",
       "      <td>256</td>\n",
       "      <td>no</td>\n",
       "      <td>facebook</td>\n",
       "      <td>1</td>\n",
       "      <td>7</td>\n",
       "      <td>no</td>\n",
       "      <td>781</td>\n",
       "      <td>2</td>\n",
       "      <td>12</td>\n",
       "    </tr>\n",
       "    <tr>\n",
       "      <th>347</th>\n",
       "      <td>1340.0</td>\n",
       "      <td>2022</td>\n",
       "      <td>iPhone_14</td>\n",
       "      <td>100</td>\n",
       "      <td>256</td>\n",
       "      <td>yes</td>\n",
       "      <td>craigslist</td>\n",
       "      <td>0</td>\n",
       "      <td>0</td>\n",
       "      <td>no</td>\n",
       "      <td>1411</td>\n",
       "      <td>1</td>\n",
       "      <td>22</td>\n",
       "    </tr>\n",
       "    <tr>\n",
       "      <th>348</th>\n",
       "      <td>1144.0</td>\n",
       "      <td>2021</td>\n",
       "      <td>iPhone_13</td>\n",
       "      <td>94</td>\n",
       "      <td>128</td>\n",
       "      <td>yes</td>\n",
       "      <td>facebook</td>\n",
       "      <td>1</td>\n",
       "      <td>1</td>\n",
       "      <td>yes</td>\n",
       "      <td>1249</td>\n",
       "      <td>1</td>\n",
       "      <td>20</td>\n",
       "    </tr>\n",
       "  </tbody>\n",
       "</table>\n",
       "<p>349 rows × 13 columns</p>\n",
       "</div>"
      ],
      "text/plain": [
       "      price  year_made       name  battery_life_percentage  storage  \\\n",
       "0     551.0       2019  iPhone_11                       74       64   \n",
       "1     822.0       2020  iPhone_12                       94      128   \n",
       "2    1008.0       2022  iPhone_14                       97      256   \n",
       "3       NaN       2021  iPhone_13                       90      128   \n",
       "4     839.0       2020  iPhone_12                       91      256   \n",
       "..      ...        ...        ...                      ...      ...   \n",
       "344  1326.0       2022  iPhone_14                       91       64   \n",
       "345   458.0       2019  iPhone_11                       75      256   \n",
       "346   487.0       2019  iPhone_11                       87      256   \n",
       "347  1340.0       2022  iPhone_14                      100      256   \n",
       "348  1144.0       2021  iPhone_13                       94      128   \n",
       "\n",
       "    magnet_charging  marketplace  years_owned  visible_scratches  pro  \\\n",
       "0                no       kijiji            2                  9   no   \n",
       "1               yes   craigslist            2                  6   no   \n",
       "2               yes  craigslist!            0                  2   no   \n",
       "3               yes   craigslist            2                  2   no   \n",
       "4               yes       kijiji            1                  5   no   \n",
       "..              ...          ...          ...                ...  ...   \n",
       "344             yes   craigslist            0                  0   no   \n",
       "345              no     facebook            3                  3   no   \n",
       "346              no     facebook            1                  7   no   \n",
       "347             yes   craigslist            0                  0   no   \n",
       "348             yes     facebook            1                  1  yes   \n",
       "\n",
       "     original_sale_price  #_of_previous_owners  megapixel  \n",
       "0                    747                     1         12  \n",
       "1                    888                     1         16  \n",
       "2                   1185                     1         22  \n",
       "3                    887                     1         20  \n",
       "4                    969                     1         16  \n",
       "..                   ...                   ...        ...  \n",
       "344                 1394                     1         22  \n",
       "345                  702                     2         12  \n",
       "346                  781                     2         12  \n",
       "347                 1411                     1         22  \n",
       "348                 1249                     1         20  \n",
       "\n",
       "[349 rows x 13 columns]"
      ]
     },
     "execution_count": 3,
     "metadata": {},
     "output_type": "execute_result"
    }
   ],
   "source": [
    "# Import data to a pandas dataframe\n",
    "df_phone = pd.read_csv('phone_marketplace_dataset_cleaning_set.csv')\n",
    "df_phone"
   ]
  },
  {
   "cell_type": "code",
   "execution_count": 1,
   "metadata": {
    "scrolled": true
   },
   "outputs": [],
   "source": [
    "# Explore the unique values in the marketplace column\n"
   ]
  },
  {
   "cell_type": "code",
   "execution_count": 5,
   "metadata": {},
   "outputs": [],
   "source": [
    "#Replace or remove all ! in the marketplace column\n"
   ]
  },
  {
   "cell_type": "markdown",
   "metadata": {},
   "source": [
    "### Exercise 2 - Imputing Nulls with Appropriate Values"
   ]
  },
  {
   "cell_type": "markdown",
   "metadata": {},
   "source": [
    "Identify the column that has null values and populate the values using a basic imputation method of your choice.\n",
    "\n",
    "Task:\n",
    "- Identify the columns that need to be dealt with\n",
    "- Populate missing values with a basic imputation method of your choice"
   ]
  },
  {
   "cell_type": "code",
   "execution_count": null,
   "metadata": {
    "scrolled": false
   },
   "outputs": [],
   "source": [
    "df_phone.isna().sum()"
   ]
  },
  {
   "cell_type": "code",
   "execution_count": 2,
   "metadata": {},
   "outputs": [],
   "source": [
    "# Check the rows that are null\n"
   ]
  },
  {
   "cell_type": "code",
   "execution_count": 6,
   "metadata": {},
   "outputs": [],
   "source": [
    "# Find phone price averages (returned as series)\n"
   ]
  },
  {
   "cell_type": "code",
   "execution_count": 3,
   "metadata": {
    "scrolled": false
   },
   "outputs": [],
   "source": [
    "# Option 1: Using np.where with the loc function for phone averages\n"
   ]
  },
  {
   "cell_type": "code",
   "execution_count": 4,
   "metadata": {
    "scrolled": true
   },
   "outputs": [],
   "source": [
    "# Checking to see if anymore null values are left\n"
   ]
  }
 ],
 "metadata": {
  "kernelspec": {
   "display_name": "Python 3",
   "language": "python",
   "name": "python3"
  },
  "language_info": {
   "codemirror_mode": {
    "name": "ipython",
    "version": 3
   },
   "file_extension": ".py",
   "mimetype": "text/x-python",
   "name": "python",
   "nbconvert_exporter": "python",
   "pygments_lexer": "ipython3",
   "version": "3.8.5"
  }
 },
 "nbformat": 4,
 "nbformat_minor": 4
}
