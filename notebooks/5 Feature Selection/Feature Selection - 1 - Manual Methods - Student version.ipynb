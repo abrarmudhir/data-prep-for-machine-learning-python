{
 "cells": [
  {
   "cell_type": "markdown",
   "id": "f70c1eff",
   "metadata": {},
   "source": [
    "# Manual Feature Selection"
   ]
  },
  {
   "cell_type": "markdown",
   "id": "9da1de2e",
   "metadata": {},
   "source": [
    "The simplest method of selecting features that offer predictive power to our target variable is to use our external and domain knowledge to select our features with confidence. In this notebook, we will recap simple methods that you've seen throughout the course, and recap when it appropriate to use them.\n",
    "\n",
    "These manual methods will become more and more redundant as you explore more advanced techniques, but they serve as a useful way to explore your features manually."
   ]
  },
  {
   "cell_type": "markdown",
   "id": "f88653a0",
   "metadata": {},
   "source": [
    "### Import Basic Packages & Data"
   ]
  },
  {
   "cell_type": "code",
   "execution_count": null,
   "id": "f79440b2",
   "metadata": {},
   "outputs": [],
   "source": [
    "#Load the required libraries\n",
    "\n",
    "# Data manipulation libraries\n",
    "import pandas as pd\n",
    "import numpy as np\n",
    "\n",
    "# Data visualisation libraries\n",
    "import matplotlib.pyplot as plt\n",
    "import seaborn as sns"
   ]
  },
  {
   "cell_type": "code",
   "execution_count": null,
   "id": "34ce2c68",
   "metadata": {
    "scrolled": true
   },
   "outputs": [],
   "source": [
    "# Import data to a pandas dataframe\n",
    "df_cars = pd.read_csv('indian cars dataset incnulls.csv')\n",
    "\n",
    "df_cars.head()\n",
    "\n",
    "# We will be working with the Indian cars dataset. The target variable in this instance is the starting price of a vehicle."
   ]
  },
  {
   "cell_type": "markdown",
   "id": "e414f51a",
   "metadata": {},
   "source": [
    "### Removing Features Using Domain Knowledge\n",
    "\n",
    "Most importantly, we can use our domain or situation knowledge of the scenario we are working with to make conclusions about which features to select.\n",
    "\n",
    "- Some data may simply be unavailable in a real world scenario.\n",
    "- Some data might be available, but deemed too expensive to collect by the business. \n",
    "- Some features may have a known scientific or commonly known connection.\n",
    "\n",
    "**In this case** we are trying to predict the starting price of each auction. We therefore know that the ending price will not be available to help us with the prediction (The ending price cannot exist if the starting price is still unknown). For this reason, the feature is irrelevant when predicting our target variable and can be removed."
   ]
  },
  {
   "cell_type": "code",
   "execution_count": null,
   "id": "90144933",
   "metadata": {
    "scrolled": true
   },
   "outputs": [],
   "source": [
    "# Removing irrelevant feature\n",
    "df_cars  = df_cars.drop(columns = ['ending_price'])\n",
    "df_cars"
   ]
  },
  {
   "cell_type": "markdown",
   "id": "52482df5",
   "metadata": {},
   "source": [
    "### Removing Features Based on Logical Reasoning\n",
    "\n",
    "When we look at our dataset, we can use our understanding of our data to make some obvious decisions about predictive power. \n",
    "\n",
    "For example, we can say that the name of the car is not going to be helpful when predicting the starting price of a car. There are 199 distinct car names out of 203 rows of data, which would mean that there is hardly any predictive power in that feature. \n",
    "\n",
    "Inversely, if there is a feature in our dataset that has only one unique value, then there is no reason to keep that feature as that does not provide any predictive power as well."
   ]
  },
  {
   "cell_type": "code",
   "execution_count": null,
   "id": "2f1fa040",
   "metadata": {
    "scrolled": true
   },
   "outputs": [],
   "source": [
    "# Use the unique function to explore how many unique values in each column.\n",
    "df_cars.nunique()"
   ]
  },
  {
   "cell_type": "markdown",
   "id": "37dedc56",
   "metadata": {},
   "source": [
    "With this knowledge, we will choose to drop the car name feature from our data."
   ]
  },
  {
   "cell_type": "code",
   "execution_count": null,
   "id": "12319810",
   "metadata": {
    "scrolled": true
   },
   "outputs": [],
   "source": [
    "df_cars = df_cars.drop(columns = ['car_name'])\n",
    "df_cars"
   ]
  },
  {
   "cell_type": "markdown",
   "id": "c2d8e90f",
   "metadata": {},
   "source": [
    "### Removing Features Based on Incomplete or Missing Data\n",
    "\n",
    "In our cleaning data chapter, we identified and populated null values where possible using a technique called imputation.\n",
    "\n",
    "However this may not always be possible."
   ]
  },
  {
   "cell_type": "code",
   "execution_count": null,
   "id": "61dafdf5",
   "metadata": {},
   "outputs": [],
   "source": [
    "df_cars.isnull().sum()"
   ]
  },
  {
   "cell_type": "markdown",
   "id": "7946413b",
   "metadata": {},
   "source": [
    "If for whatever reason, a feature still has a high number of nulls, we may consider dropping the feature entirely. The decision to do this depends on how important or powerful the feature is likely to be in our model. We should also consider whether null values should be expected in the scenario.\n",
    "\n",
    "- For example, in a feature containing Marriage_Date, we may expect a significant % of nulls.\n",
    "- If an important feature from domain knowledge perspective has many nulls, we may ask the business to provide more data.\n",
    "\n",
    "Note: There are no black and white rules for removing features."
   ]
  }
 ],
 "metadata": {
  "kernelspec": {
   "display_name": "Python 3 (ipykernel)",
   "language": "python",
   "name": "python3"
  },
  "language_info": {
   "codemirror_mode": {
    "name": "ipython",
    "version": 3
   },
   "file_extension": ".py",
   "mimetype": "text/x-python",
   "name": "python",
   "nbconvert_exporter": "python",
   "pygments_lexer": "ipython3",
   "version": "3.9.7"
  }
 },
 "nbformat": 4,
 "nbformat_minor": 5
}
