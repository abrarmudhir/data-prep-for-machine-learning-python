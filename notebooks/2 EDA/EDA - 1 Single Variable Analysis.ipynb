{
 "cells": [
  {
   "cell_type": "markdown",
   "metadata": {},
   "source": [
    "# EDA - Single Variable Analysis (Univariate Analysis)"
   ]
  },
  {
   "cell_type": "markdown",
   "metadata": {},
   "source": [
    "In this notebook we'll explore the techniques most commonly used to investigate features one by one in a dataset."
   ]
  },
  {
   "cell_type": "markdown",
   "metadata": {},
   "source": [
    "### Import Basic Packages & Data \n",
    "\n",
    "We will import the student grades dataset once again to explore various univariate analysis techniques."
   ]
  },
  {
   "cell_type": "code",
   "execution_count": 1,
   "metadata": {},
   "outputs": [],
   "source": [
    "#Basics\n",
    "import numpy as np\n",
    "import pandas as pd"
   ]
  },
  {
   "cell_type": "code",
   "execution_count": 2,
   "metadata": {},
   "outputs": [
    {
     "data": {
      "text/html": [
       "<div>\n",
       "<style scoped>\n",
       "    .dataframe tbody tr th:only-of-type {\n",
       "        vertical-align: middle;\n",
       "    }\n",
       "\n",
       "    .dataframe tbody tr th {\n",
       "        vertical-align: top;\n",
       "    }\n",
       "\n",
       "    .dataframe thead th {\n",
       "        text-align: right;\n",
       "    }\n",
       "</style>\n",
       "<table border=\"1\" class=\"dataframe\">\n",
       "  <thead>\n",
       "    <tr style=\"text-align: right;\">\n",
       "      <th></th>\n",
       "      <th>student_ID</th>\n",
       "      <th>first_name</th>\n",
       "      <th>last_name</th>\n",
       "      <th>faculty</th>\n",
       "      <th>tuition</th>\n",
       "      <th>OH_participated</th>\n",
       "      <th>classes_skipped</th>\n",
       "      <th>grade_avg</th>\n",
       "    </tr>\n",
       "  </thead>\n",
       "  <tbody>\n",
       "    <tr>\n",
       "      <th>0</th>\n",
       "      <td>20123456</td>\n",
       "      <td>John</td>\n",
       "      <td>Park</td>\n",
       "      <td>Arts</td>\n",
       "      <td>44191</td>\n",
       "      <td>0</td>\n",
       "      <td>5</td>\n",
       "      <td>B</td>\n",
       "    </tr>\n",
       "    <tr>\n",
       "      <th>1</th>\n",
       "      <td>20123457</td>\n",
       "      <td>Alex</td>\n",
       "      <td>Great</td>\n",
       "      <td>Science</td>\n",
       "      <td>32245</td>\n",
       "      <td>4</td>\n",
       "      <td>10</td>\n",
       "      <td>B</td>\n",
       "    </tr>\n",
       "    <tr>\n",
       "      <th>2</th>\n",
       "      <td>20123458</td>\n",
       "      <td>Sebastian</td>\n",
       "      <td>Taylor</td>\n",
       "      <td>Business</td>\n",
       "      <td>42679</td>\n",
       "      <td>6</td>\n",
       "      <td>7</td>\n",
       "      <td>B</td>\n",
       "    </tr>\n",
       "    <tr>\n",
       "      <th>3</th>\n",
       "      <td>20123459</td>\n",
       "      <td>Michael</td>\n",
       "      <td>Bay</td>\n",
       "      <td>Math</td>\n",
       "      <td>46478</td>\n",
       "      <td>15</td>\n",
       "      <td>2</td>\n",
       "      <td>A</td>\n",
       "    </tr>\n",
       "    <tr>\n",
       "      <th>4</th>\n",
       "      <td>20123460</td>\n",
       "      <td>Scott</td>\n",
       "      <td>Foster</td>\n",
       "      <td>Engineering</td>\n",
       "      <td>36784</td>\n",
       "      <td>5</td>\n",
       "      <td>8</td>\n",
       "      <td>A</td>\n",
       "    </tr>\n",
       "  </tbody>\n",
       "</table>\n",
       "</div>"
      ],
      "text/plain": [
       "   student_ID first_name last_name      faculty  tuition  OH_participated  \\\n",
       "0    20123456       John      Park         Arts    44191                0   \n",
       "1    20123457       Alex     Great      Science    32245                4   \n",
       "2    20123458  Sebastian    Taylor     Business    42679                6   \n",
       "3    20123459    Michael       Bay         Math    46478               15   \n",
       "4    20123460      Scott    Foster  Engineering    36784                5   \n",
       "\n",
       "   classes_skipped grade_avg  \n",
       "0                5         B  \n",
       "1               10         B  \n",
       "2                7         B  \n",
       "3                2         A  \n",
       "4                8         A  "
      ]
     },
     "execution_count": 2,
     "metadata": {},
     "output_type": "execute_result"
    }
   ],
   "source": [
    "# Import data to a pandas dataframe\n",
    "df_grades = pd.read_csv('student_grades_eda.csv')\n",
    "df_grades.head()\n",
    "\n",
    "# We will be working with the student grades EDA dataset. The target variable in this instance is the grade average of the student."
   ]
  },
  {
   "cell_type": "markdown",
   "metadata": {},
   "source": [
    "### Descriptive Stats for Numeric Features"
   ]
  },
  {
   "cell_type": "markdown",
   "metadata": {},
   "source": [
    "In the previous chapter, we discussed about the `describe` function to show a summary of stats for a numeric column. We initially used this function to clean our data, but this is also a very effective way to look at the distribution of our numeric column."
   ]
  },
  {
   "cell_type": "code",
   "execution_count": 3,
   "metadata": {
    "scrolled": true
   },
   "outputs": [
    {
     "data": {
      "text/plain": [
       "count    30.000000\n",
       "mean      4.733333\n",
       "std       3.027840\n",
       "min       0.000000\n",
       "25%       2.250000\n",
       "50%       4.000000\n",
       "75%       7.000000\n",
       "max      10.000000\n",
       "Name: classes_skipped, dtype: float64"
      ]
     },
     "execution_count": 3,
     "metadata": {},
     "output_type": "execute_result"
    }
   ],
   "source": [
    "# Summary of statistics\n",
    "df_grades['classes_skipped'].describe()"
   ]
  },
  {
   "cell_type": "markdown",
   "metadata": {},
   "source": [
    "What if we want to single out a specific statistical measure? We can use functions such as the `mean` function and others to get the specific statistical measure for each numerical feature."
   ]
  },
  {
   "cell_type": "code",
   "execution_count": 4,
   "metadata": {
    "scrolled": true
   },
   "outputs": [
    {
     "name": "stdout",
     "output_type": "stream",
     "text": [
      "40307.066666666666\n",
      "34824.75\n",
      "5792.681196447648\n",
      "33555155.44367816\n"
     ]
    }
   ],
   "source": [
    "# Manually return a statistic of interest \n",
    "print(df_grades['tuition'].mean())\n",
    "print(df_grades['tuition'].quantile(0.25))\n",
    "print(df_grades['tuition'].std())\n",
    "print(df_grades['tuition'].var())"
   ]
  },
  {
   "cell_type": "markdown",
   "metadata": {},
   "source": [
    "### Basic packages for data visualization"
   ]
  },
  {
   "cell_type": "code",
   "execution_count": 5,
   "metadata": {},
   "outputs": [],
   "source": [
    "# basic packages for visualization. \n",
    "import seaborn as sns\n",
    "import matplotlib.pyplot as plt"
   ]
  },
  {
   "cell_type": "markdown",
   "metadata": {},
   "source": [
    "### Basic Plots for Numeric Features"
   ]
  },
  {
   "cell_type": "markdown",
   "metadata": {},
   "source": [
    "The simpliest yet most effective way to display findings and analysis is with the use of visuals. The two most common packages for visualizations are the `seaborn` and `matplotlib` packages. For the lesson, we will use the `seaborn` package to create our plots.\n",
    "\n",
    "We will first go over a histogram, which displays the distribution of a numeric column. Histograms allow us to see the shape of the data to easily see insights such as where the data is most concentrated, how spread out the data is, and how skewed the data is. "
   ]
  },
  {
   "cell_type": "code",
   "execution_count": 6,
   "metadata": {},
   "outputs": [
    {
     "data": {
      "image/png": "[encoded data removed]",
      "text/plain": [
       "<Figure size 432x288 with 1 Axes>"
      ]
     },
     "metadata": {
      "needs_background": "light"
     },
     "output_type": "display_data"
    }
   ],
   "source": [
    "# Show a basic histplot of the ClassesSkipped column \n",
    "histplot = sns.histplot(data = df_grades, x ='classes_skipped', binwidth = 1)"
   ]
  },
  {
   "cell_type": "markdown",
   "metadata": {},
   "source": [
    "One other simple yet effective way to show a distribution and to identify outliers is through a box plot. Box plots allow us to see the quartiles of a distribution and allows us to easily see outliers. We normally consider anything outside of the whisker based on the IQR rule."
   ]
  },
  {
   "cell_type": "code",
   "execution_count": 7,
   "metadata": {
    "scrolled": false
   },
   "outputs": [
    {
     "data": {
      "image/png": "[encoded data removed]",
      "text/plain": [
       "<Figure size 432x288 with 1 Axes>"
      ]
     },
     "metadata": {
      "needs_background": "light"
     },
     "output_type": "display_data"
    }
   ],
   "source": [
    "# Plot a box plot for the office hours participated column. \n",
    "boxplot = sns.boxplot(data = df_grades, x = 'OH_participated')"
   ]
  },
  {
   "cell_type": "markdown",
   "metadata": {},
   "source": [
    "One key note when looking for outliers based on the whiskers of the box plot is that the whiskers always assumes outliers based on the IQR rule. "
   ]
  },
  {
   "cell_type": "markdown",
   "metadata": {},
   "source": [
    "We can also combine the two above visuals into one by combining their axis together. For example, we will combine the x axis of both charts to neatly visualize the distributions."
   ]
  },
  {
   "cell_type": "code",
   "execution_count": 8,
   "metadata": {
    "scrolled": true
   },
   "outputs": [
    {
     "data": {
      "image/png": "[encoded data removed]",
      "text/plain": [
       "<Figure size 432x288 with 2 Axes>"
      ]
     },
     "metadata": {
      "needs_background": "light"
     },
     "output_type": "display_data"
    }
   ],
   "source": [
    "# Plot a histogram and blox plot together and make them share the same axis\n",
    "fig, (hist, box) = plt.subplots(2, 1,sharex=True)\n",
    "histplot = sns.histplot(data = df_grades, x ='classes_skipped', discrete = True, ax = hist)\n",
    "boxplot = sns.boxplot(data = df_grades, x = 'classes_skipped', orient='h', ax = box)"
   ]
  },
  {
   "cell_type": "markdown",
   "metadata": {},
   "source": [
    "Not only can we create visuals just by referencing the data in our dataframe, but we can create visuals by combining functions together and plot the result. For example, we can calculate the distribution of z-scores by combining the `mean` and `std` functions together."
   ]
  },
  {
   "cell_type": "code",
   "execution_count": 9,
   "metadata": {},
   "outputs": [
    {
     "data": {
      "image/png": "[encoded data removed]",
      "text/plain": [
       "<Figure size 432x288 with 1 Axes>"
      ]
     },
     "metadata": {
      "needs_background": "light"
     },
     "output_type": "display_data"
    }
   ],
   "source": [
    "#Plot the Z scores of the values in a column\n",
    "mean = df_grades['OH_participated'].mean()\n",
    "std = df_grades['OH_participated'].std()\n",
    "df_grades['OHZ'] = (df_grades['OH_participated'] - mean )/ std\n",
    "histplot = sns.histplot(data = df_grades, x ='OHZ')"
   ]
  },
  {
   "cell_type": "markdown",
   "metadata": {},
   "source": [
    "### Basic Plots for Categorical Features"
   ]
  },
  {
   "cell_type": "markdown",
   "metadata": {},
   "source": [
    "So far, we have looked at EDA for numerical columns. But what about categorical columns? We will now look at various ways we can conduct EDA for these features.\n",
    "\n",
    "One of the most basic plots for categorical features is the use of the `countplot` function. This allows us to see the count of each unique categorical value in the feature."
   ]
  },
  {
   "cell_type": "code",
   "execution_count": 10,
   "metadata": {},
   "outputs": [
    {
     "data": {
      "image/png": "[encoded data removed]",
      "text/plain": [
       "<Figure size 432x288 with 1 Axes>"
      ]
     },
     "metadata": {
      "needs_background": "light"
     },
     "output_type": "display_data"
    }
   ],
   "source": [
    "# Plot the count of the categories in the Faculty column and then order them.\n",
    "# faculty_counts = df_grades['faculty'].value_counts().index\n",
    "countplot = sns.countplot(data = df_grades, x ='faculty', order = df_grades['faculty'].value_counts().index)"
   ]
  },
  {
   "cell_type": "code",
   "execution_count": 11,
   "metadata": {
    "scrolled": false
   },
   "outputs": [
    {
     "data": {
      "image/png": "[encoded data removed]",
      "text/plain": [
       "<Figure size 360x360 with 1 Axes>"
      ]
     },
     "metadata": {
      "needs_background": "light"
     },
     "output_type": "display_data"
    }
   ],
   "source": [
    "# Plot the percentage of observations in each category and order by frequency\n",
    "displot = sns.displot(data = df_grades, x ='faculty', stat=\"density\" )"
   ]
  },
  {
   "cell_type": "markdown",
   "metadata": {},
   "source": [
    "Another way of displaying categorical values is with the use of pie charts. "
   ]
  },
  {
   "cell_type": "code",
   "execution_count": 12,
   "metadata": {
    "scrolled": true
   },
   "outputs": [
    {
     "data": {
      "image/png": "[encoded data removed]",
      "text/plain": [
       "<Figure size 432x288 with 1 Axes>"
      ]
     },
     "metadata": {},
     "output_type": "display_data"
    }
   ],
   "source": [
    "# Plotting via pie chart\n",
    "pie_data = df_grades['faculty'].value_counts()\n",
    "plt.pie(pie_data.values, labels = pie_data.index, autopct=\"%.1f%%\")\n",
    "plt.show()"
   ]
  },
  {
   "cell_type": "markdown",
   "metadata": {},
   "source": [
    "However, we do not recommend pie charts with large amount of unique values since it can look quite messy, but it can be an option that can cater to a particular audience."
   ]
  },
  {
   "cell_type": "markdown",
   "metadata": {},
   "source": [
    "### Exercise 1 (Basic) - Visuals for Categorical Features"
   ]
  },
  {
   "cell_type": "markdown",
   "metadata": {},
   "source": [
    "We will now import our data Indian Car Dataset. This dataset has the information of cars sold as well as their attributes. We will first look at creating visuals for the categorical features in this dataset."
   ]
  },
  {
   "cell_type": "code",
   "execution_count": 26,
   "metadata": {
    "scrolled": true
   },
   "outputs": [
    {
     "data": {
      "text/html": [
       "<div>\n",
       "<style scoped>\n",
       "    .dataframe tbody tr th:only-of-type {\n",
       "        vertical-align: middle;\n",
       "    }\n",
       "\n",
       "    .dataframe tbody tr th {\n",
       "        vertical-align: top;\n",
       "    }\n",
       "\n",
       "    .dataframe thead th {\n",
       "        text-align: right;\n",
       "    }\n",
       "</style>\n",
       "<table border=\"1\" class=\"dataframe\">\n",
       "  <thead>\n",
       "    <tr style=\"text-align: right;\">\n",
       "      <th></th>\n",
       "      <th>ending_price</th>\n",
       "      <th>starting_price</th>\n",
       "      <th>reviews_count</th>\n",
       "      <th>max_torque_nm</th>\n",
       "      <th>max_torque_rpm</th>\n",
       "      <th>max_power_bhp</th>\n",
       "      <th>max_power_rp</th>\n",
       "      <th>fuel_tank_capacity</th>\n",
       "      <th>no_cylinder</th>\n",
       "      <th>rating</th>\n",
       "      <th>seating_capacity</th>\n",
       "      <th>fuel_type</th>\n",
       "      <th>engine_displacement</th>\n",
       "      <th>transmission_type</th>\n",
       "      <th>body_type</th>\n",
       "      <th>car_name</th>\n",
       "    </tr>\n",
       "  </thead>\n",
       "  <tbody>\n",
       "    <tr>\n",
       "      <th>0</th>\n",
       "      <td>583000</td>\n",
       "      <td>399000</td>\n",
       "      <td>51</td>\n",
       "      <td>89.0</td>\n",
       "      <td>3500</td>\n",
       "      <td>65.71</td>\n",
       "      <td>5500</td>\n",
       "      <td>27.0</td>\n",
       "      <td>3</td>\n",
       "      <td>4.5</td>\n",
       "      <td>5.0</td>\n",
       "      <td>Petrol</td>\n",
       "      <td>998</td>\n",
       "      <td>Automatic</td>\n",
       "      <td>Hatchback</td>\n",
       "      <td>Maruti Alto K10</td>\n",
       "    </tr>\n",
       "    <tr>\n",
       "      <th>1</th>\n",
       "      <td>1396000</td>\n",
       "      <td>799000</td>\n",
       "      <td>86</td>\n",
       "      <td>136.8</td>\n",
       "      <td>4400</td>\n",
       "      <td>101.65</td>\n",
       "      <td>6000</td>\n",
       "      <td>48.0</td>\n",
       "      <td>4</td>\n",
       "      <td>4.5</td>\n",
       "      <td>5.0</td>\n",
       "      <td>Petrol</td>\n",
       "      <td>1462</td>\n",
       "      <td>Automatic</td>\n",
       "      <td>SUV</td>\n",
       "      <td>Maruti Brezza</td>\n",
       "    </tr>\n",
       "    <tr>\n",
       "      <th>2</th>\n",
       "      <td>1603000</td>\n",
       "      <td>1353000</td>\n",
       "      <td>242</td>\n",
       "      <td>300.0</td>\n",
       "      <td>2800</td>\n",
       "      <td>130.00</td>\n",
       "      <td>3750</td>\n",
       "      <td>57.0</td>\n",
       "      <td>4</td>\n",
       "      <td>4.5</td>\n",
       "      <td>4.0</td>\n",
       "      <td>Diesel</td>\n",
       "      <td>2184</td>\n",
       "      <td>Automatic</td>\n",
       "      <td>SUV</td>\n",
       "      <td>Mahindra Thar</td>\n",
       "    </tr>\n",
       "    <tr>\n",
       "      <th>3</th>\n",
       "      <td>2458000</td>\n",
       "      <td>1318000</td>\n",
       "      <td>313</td>\n",
       "      <td>450.0</td>\n",
       "      <td>2800</td>\n",
       "      <td>182.38</td>\n",
       "      <td>3500</td>\n",
       "      <td>60.0</td>\n",
       "      <td>4</td>\n",
       "      <td>4.5</td>\n",
       "      <td>7.0</td>\n",
       "      <td>Diesel</td>\n",
       "      <td>2198</td>\n",
       "      <td>Automatic</td>\n",
       "      <td>SUV</td>\n",
       "      <td>Mahindra XUV700</td>\n",
       "    </tr>\n",
       "    <tr>\n",
       "      <th>4</th>\n",
       "      <td>2390000</td>\n",
       "      <td>1199000</td>\n",
       "      <td>107</td>\n",
       "      <td>400.0</td>\n",
       "      <td>2750</td>\n",
       "      <td>172.45</td>\n",
       "      <td>3500</td>\n",
       "      <td>57.0</td>\n",
       "      <td>4</td>\n",
       "      <td>4.5</td>\n",
       "      <td>7.0</td>\n",
       "      <td>Diesel</td>\n",
       "      <td>2198</td>\n",
       "      <td>Automatic</td>\n",
       "      <td>SUV</td>\n",
       "      <td>Mahindra Scorpio-N</td>\n",
       "    </tr>\n",
       "    <tr>\n",
       "      <th>...</th>\n",
       "      <td>...</td>\n",
       "      <td>...</td>\n",
       "      <td>...</td>\n",
       "      <td>...</td>\n",
       "      <td>...</td>\n",
       "      <td>...</td>\n",
       "      <td>...</td>\n",
       "      <td>...</td>\n",
       "      <td>...</td>\n",
       "      <td>...</td>\n",
       "      <td>...</td>\n",
       "      <td>...</td>\n",
       "      <td>...</td>\n",
       "      <td>...</td>\n",
       "      <td>...</td>\n",
       "      <td>...</td>\n",
       "    </tr>\n",
       "    <tr>\n",
       "      <th>198</th>\n",
       "      <td>999000</td>\n",
       "      <td>659000</td>\n",
       "      <td>35</td>\n",
       "      <td>500.0</td>\n",
       "      <td>5250</td>\n",
       "      <td>415.71</td>\n",
       "      <td>6750</td>\n",
       "      <td>0.0</td>\n",
       "      <td>4</td>\n",
       "      <td>4.5</td>\n",
       "      <td>5.0</td>\n",
       "      <td>Petrol</td>\n",
       "      <td>1991</td>\n",
       "      <td>Automatic</td>\n",
       "      <td>Hatchback</td>\n",
       "      <td>Mercedes-Benz AMG A 45 S</td>\n",
       "    </tr>\n",
       "    <tr>\n",
       "      <th>199</th>\n",
       "      <td>1041000</td>\n",
       "      <td>1041000</td>\n",
       "      <td>3</td>\n",
       "      <td>400.0</td>\n",
       "      <td>4400</td>\n",
       "      <td>254.79</td>\n",
       "      <td>5000</td>\n",
       "      <td>59.0</td>\n",
       "      <td>4</td>\n",
       "      <td>4.5</td>\n",
       "      <td>5.0</td>\n",
       "      <td>Petrol</td>\n",
       "      <td>1998</td>\n",
       "      <td>Automatic</td>\n",
       "      <td>Sedan</td>\n",
       "      <td>BMW 3 Series Gran Limousine</td>\n",
       "    </tr>\n",
       "    <tr>\n",
       "      <th>200</th>\n",
       "      <td>2075000</td>\n",
       "      <td>1615000</td>\n",
       "      <td>2</td>\n",
       "      <td>350.0</td>\n",
       "      <td>2500</td>\n",
       "      <td>167.67</td>\n",
       "      <td>3750</td>\n",
       "      <td>60.0</td>\n",
       "      <td>4</td>\n",
       "      <td>4.5</td>\n",
       "      <td>7.0</td>\n",
       "      <td>Diesel</td>\n",
       "      <td>1956</td>\n",
       "      <td>Manual</td>\n",
       "      <td>SUV</td>\n",
       "      <td>MG Hector Plus</td>\n",
       "    </tr>\n",
       "    <tr>\n",
       "      <th>201</th>\n",
       "      <td>21700000</td>\n",
       "      <td>21700000</td>\n",
       "      <td>9</td>\n",
       "      <td>800.0</td>\n",
       "      <td>4500</td>\n",
       "      <td>591.39</td>\n",
       "      <td>6000</td>\n",
       "      <td>85.0</td>\n",
       "      <td>8</td>\n",
       "      <td>3.5</td>\n",
       "      <td>5.0</td>\n",
       "      <td>Petrol</td>\n",
       "      <td>3998</td>\n",
       "      <td>Automatic</td>\n",
       "      <td>SUV</td>\n",
       "      <td>Audi RS Q8</td>\n",
       "    </tr>\n",
       "    <tr>\n",
       "      <th>202</th>\n",
       "      <td>397000</td>\n",
       "      <td>391000</td>\n",
       "      <td>4</td>\n",
       "      <td>69.0</td>\n",
       "      <td>3500</td>\n",
       "      <td>47.33</td>\n",
       "      <td>6000</td>\n",
       "      <td>35.0</td>\n",
       "      <td>3</td>\n",
       "      <td>4.5</td>\n",
       "      <td>5.0</td>\n",
       "      <td>Petrol</td>\n",
       "      <td>796</td>\n",
       "      <td>Manual</td>\n",
       "      <td>Hatchback</td>\n",
       "      <td>Maruti Alto 800 tour</td>\n",
       "    </tr>\n",
       "  </tbody>\n",
       "</table>\n",
       "<p>203 rows × 16 columns</p>\n",
       "</div>"
      ],
      "text/plain": [
       "     ending_price  starting_price  reviews_count  max_torque_nm  \\\n",
       "0          583000          399000             51           89.0   \n",
       "1         1396000          799000             86          136.8   \n",
       "2         1603000         1353000            242          300.0   \n",
       "3         2458000         1318000            313          450.0   \n",
       "4         2390000         1199000            107          400.0   \n",
       "..            ...             ...            ...            ...   \n",
       "198        999000          659000             35          500.0   \n",
       "199       1041000         1041000              3          400.0   \n",
       "200       2075000         1615000              2          350.0   \n",
       "201      21700000        21700000              9          800.0   \n",
       "202        397000          391000              4           69.0   \n",
       "\n",
       "     max_torque_rpm  max_power_bhp  max_power_rp  fuel_tank_capacity  \\\n",
       "0              3500          65.71          5500                27.0   \n",
       "1              4400         101.65          6000                48.0   \n",
       "2              2800         130.00          3750                57.0   \n",
       "3              2800         182.38          3500                60.0   \n",
       "4              2750         172.45          3500                57.0   \n",
       "..              ...            ...           ...                 ...   \n",
       "198            5250         415.71          6750                 0.0   \n",
       "199            4400         254.79          5000                59.0   \n",
       "200            2500         167.67          3750                60.0   \n",
       "201            4500         591.39          6000                85.0   \n",
       "202            3500          47.33          6000                35.0   \n",
       "\n",
       "     no_cylinder  rating  seating_capacity fuel_type  engine_displacement  \\\n",
       "0              3     4.5               5.0    Petrol                  998   \n",
       "1              4     4.5               5.0    Petrol                 1462   \n",
       "2              4     4.5               4.0    Diesel                 2184   \n",
       "3              4     4.5               7.0    Diesel                 2198   \n",
       "4              4     4.5               7.0    Diesel                 2198   \n",
       "..           ...     ...               ...       ...                  ...   \n",
       "198            4     4.5               5.0    Petrol                 1991   \n",
       "199            4     4.5               5.0    Petrol                 1998   \n",
       "200            4     4.5               7.0    Diesel                 1956   \n",
       "201            8     3.5               5.0    Petrol                 3998   \n",
       "202            3     4.5               5.0    Petrol                  796   \n",
       "\n",
       "    transmission_type  body_type                     car_name  \n",
       "0           Automatic  Hatchback              Maruti Alto K10  \n",
       "1           Automatic        SUV                Maruti Brezza  \n",
       "2           Automatic        SUV                Mahindra Thar  \n",
       "3           Automatic        SUV              Mahindra XUV700  \n",
       "4           Automatic        SUV           Mahindra Scorpio-N  \n",
       "..                ...        ...                          ...  \n",
       "198         Automatic  Hatchback     Mercedes-Benz AMG A 45 S  \n",
       "199         Automatic      Sedan  BMW 3 Series Gran Limousine  \n",
       "200            Manual        SUV               MG Hector Plus  \n",
       "201         Automatic        SUV                   Audi RS Q8  \n",
       "202            Manual  Hatchback         Maruti Alto 800 tour  \n",
       "\n",
       "[203 rows x 16 columns]"
      ]
     },
     "execution_count": 26,
     "metadata": {},
     "output_type": "execute_result"
    }
   ],
   "source": [
    "# import data\n",
    "df_cars = pd.read_csv('indian_cars_dataset.csv')\n",
    "df_cars"
   ]
  },
  {
   "cell_type": "markdown",
   "metadata": {},
   "source": [
    "Create a bar chart to display the transmission type of SUVs\n",
    "\n",
    "Task:\n",
    "- Find the count of each transmission type for SUVs\n",
    "- Create a bar chart displaying the above"
   ]
  },
  {
   "cell_type": "code",
   "execution_count": 27,
   "metadata": {
    "scrolled": true
   },
   "outputs": [
    {
     "data": {
      "text/html": [
       "<div>\n",
       "<style scoped>\n",
       "    .dataframe tbody tr th:only-of-type {\n",
       "        vertical-align: middle;\n",
       "    }\n",
       "\n",
       "    .dataframe tbody tr th {\n",
       "        vertical-align: top;\n",
       "    }\n",
       "\n",
       "    .dataframe thead th {\n",
       "        text-align: right;\n",
       "    }\n",
       "</style>\n",
       "<table border=\"1\" class=\"dataframe\">\n",
       "  <thead>\n",
       "    <tr style=\"text-align: right;\">\n",
       "      <th></th>\n",
       "      <th>ending_price</th>\n",
       "      <th>starting_price</th>\n",
       "      <th>reviews_count</th>\n",
       "      <th>max_torque_nm</th>\n",
       "      <th>max_torque_rpm</th>\n",
       "      <th>max_power_bhp</th>\n",
       "      <th>max_power_rp</th>\n",
       "      <th>fuel_tank_capacity</th>\n",
       "      <th>no_cylinder</th>\n",
       "      <th>rating</th>\n",
       "      <th>seating_capacity</th>\n",
       "      <th>fuel_type</th>\n",
       "      <th>engine_displacement</th>\n",
       "      <th>transmission_type</th>\n",
       "      <th>body_type</th>\n",
       "      <th>car_name</th>\n",
       "    </tr>\n",
       "  </thead>\n",
       "  <tbody>\n",
       "    <tr>\n",
       "      <th>1</th>\n",
       "      <td>1396000</td>\n",
       "      <td>799000</td>\n",
       "      <td>86</td>\n",
       "      <td>136.8</td>\n",
       "      <td>4400</td>\n",
       "      <td>101.65</td>\n",
       "      <td>6000</td>\n",
       "      <td>48.0</td>\n",
       "      <td>4</td>\n",
       "      <td>4.5</td>\n",
       "      <td>5.0</td>\n",
       "      <td>Petrol</td>\n",
       "      <td>1462</td>\n",
       "      <td>Automatic</td>\n",
       "      <td>SUV</td>\n",
       "      <td>Maruti Brezza</td>\n",
       "    </tr>\n",
       "    <tr>\n",
       "      <th>2</th>\n",
       "      <td>1603000</td>\n",
       "      <td>1353000</td>\n",
       "      <td>242</td>\n",
       "      <td>300.0</td>\n",
       "      <td>2800</td>\n",
       "      <td>130.00</td>\n",
       "      <td>3750</td>\n",
       "      <td>57.0</td>\n",
       "      <td>4</td>\n",
       "      <td>4.5</td>\n",
       "      <td>4.0</td>\n",
       "      <td>Diesel</td>\n",
       "      <td>2184</td>\n",
       "      <td>Automatic</td>\n",
       "      <td>SUV</td>\n",
       "      <td>Mahindra Thar</td>\n",
       "    </tr>\n",
       "    <tr>\n",
       "      <th>3</th>\n",
       "      <td>2458000</td>\n",
       "      <td>1318000</td>\n",
       "      <td>313</td>\n",
       "      <td>450.0</td>\n",
       "      <td>2800</td>\n",
       "      <td>182.38</td>\n",
       "      <td>3500</td>\n",
       "      <td>60.0</td>\n",
       "      <td>4</td>\n",
       "      <td>4.5</td>\n",
       "      <td>7.0</td>\n",
       "      <td>Diesel</td>\n",
       "      <td>2198</td>\n",
       "      <td>Automatic</td>\n",
       "      <td>SUV</td>\n",
       "      <td>Mahindra XUV700</td>\n",
       "    </tr>\n",
       "    <tr>\n",
       "      <th>4</th>\n",
       "      <td>2390000</td>\n",
       "      <td>1199000</td>\n",
       "      <td>107</td>\n",
       "      <td>400.0</td>\n",
       "      <td>2750</td>\n",
       "      <td>172.45</td>\n",
       "      <td>3500</td>\n",
       "      <td>57.0</td>\n",
       "      <td>4</td>\n",
       "      <td>4.5</td>\n",
       "      <td>7.0</td>\n",
       "      <td>Diesel</td>\n",
       "      <td>2198</td>\n",
       "      <td>Automatic</td>\n",
       "      <td>SUV</td>\n",
       "      <td>Mahindra Scorpio-N</td>\n",
       "    </tr>\n",
       "    <tr>\n",
       "      <th>5</th>\n",
       "      <td>4957000</td>\n",
       "      <td>3240000</td>\n",
       "      <td>99</td>\n",
       "      <td>500.0</td>\n",
       "      <td>2800</td>\n",
       "      <td>201.15</td>\n",
       "      <td>3400</td>\n",
       "      <td>80.0</td>\n",
       "      <td>4</td>\n",
       "      <td>4.5</td>\n",
       "      <td>7.0</td>\n",
       "      <td>Diesel</td>\n",
       "      <td>2755</td>\n",
       "      <td>Automatic</td>\n",
       "      <td>SUV</td>\n",
       "      <td>Toyota Fortuner</td>\n",
       "    </tr>\n",
       "    <tr>\n",
       "      <th>...</th>\n",
       "      <td>...</td>\n",
       "      <td>...</td>\n",
       "      <td>...</td>\n",
       "      <td>...</td>\n",
       "      <td>...</td>\n",
       "      <td>...</td>\n",
       "      <td>...</td>\n",
       "      <td>...</td>\n",
       "      <td>...</td>\n",
       "      <td>...</td>\n",
       "      <td>...</td>\n",
       "      <td>...</td>\n",
       "      <td>...</td>\n",
       "      <td>...</td>\n",
       "      <td>...</td>\n",
       "      <td>...</td>\n",
       "    </tr>\n",
       "    <tr>\n",
       "      <th>194</th>\n",
       "      <td>397000</td>\n",
       "      <td>391000</td>\n",
       "      <td>6</td>\n",
       "      <td>850.0</td>\n",
       "      <td>4500</td>\n",
       "      <td>631.62</td>\n",
       "      <td>6000</td>\n",
       "      <td>0.0</td>\n",
       "      <td>8</td>\n",
       "      <td>3.5</td>\n",
       "      <td>4.0</td>\n",
       "      <td>Petrol</td>\n",
       "      <td>3996</td>\n",
       "      <td>Automatic</td>\n",
       "      <td>SUV</td>\n",
       "      <td>Porsche Cayenne Coupe</td>\n",
       "    </tr>\n",
       "    <tr>\n",
       "      <th>196</th>\n",
       "      <td>5690000</td>\n",
       "      <td>5450000</td>\n",
       "      <td>1</td>\n",
       "      <td>350.0</td>\n",
       "      <td>2500</td>\n",
       "      <td>170.00</td>\n",
       "      <td>3750</td>\n",
       "      <td>60.0</td>\n",
       "      <td>4</td>\n",
       "      <td>4.5</td>\n",
       "      <td>5.0</td>\n",
       "      <td>Diesel</td>\n",
       "      <td>1998</td>\n",
       "      <td>Automatic</td>\n",
       "      <td>SUV</td>\n",
       "      <td>Compass Trailhawk</td>\n",
       "    </tr>\n",
       "    <tr>\n",
       "      <th>197</th>\n",
       "      <td>2075000</td>\n",
       "      <td>1615000</td>\n",
       "      <td>78</td>\n",
       "      <td>350.0</td>\n",
       "      <td>2500</td>\n",
       "      <td>167.67</td>\n",
       "      <td>3750</td>\n",
       "      <td>60.0</td>\n",
       "      <td>4</td>\n",
       "      <td>4.5</td>\n",
       "      <td>7.0</td>\n",
       "      <td>Diesel</td>\n",
       "      <td>1956</td>\n",
       "      <td>Automatic</td>\n",
       "      <td>SUV</td>\n",
       "      <td>Jeep Meridian</td>\n",
       "    </tr>\n",
       "    <tr>\n",
       "      <th>200</th>\n",
       "      <td>2075000</td>\n",
       "      <td>1615000</td>\n",
       "      <td>2</td>\n",
       "      <td>350.0</td>\n",
       "      <td>2500</td>\n",
       "      <td>167.67</td>\n",
       "      <td>3750</td>\n",
       "      <td>60.0</td>\n",
       "      <td>4</td>\n",
       "      <td>4.5</td>\n",
       "      <td>7.0</td>\n",
       "      <td>Diesel</td>\n",
       "      <td>1956</td>\n",
       "      <td>Manual</td>\n",
       "      <td>SUV</td>\n",
       "      <td>MG Hector Plus</td>\n",
       "    </tr>\n",
       "    <tr>\n",
       "      <th>201</th>\n",
       "      <td>21700000</td>\n",
       "      <td>21700000</td>\n",
       "      <td>9</td>\n",
       "      <td>800.0</td>\n",
       "      <td>4500</td>\n",
       "      <td>591.39</td>\n",
       "      <td>6000</td>\n",
       "      <td>85.0</td>\n",
       "      <td>8</td>\n",
       "      <td>3.5</td>\n",
       "      <td>5.0</td>\n",
       "      <td>Petrol</td>\n",
       "      <td>3998</td>\n",
       "      <td>Automatic</td>\n",
       "      <td>SUV</td>\n",
       "      <td>Audi RS Q8</td>\n",
       "    </tr>\n",
       "  </tbody>\n",
       "</table>\n",
       "<p>85 rows × 16 columns</p>\n",
       "</div>"
      ],
      "text/plain": [
       "     ending_price  starting_price  reviews_count  max_torque_nm  \\\n",
       "1         1396000          799000             86          136.8   \n",
       "2         1603000         1353000            242          300.0   \n",
       "3         2458000         1318000            313          450.0   \n",
       "4         2390000         1199000            107          400.0   \n",
       "5         4957000         3240000             99          500.0   \n",
       "..            ...             ...            ...            ...   \n",
       "194        397000          391000              6          850.0   \n",
       "196       5690000         5450000              1          350.0   \n",
       "197       2075000         1615000             78          350.0   \n",
       "200       2075000         1615000              2          350.0   \n",
       "201      21700000        21700000              9          800.0   \n",
       "\n",
       "     max_torque_rpm  max_power_bhp  max_power_rp  fuel_tank_capacity  \\\n",
       "1              4400         101.65          6000                48.0   \n",
       "2              2800         130.00          3750                57.0   \n",
       "3              2800         182.38          3500                60.0   \n",
       "4              2750         172.45          3500                57.0   \n",
       "5              2800         201.15          3400                80.0   \n",
       "..              ...            ...           ...                 ...   \n",
       "194            4500         631.62          6000                 0.0   \n",
       "196            2500         170.00          3750                60.0   \n",
       "197            2500         167.67          3750                60.0   \n",
       "200            2500         167.67          3750                60.0   \n",
       "201            4500         591.39          6000                85.0   \n",
       "\n",
       "     no_cylinder  rating  seating_capacity fuel_type  engine_displacement  \\\n",
       "1              4     4.5               5.0    Petrol                 1462   \n",
       "2              4     4.5               4.0    Diesel                 2184   \n",
       "3              4     4.5               7.0    Diesel                 2198   \n",
       "4              4     4.5               7.0    Diesel                 2198   \n",
       "5              4     4.5               7.0    Diesel                 2755   \n",
       "..           ...     ...               ...       ...                  ...   \n",
       "194            8     3.5               4.0    Petrol                 3996   \n",
       "196            4     4.5               5.0    Diesel                 1998   \n",
       "197            4     4.5               7.0    Diesel                 1956   \n",
       "200            4     4.5               7.0    Diesel                 1956   \n",
       "201            8     3.5               5.0    Petrol                 3998   \n",
       "\n",
       "    transmission_type body_type               car_name  \n",
       "1           Automatic       SUV          Maruti Brezza  \n",
       "2           Automatic       SUV          Mahindra Thar  \n",
       "3           Automatic       SUV        Mahindra XUV700  \n",
       "4           Automatic       SUV     Mahindra Scorpio-N  \n",
       "5           Automatic       SUV        Toyota Fortuner  \n",
       "..                ...       ...                    ...  \n",
       "194         Automatic       SUV  Porsche Cayenne Coupe  \n",
       "196         Automatic       SUV      Compass Trailhawk  \n",
       "197         Automatic       SUV          Jeep Meridian  \n",
       "200            Manual       SUV         MG Hector Plus  \n",
       "201         Automatic       SUV             Audi RS Q8  \n",
       "\n",
       "[85 rows x 16 columns]"
      ]
     },
     "execution_count": 27,
     "metadata": {},
     "output_type": "execute_result"
    }
   ],
   "source": [
    "# Filter for SUVs\n",
    "df_cars[df_cars['body_type'] == 'SUV']"
   ]
  },
  {
   "cell_type": "code",
   "execution_count": 28,
   "metadata": {
    "scrolled": true
   },
   "outputs": [
    {
     "data": {
      "text/plain": [
       "Automatic    76\n",
       "Manual        9\n",
       "Name: transmission_type, dtype: int64"
      ]
     },
     "execution_count": 28,
     "metadata": {},
     "output_type": "execute_result"
    }
   ],
   "source": [
    "# Find the count of each transmission type for SUVs\n",
    "df_cars[df_cars['body_type'] == 'SUV']['transmission_type'].value_counts()\n"
   ]
  },
  {
   "cell_type": "code",
   "execution_count": 29,
   "metadata": {},
   "outputs": [
    {
     "data": {
      "image/png": "[encoded data removed]",
      "text/plain": [
       "<Figure size 432x288 with 1 Axes>"
      ]
     },
     "metadata": {
      "needs_background": "light"
     },
     "output_type": "display_data"
    }
   ],
   "source": [
    "# Plot the count plot\n",
    "data = df_cars[df_cars['body_type'] == 'SUV']['transmission_type']\n",
    "countplot = sns.countplot(x = data)\n"
   ]
  },
  {
   "cell_type": "markdown",
   "metadata": {},
   "source": [
    "### Exercise 2 (Basic) - Visuals for Numeric Features"
   ]
  },
  {
   "cell_type": "markdown",
   "metadata": {},
   "source": [
    "Create two visuals that displays the distribution of the starting price of cars based on transmission type. Then find the average starting price for each transmission type\n",
    "\n",
    "Task:\n",
    "- Plot the distribution of starting price for each transmission type in a histogram\n",
    "- Print the average starting price for each transmission type"
   ]
  },
  {
   "cell_type": "code",
   "execution_count": 30,
   "metadata": {
    "scrolled": true
   },
   "outputs": [
    {
     "data": {
      "image/png": "[encoded data removed]",
      "text/plain": [
       "<Figure size 432x288 with 1 Axes>"
      ]
     },
     "metadata": {
      "needs_background": "light"
     },
     "output_type": "display_data"
    }
   ],
   "source": [
    "# Plot the distribution for manual transmission\n",
    "histplot = sns.histplot(data = df_cars[df_cars['transmission_type']=='Manual'], x ='starting_price', bins = 10)"
   ]
  },
  {
   "cell_type": "code",
   "execution_count": 31,
   "metadata": {
    "scrolled": true
   },
   "outputs": [
    {
     "data": {
      "image/png": "[encoded data removed]",
      "text/plain": [
       "<Figure size 432x288 with 1 Axes>"
      ]
     },
     "metadata": {
      "needs_background": "light"
     },
     "output_type": "display_data"
    }
   ],
   "source": [
    "# Plot the distribution for automatic transmission\n",
    "histplot = sns.histplot(data = df_cars[df_cars['transmission_type']=='Automatic'], x ='starting_price', bins = 10)"
   ]
  },
  {
   "cell_type": "code",
   "execution_count": 32,
   "metadata": {},
   "outputs": [
    {
     "name": "stdout",
     "output_type": "stream",
     "text": [
      "Automatic: 10446344.827586208\n",
      "Manual: 3427413.793103448\n"
     ]
    }
   ],
   "source": [
    "# Calculate mean starting price of each transmission type\n",
    "print('Automatic:', df_cars[df_cars['transmission_type']=='Automatic']['starting_price'].mean())\n",
    "print('Manual:', df_cars[df_cars['transmission_type']=='Manual']['starting_price'].mean())"
   ]
  }
 ],
 "metadata": {
  "kernelspec": {
   "display_name": "Python 3 (ipykernel)",
   "language": "python",
   "name": "python3"
  },
  "language_info": {
   "codemirror_mode": {
    "name": "ipython",
    "version": 3
   },
   "file_extension": ".py",
   "mimetype": "text/x-python",
   "name": "python",
   "nbconvert_exporter": "python",
   "pygments_lexer": "ipython3",
   "version": "3.9.7"
  }
 },
 "nbformat": 4,
 "nbformat_minor": 4
}
