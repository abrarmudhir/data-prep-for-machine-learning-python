{
 "cells": [
  {
   "cell_type": "markdown",
   "metadata": {},
   "source": [
    "# Binning"
   ]
  },
  {
   "cell_type": "markdown",
   "metadata": {},
   "source": [
    "Binning is a data processing technique used to group or bin data into buckets, reducing the amount of detail (noise) in the data, which helps to simplify the data and reduce overfitting. We can reduce the amount of detail in both categorical and numerical features."
   ]
  },
  {
   "cell_type": "markdown",
   "metadata": {},
   "source": [
    "### Import Basic Packages"
   ]
  },
  {
   "cell_type": "code",
   "execution_count": 5,
   "metadata": {
    "scrolled": false
   },
   "outputs": [],
   "source": [
    "# Basics\n",
    "import numpy as np\n",
    "import pandas as pd\n",
    "import matplotlib.pyplot as plt\n",
    "import seaborn as sns\n",
    "pd.set_option('display.max_columns',None)"
   ]
  },
  {
   "cell_type": "markdown",
   "metadata": {},
   "source": [
    "## Categorical Binning"
   ]
  },
  {
   "cell_type": "markdown",
   "metadata": {},
   "source": [
    "In this dataset we have the basic stats for a number of different players. Points per game is the target variable."
   ]
  },
  {
   "cell_type": "code",
   "execution_count": 6,
   "metadata": {},
   "outputs": [
    {
     "data": {
      "text/html": [
       "<div>\n",
       "<style scoped>\n",
       "    .dataframe tbody tr th:only-of-type {\n",
       "        vertical-align: middle;\n",
       "    }\n",
       "\n",
       "    .dataframe tbody tr th {\n",
       "        vertical-align: top;\n",
       "    }\n",
       "\n",
       "    .dataframe thead th {\n",
       "        text-align: right;\n",
       "    }\n",
       "</style>\n",
       "<table border=\"1\" class=\"dataframe\">\n",
       "  <thead>\n",
       "    <tr style=\"text-align: right;\">\n",
       "      <th></th>\n",
       "      <th>first_name</th>\n",
       "      <th>last_name</th>\n",
       "      <th>points_per_game</th>\n",
       "      <th>reb_per_game</th>\n",
       "      <th>assist_per_game</th>\n",
       "      <th>3pt_per_game</th>\n",
       "      <th>steals_per_game</th>\n",
       "      <th>blocks_per_game</th>\n",
       "      <th>position</th>\n",
       "    </tr>\n",
       "  </thead>\n",
       "  <tbody>\n",
       "    <tr>\n",
       "      <th>0</th>\n",
       "      <td>Stephen</td>\n",
       "      <td>Larry</td>\n",
       "      <td>25</td>\n",
       "      <td>4</td>\n",
       "      <td>3</td>\n",
       "      <td>7</td>\n",
       "      <td>1.8</td>\n",
       "      <td>0.2</td>\n",
       "      <td>PG</td>\n",
       "    </tr>\n",
       "    <tr>\n",
       "      <th>1</th>\n",
       "      <td>Lebron</td>\n",
       "      <td>Games</td>\n",
       "      <td>30</td>\n",
       "      <td>12</td>\n",
       "      <td>11</td>\n",
       "      <td>3</td>\n",
       "      <td>1.3</td>\n",
       "      <td>1.0</td>\n",
       "      <td>SF</td>\n",
       "    </tr>\n",
       "    <tr>\n",
       "      <th>2</th>\n",
       "      <td>Grayson</td>\n",
       "      <td>Ballen</td>\n",
       "      <td>10</td>\n",
       "      <td>3</td>\n",
       "      <td>2</td>\n",
       "      <td>2</td>\n",
       "      <td>0.9</td>\n",
       "      <td>0.2</td>\n",
       "      <td>SG</td>\n",
       "    </tr>\n",
       "    <tr>\n",
       "      <th>3</th>\n",
       "      <td>Luke</td>\n",
       "      <td>Dontik</td>\n",
       "      <td>35</td>\n",
       "      <td>9</td>\n",
       "      <td>10</td>\n",
       "      <td>4</td>\n",
       "      <td>0.8</td>\n",
       "      <td>0.6</td>\n",
       "      <td>PG</td>\n",
       "    </tr>\n",
       "    <tr>\n",
       "      <th>4</th>\n",
       "      <td>Lonjo</td>\n",
       "      <td>Tall</td>\n",
       "      <td>7</td>\n",
       "      <td>6</td>\n",
       "      <td>10</td>\n",
       "      <td>2</td>\n",
       "      <td>1.5</td>\n",
       "      <td>0.6</td>\n",
       "      <td>PG</td>\n",
       "    </tr>\n",
       "  </tbody>\n",
       "</table>\n",
       "</div>"
      ],
      "text/plain": [
       "  first_name last_name  points_per_game  reb_per_game  assist_per_game  \\\n",
       "0    Stephen     Larry               25             4                3   \n",
       "1     Lebron     Games               30            12               11   \n",
       "2    Grayson    Ballen               10             3                2   \n",
       "3       Luke    Dontik               35             9               10   \n",
       "4      Lonjo      Tall                7             6               10   \n",
       "\n",
       "   3pt_per_game  steals_per_game  blocks_per_game position  \n",
       "0             7              1.8              0.2       PG  \n",
       "1             3              1.3              1.0       SF  \n",
       "2             2              0.9              0.2       SG  \n",
       "3             4              0.8              0.6       PG  \n",
       "4             2              1.5              0.6       PG  "
      ]
     },
     "execution_count": 6,
     "metadata": {},
     "output_type": "execute_result"
    }
   ],
   "source": [
    "#import Categorical binning dataset\n",
    "df_bball = pd.read_csv('basketball_stats.csv')\n",
    "df_bball.head()"
   ]
  },
  {
   "cell_type": "markdown",
   "metadata": {},
   "source": [
    "Categorical varisbles can be grouped or binned into more general categories. In this example, each value in our Position column represents the position that player typically plays. However, it's possible to further categorise the positions into Guard, Forward and Centre."
   ]
  },
  {
   "cell_type": "code",
   "execution_count": 7,
   "metadata": {
    "scrolled": false
   },
   "outputs": [
    {
     "data": {
      "text/plain": [
       "SG    22\n",
       "PG    21\n",
       "C     13\n",
       "SF    12\n",
       "PF    11\n",
       "Name: position, dtype: int64"
      ]
     },
     "execution_count": 7,
     "metadata": {},
     "output_type": "execute_result"
    }
   ],
   "source": [
    "# Check the value counts for each of the categories in the Position column.\n",
    "df_bball['position'].value_counts()"
   ]
  },
  {
   "cell_type": "code",
   "execution_count": 8,
   "metadata": {
    "scrolled": false
   },
   "outputs": [
    {
     "data": {
      "image/png": "[encoded data removed]",
      "text/plain": [
       "<Figure size 432x288 with 1 Axes>"
      ]
     },
     "metadata": {
      "needs_background": "light"
     },
     "output_type": "display_data"
    }
   ],
   "source": [
    "# Create a new column called PositionBins and use the map function to map the positions to their respective bins.\n",
    "df_bball['position_bins'] = df_bball['position'].map({'PG': 'G',\n",
    "                                                     'SG' : 'G',\n",
    "                                                     'SF' : 'F',\n",
    "                                                     'PF' : 'F',\n",
    "                                                     'C' : 'C'})\n",
    "\n",
    "sns.histplot(df_bball['position_bins'])\n",
    "plt.show()"
   ]
  },
  {
   "cell_type": "markdown",
   "metadata": {},
   "source": [
    "### Categorical Binning - High Cardinality Feature"
   ]
  },
  {
   "cell_type": "markdown",
   "metadata": {},
   "source": [
    "Binning can also be useful to help simplify high cardinality categorical features. This is particluarly the case with post code or zipcode data where you may want to group postal codes into districts, cities or states."
   ]
  },
  {
   "cell_type": "markdown",
   "metadata": {},
   "source": [
    "## Numerical Binning"
   ]
  },
  {
   "cell_type": "markdown",
   "metadata": {},
   "source": [
    "For numerical binning, we are returning to our kc_house_dataset from previous workbooks."
   ]
  },
  {
   "cell_type": "code",
   "execution_count": 12,
   "metadata": {
    "scrolled": false
   },
   "outputs": [
    {
     "data": {
      "text/html": [
       "<div>\n",
       "<style scoped>\n",
       "    .dataframe tbody tr th:only-of-type {\n",
       "        vertical-align: middle;\n",
       "    }\n",
       "\n",
       "    .dataframe tbody tr th {\n",
       "        vertical-align: top;\n",
       "    }\n",
       "\n",
       "    .dataframe thead th {\n",
       "        text-align: right;\n",
       "    }\n",
       "</style>\n",
       "<table border=\"1\" class=\"dataframe\">\n",
       "  <thead>\n",
       "    <tr style=\"text-align: right;\">\n",
       "      <th></th>\n",
       "      <th>id</th>\n",
       "      <th>price</th>\n",
       "      <th>bedrooms</th>\n",
       "      <th>bathrooms</th>\n",
       "      <th>sqft_living</th>\n",
       "      <th>sqft_lot</th>\n",
       "      <th>floors</th>\n",
       "      <th>waterfront</th>\n",
       "      <th>view</th>\n",
       "      <th>condition</th>\n",
       "      <th>grade</th>\n",
       "      <th>sqft_above</th>\n",
       "      <th>sqft_basement</th>\n",
       "      <th>yr_built</th>\n",
       "      <th>yr_renovated</th>\n",
       "      <th>zipcode</th>\n",
       "      <th>lat</th>\n",
       "      <th>long</th>\n",
       "      <th>sqft_living_15neighbors</th>\n",
       "      <th>sqft_lot_15neighbors</th>\n",
       "    </tr>\n",
       "  </thead>\n",
       "  <tbody>\n",
       "    <tr>\n",
       "      <th>count</th>\n",
       "      <td>1.799800e+04</td>\n",
       "      <td>1.799800e+04</td>\n",
       "      <td>17998.000000</td>\n",
       "      <td>17998.000000</td>\n",
       "      <td>17998.000000</td>\n",
       "      <td>1.799800e+04</td>\n",
       "      <td>17998.000000</td>\n",
       "      <td>17998.000000</td>\n",
       "      <td>17998.000000</td>\n",
       "      <td>17998.000000</td>\n",
       "      <td>17998.000000</td>\n",
       "      <td>17998.000000</td>\n",
       "      <td>17998.000000</td>\n",
       "      <td>17998.000000</td>\n",
       "      <td>17998.000000</td>\n",
       "      <td>17998.000000</td>\n",
       "      <td>17998.000000</td>\n",
       "      <td>17998.000000</td>\n",
       "      <td>17998.000000</td>\n",
       "      <td>17998.000000</td>\n",
       "    </tr>\n",
       "    <tr>\n",
       "      <th>mean</th>\n",
       "      <td>4.568087e+09</td>\n",
       "      <td>5.330919e+05</td>\n",
       "      <td>3.363040</td>\n",
       "      <td>2.061660</td>\n",
       "      <td>2051.873542</td>\n",
       "      <td>1.575891e+04</td>\n",
       "      <td>1.433187</td>\n",
       "      <td>0.007834</td>\n",
       "      <td>0.242471</td>\n",
       "      <td>3.448494</td>\n",
       "      <td>7.592399</td>\n",
       "      <td>1749.776753</td>\n",
       "      <td>302.096789</td>\n",
       "      <td>1967.283143</td>\n",
       "      <td>90.258529</td>\n",
       "      <td>98078.071119</td>\n",
       "      <td>47.560217</td>\n",
       "      <td>-122.215113</td>\n",
       "      <td>1973.275808</td>\n",
       "      <td>13282.408768</td>\n",
       "    </tr>\n",
       "    <tr>\n",
       "      <th>std</th>\n",
       "      <td>2.862863e+09</td>\n",
       "      <td>3.644146e+05</td>\n",
       "      <td>0.934003</td>\n",
       "      <td>0.758612</td>\n",
       "      <td>902.743082</td>\n",
       "      <td>4.245632e+04</td>\n",
       "      <td>0.509667</td>\n",
       "      <td>0.088166</td>\n",
       "      <td>0.778876</td>\n",
       "      <td>0.667045</td>\n",
       "      <td>1.169519</td>\n",
       "      <td>805.436490</td>\n",
       "      <td>449.449853</td>\n",
       "      <td>27.940879</td>\n",
       "      <td>414.728679</td>\n",
       "      <td>54.126155</td>\n",
       "      <td>0.139646</td>\n",
       "      <td>0.139139</td>\n",
       "      <td>673.185162</td>\n",
       "      <td>27353.168648</td>\n",
       "    </tr>\n",
       "    <tr>\n",
       "      <th>min</th>\n",
       "      <td>1.000102e+06</td>\n",
       "      <td>7.500000e+04</td>\n",
       "      <td>0.000000</td>\n",
       "      <td>0.000000</td>\n",
       "      <td>370.000000</td>\n",
       "      <td>5.200000e+02</td>\n",
       "      <td>1.000000</td>\n",
       "      <td>0.000000</td>\n",
       "      <td>0.000000</td>\n",
       "      <td>1.000000</td>\n",
       "      <td>3.000000</td>\n",
       "      <td>370.000000</td>\n",
       "      <td>0.000000</td>\n",
       "      <td>1900.000000</td>\n",
       "      <td>0.000000</td>\n",
       "      <td>98001.000000</td>\n",
       "      <td>47.155900</td>\n",
       "      <td>-122.519000</td>\n",
       "      <td>399.000000</td>\n",
       "      <td>660.000000</td>\n",
       "    </tr>\n",
       "    <tr>\n",
       "      <th>25%</th>\n",
       "      <td>2.123049e+09</td>\n",
       "      <td>3.150000e+05</td>\n",
       "      <td>3.000000</td>\n",
       "      <td>1.500000</td>\n",
       "      <td>1410.000000</td>\n",
       "      <td>5.450250e+03</td>\n",
       "      <td>1.000000</td>\n",
       "      <td>0.000000</td>\n",
       "      <td>0.000000</td>\n",
       "      <td>3.000000</td>\n",
       "      <td>7.000000</td>\n",
       "      <td>1180.000000</td>\n",
       "      <td>0.000000</td>\n",
       "      <td>1950.000000</td>\n",
       "      <td>0.000000</td>\n",
       "      <td>98033.000000</td>\n",
       "      <td>47.465525</td>\n",
       "      <td>-122.327000</td>\n",
       "      <td>1490.000000</td>\n",
       "      <td>5419.250000</td>\n",
       "    </tr>\n",
       "    <tr>\n",
       "      <th>50%</th>\n",
       "      <td>3.905121e+09</td>\n",
       "      <td>4.470000e+05</td>\n",
       "      <td>3.000000</td>\n",
       "      <td>2.000000</td>\n",
       "      <td>1900.000000</td>\n",
       "      <td>7.903500e+03</td>\n",
       "      <td>1.000000</td>\n",
       "      <td>0.000000</td>\n",
       "      <td>0.000000</td>\n",
       "      <td>3.000000</td>\n",
       "      <td>7.000000</td>\n",
       "      <td>1530.000000</td>\n",
       "      <td>0.000000</td>\n",
       "      <td>1969.000000</td>\n",
       "      <td>0.000000</td>\n",
       "      <td>98065.000000</td>\n",
       "      <td>47.573000</td>\n",
       "      <td>-122.231000</td>\n",
       "      <td>1830.000000</td>\n",
       "      <td>7820.000000</td>\n",
       "    </tr>\n",
       "    <tr>\n",
       "      <th>75%</th>\n",
       "      <td>7.298015e+09</td>\n",
       "      <td>6.355875e+05</td>\n",
       "      <td>4.000000</td>\n",
       "      <td>2.500000</td>\n",
       "      <td>2500.000000</td>\n",
       "      <td>1.109575e+04</td>\n",
       "      <td>2.000000</td>\n",
       "      <td>0.000000</td>\n",
       "      <td>0.000000</td>\n",
       "      <td>4.000000</td>\n",
       "      <td>8.000000</td>\n",
       "      <td>2140.000000</td>\n",
       "      <td>600.000000</td>\n",
       "      <td>1990.000000</td>\n",
       "      <td>0.000000</td>\n",
       "      <td>98118.000000</td>\n",
       "      <td>47.679300</td>\n",
       "      <td>-122.127000</td>\n",
       "      <td>2338.250000</td>\n",
       "      <td>10344.250000</td>\n",
       "    </tr>\n",
       "    <tr>\n",
       "      <th>max</th>\n",
       "      <td>9.900000e+09</td>\n",
       "      <td>7.700000e+06</td>\n",
       "      <td>33.000000</td>\n",
       "      <td>8.000000</td>\n",
       "      <td>13540.000000</td>\n",
       "      <td>1.651359e+06</td>\n",
       "      <td>3.500000</td>\n",
       "      <td>1.000000</td>\n",
       "      <td>4.000000</td>\n",
       "      <td>5.000000</td>\n",
       "      <td>13.000000</td>\n",
       "      <td>9410.000000</td>\n",
       "      <td>4820.000000</td>\n",
       "      <td>2015.000000</td>\n",
       "      <td>2015.000000</td>\n",
       "      <td>98199.000000</td>\n",
       "      <td>47.777600</td>\n",
       "      <td>-121.315000</td>\n",
       "      <td>6110.000000</td>\n",
       "      <td>871200.000000</td>\n",
       "    </tr>\n",
       "  </tbody>\n",
       "</table>\n",
       "</div>"
      ],
      "text/plain": [
       "                 id         price      bedrooms     bathrooms   sqft_living  \\\n",
       "count  1.799800e+04  1.799800e+04  17998.000000  17998.000000  17998.000000   \n",
       "mean   4.568087e+09  5.330919e+05      3.363040      2.061660   2051.873542   \n",
       "std    2.862863e+09  3.644146e+05      0.934003      0.758612    902.743082   \n",
       "min    1.000102e+06  7.500000e+04      0.000000      0.000000    370.000000   \n",
       "25%    2.123049e+09  3.150000e+05      3.000000      1.500000   1410.000000   \n",
       "50%    3.905121e+09  4.470000e+05      3.000000      2.000000   1900.000000   \n",
       "75%    7.298015e+09  6.355875e+05      4.000000      2.500000   2500.000000   \n",
       "max    9.900000e+09  7.700000e+06     33.000000      8.000000  13540.000000   \n",
       "\n",
       "           sqft_lot        floors    waterfront          view     condition  \\\n",
       "count  1.799800e+04  17998.000000  17998.000000  17998.000000  17998.000000   \n",
       "mean   1.575891e+04      1.433187      0.007834      0.242471      3.448494   \n",
       "std    4.245632e+04      0.509667      0.088166      0.778876      0.667045   \n",
       "min    5.200000e+02      1.000000      0.000000      0.000000      1.000000   \n",
       "25%    5.450250e+03      1.000000      0.000000      0.000000      3.000000   \n",
       "50%    7.903500e+03      1.000000      0.000000      0.000000      3.000000   \n",
       "75%    1.109575e+04      2.000000      0.000000      0.000000      4.000000   \n",
       "max    1.651359e+06      3.500000      1.000000      4.000000      5.000000   \n",
       "\n",
       "              grade    sqft_above  sqft_basement      yr_built  yr_renovated  \\\n",
       "count  17998.000000  17998.000000   17998.000000  17998.000000  17998.000000   \n",
       "mean       7.592399   1749.776753     302.096789   1967.283143     90.258529   \n",
       "std        1.169519    805.436490     449.449853     27.940879    414.728679   \n",
       "min        3.000000    370.000000       0.000000   1900.000000      0.000000   \n",
       "25%        7.000000   1180.000000       0.000000   1950.000000      0.000000   \n",
       "50%        7.000000   1530.000000       0.000000   1969.000000      0.000000   \n",
       "75%        8.000000   2140.000000     600.000000   1990.000000      0.000000   \n",
       "max       13.000000   9410.000000    4820.000000   2015.000000   2015.000000   \n",
       "\n",
       "            zipcode           lat          long  sqft_living_15neighbors  \\\n",
       "count  17998.000000  17998.000000  17998.000000             17998.000000   \n",
       "mean   98078.071119     47.560217   -122.215113              1973.275808   \n",
       "std       54.126155      0.139646      0.139139               673.185162   \n",
       "min    98001.000000     47.155900   -122.519000               399.000000   \n",
       "25%    98033.000000     47.465525   -122.327000              1490.000000   \n",
       "50%    98065.000000     47.573000   -122.231000              1830.000000   \n",
       "75%    98118.000000     47.679300   -122.127000              2338.250000   \n",
       "max    98199.000000     47.777600   -121.315000              6110.000000   \n",
       "\n",
       "       sqft_lot_15neighbors  \n",
       "count          17998.000000  \n",
       "mean           13282.408768  \n",
       "std            27353.168648  \n",
       "min              660.000000  \n",
       "25%             5419.250000  \n",
       "50%             7820.000000  \n",
       "75%            10344.250000  \n",
       "max           871200.000000  "
      ]
     },
     "execution_count": 12,
     "metadata": {},
     "output_type": "execute_result"
    }
   ],
   "source": [
    "# Import Data\n",
    "df_house = pd.read_csv('kc_house_data.csv')\n",
    "df_house.describe()"
   ]
  },
  {
   "cell_type": "markdown",
   "metadata": {},
   "source": [
    "### View & Bin the Original Data using HistPlot"
   ]
  },
  {
   "cell_type": "markdown",
   "metadata": {},
   "source": [
    "By plotting a simple histogram we can view the original distribution of the feature, and apply a visual interpretation of bins."
   ]
  },
  {
   "cell_type": "code",
   "execution_count": 13,
   "metadata": {
    "scrolled": false
   },
   "outputs": [
    {
     "data": {
      "image/png": "[encoded data removed]",
      "text/plain": [
       "<Figure size 432x288 with 1 Axes>"
      ]
     },
     "metadata": {
      "needs_background": "light"
     },
     "output_type": "display_data"
    }
   ],
   "source": [
    "# Plot a countplot of the AssistPerGame variable to see what the unaltered distribution looks like.\n",
    "sns.histplot(data = df_house, x ='sqft_living', bins = 20)\n",
    "plt.show()"
   ]
  },
  {
   "cell_type": "markdown",
   "metadata": {},
   "source": [
    "However, the above method only allows us to visually summarise the data into bins. The bins are not stored anywhere."
   ]
  },
  {
   "cell_type": "markdown",
   "metadata": {},
   "source": [
    "### Defining our Bin Names"
   ]
  },
  {
   "cell_type": "code",
   "execution_count": 14,
   "metadata": {},
   "outputs": [],
   "source": [
    "labels = [\"small\", \"medium\", \"large\"]"
   ]
  },
  {
   "cell_type": "markdown",
   "metadata": {},
   "source": [
    "### Numerical Binning - Equal Width"
   ]
  },
  {
   "cell_type": "markdown",
   "metadata": {},
   "source": [
    "Equal width binning divides numerical data into buckets, each of which have the same width on the original x axis."
   ]
  },
  {
   "cell_type": "code",
   "execution_count": 15,
   "metadata": {
    "scrolled": true
   },
   "outputs": [
    {
     "data": {
      "text/html": [
       "<div>\n",
       "<style scoped>\n",
       "    .dataframe tbody tr th:only-of-type {\n",
       "        vertical-align: middle;\n",
       "    }\n",
       "\n",
       "    .dataframe tbody tr th {\n",
       "        vertical-align: top;\n",
       "    }\n",
       "\n",
       "    .dataframe thead th {\n",
       "        text-align: right;\n",
       "    }\n",
       "</style>\n",
       "<table border=\"1\" class=\"dataframe\">\n",
       "  <thead>\n",
       "    <tr style=\"text-align: right;\">\n",
       "      <th></th>\n",
       "      <th>id</th>\n",
       "      <th>date</th>\n",
       "      <th>price</th>\n",
       "      <th>bedrooms</th>\n",
       "      <th>bathrooms</th>\n",
       "      <th>sqft_living</th>\n",
       "      <th>sqft_lot</th>\n",
       "      <th>floors</th>\n",
       "      <th>waterfront</th>\n",
       "      <th>view</th>\n",
       "      <th>condition</th>\n",
       "      <th>grade</th>\n",
       "      <th>sqft_above</th>\n",
       "      <th>sqft_basement</th>\n",
       "      <th>yr_built</th>\n",
       "      <th>yr_renovated</th>\n",
       "      <th>zipcode</th>\n",
       "      <th>lat</th>\n",
       "      <th>long</th>\n",
       "      <th>sqft_living_15neighbors</th>\n",
       "      <th>sqft_lot_15neighbors</th>\n",
       "      <th>sqft_bin</th>\n",
       "    </tr>\n",
       "  </thead>\n",
       "  <tbody>\n",
       "    <tr>\n",
       "      <th>0</th>\n",
       "      <td>7129300520</td>\n",
       "      <td>20141013T000000</td>\n",
       "      <td>221900.0</td>\n",
       "      <td>3</td>\n",
       "      <td>1.00</td>\n",
       "      <td>1180</td>\n",
       "      <td>5650</td>\n",
       "      <td>1.0</td>\n",
       "      <td>0</td>\n",
       "      <td>0</td>\n",
       "      <td>3</td>\n",
       "      <td>7</td>\n",
       "      <td>1180</td>\n",
       "      <td>0</td>\n",
       "      <td>1955</td>\n",
       "      <td>0</td>\n",
       "      <td>98178</td>\n",
       "      <td>47.5112</td>\n",
       "      <td>-122.257</td>\n",
       "      <td>1340</td>\n",
       "      <td>5650</td>\n",
       "      <td>small</td>\n",
       "    </tr>\n",
       "    <tr>\n",
       "      <th>1</th>\n",
       "      <td>6414100192</td>\n",
       "      <td>20141209T000000</td>\n",
       "      <td>538000.0</td>\n",
       "      <td>3</td>\n",
       "      <td>2.25</td>\n",
       "      <td>2570</td>\n",
       "      <td>7242</td>\n",
       "      <td>2.0</td>\n",
       "      <td>0</td>\n",
       "      <td>0</td>\n",
       "      <td>3</td>\n",
       "      <td>7</td>\n",
       "      <td>2170</td>\n",
       "      <td>400</td>\n",
       "      <td>1951</td>\n",
       "      <td>1991</td>\n",
       "      <td>98125</td>\n",
       "      <td>47.7210</td>\n",
       "      <td>-122.319</td>\n",
       "      <td>1690</td>\n",
       "      <td>7639</td>\n",
       "      <td>small</td>\n",
       "    </tr>\n",
       "    <tr>\n",
       "      <th>2</th>\n",
       "      <td>5631500400</td>\n",
       "      <td>20150225T000000</td>\n",
       "      <td>180000.0</td>\n",
       "      <td>2</td>\n",
       "      <td>1.00</td>\n",
       "      <td>770</td>\n",
       "      <td>10000</td>\n",
       "      <td>1.0</td>\n",
       "      <td>0</td>\n",
       "      <td>0</td>\n",
       "      <td>3</td>\n",
       "      <td>6</td>\n",
       "      <td>770</td>\n",
       "      <td>0</td>\n",
       "      <td>1933</td>\n",
       "      <td>0</td>\n",
       "      <td>98028</td>\n",
       "      <td>47.7379</td>\n",
       "      <td>-122.233</td>\n",
       "      <td>2720</td>\n",
       "      <td>8062</td>\n",
       "      <td>small</td>\n",
       "    </tr>\n",
       "    <tr>\n",
       "      <th>3</th>\n",
       "      <td>2487200875</td>\n",
       "      <td>20141209T000000</td>\n",
       "      <td>604000.0</td>\n",
       "      <td>4</td>\n",
       "      <td>3.00</td>\n",
       "      <td>1960</td>\n",
       "      <td>5000</td>\n",
       "      <td>1.0</td>\n",
       "      <td>0</td>\n",
       "      <td>0</td>\n",
       "      <td>5</td>\n",
       "      <td>7</td>\n",
       "      <td>1050</td>\n",
       "      <td>910</td>\n",
       "      <td>1965</td>\n",
       "      <td>0</td>\n",
       "      <td>98136</td>\n",
       "      <td>47.5208</td>\n",
       "      <td>-122.393</td>\n",
       "      <td>1360</td>\n",
       "      <td>5000</td>\n",
       "      <td>small</td>\n",
       "    </tr>\n",
       "    <tr>\n",
       "      <th>4</th>\n",
       "      <td>1954400510</td>\n",
       "      <td>20150218T000000</td>\n",
       "      <td>510000.0</td>\n",
       "      <td>3</td>\n",
       "      <td>2.00</td>\n",
       "      <td>1680</td>\n",
       "      <td>8080</td>\n",
       "      <td>1.0</td>\n",
       "      <td>0</td>\n",
       "      <td>0</td>\n",
       "      <td>3</td>\n",
       "      <td>8</td>\n",
       "      <td>1680</td>\n",
       "      <td>0</td>\n",
       "      <td>1987</td>\n",
       "      <td>0</td>\n",
       "      <td>98074</td>\n",
       "      <td>47.6168</td>\n",
       "      <td>-122.045</td>\n",
       "      <td>1800</td>\n",
       "      <td>7503</td>\n",
       "      <td>small</td>\n",
       "    </tr>\n",
       "    <tr>\n",
       "      <th>...</th>\n",
       "      <td>...</td>\n",
       "      <td>...</td>\n",
       "      <td>...</td>\n",
       "      <td>...</td>\n",
       "      <td>...</td>\n",
       "      <td>...</td>\n",
       "      <td>...</td>\n",
       "      <td>...</td>\n",
       "      <td>...</td>\n",
       "      <td>...</td>\n",
       "      <td>...</td>\n",
       "      <td>...</td>\n",
       "      <td>...</td>\n",
       "      <td>...</td>\n",
       "      <td>...</td>\n",
       "      <td>...</td>\n",
       "      <td>...</td>\n",
       "      <td>...</td>\n",
       "      <td>...</td>\n",
       "      <td>...</td>\n",
       "      <td>...</td>\n",
       "      <td>...</td>\n",
       "    </tr>\n",
       "    <tr>\n",
       "      <th>17993</th>\n",
       "      <td>4254000620</td>\n",
       "      <td>20141007T000000</td>\n",
       "      <td>410000.0</td>\n",
       "      <td>3</td>\n",
       "      <td>2.50</td>\n",
       "      <td>1860</td>\n",
       "      <td>15457</td>\n",
       "      <td>2.0</td>\n",
       "      <td>0</td>\n",
       "      <td>0</td>\n",
       "      <td>3</td>\n",
       "      <td>8</td>\n",
       "      <td>1860</td>\n",
       "      <td>0</td>\n",
       "      <td>1997</td>\n",
       "      <td>0</td>\n",
       "      <td>98019</td>\n",
       "      <td>47.7383</td>\n",
       "      <td>-121.955</td>\n",
       "      <td>2040</td>\n",
       "      <td>14055</td>\n",
       "      <td>small</td>\n",
       "    </tr>\n",
       "    <tr>\n",
       "      <th>17994</th>\n",
       "      <td>6414100026</td>\n",
       "      <td>20150108T000000</td>\n",
       "      <td>320000.0</td>\n",
       "      <td>2</td>\n",
       "      <td>1.00</td>\n",
       "      <td>1802</td>\n",
       "      <td>11225</td>\n",
       "      <td>1.0</td>\n",
       "      <td>0</td>\n",
       "      <td>0</td>\n",
       "      <td>3</td>\n",
       "      <td>7</td>\n",
       "      <td>1802</td>\n",
       "      <td>0</td>\n",
       "      <td>1961</td>\n",
       "      <td>0</td>\n",
       "      <td>98125</td>\n",
       "      <td>47.7205</td>\n",
       "      <td>-122.323</td>\n",
       "      <td>1810</td>\n",
       "      <td>7332</td>\n",
       "      <td>small</td>\n",
       "    </tr>\n",
       "    <tr>\n",
       "      <th>17995</th>\n",
       "      <td>1346300035</td>\n",
       "      <td>20140626T000000</td>\n",
       "      <td>1990000.0</td>\n",
       "      <td>5</td>\n",
       "      <td>3.00</td>\n",
       "      <td>4480</td>\n",
       "      <td>5000</td>\n",
       "      <td>2.5</td>\n",
       "      <td>0</td>\n",
       "      <td>0</td>\n",
       "      <td>5</td>\n",
       "      <td>12</td>\n",
       "      <td>3420</td>\n",
       "      <td>1060</td>\n",
       "      <td>1902</td>\n",
       "      <td>0</td>\n",
       "      <td>98112</td>\n",
       "      <td>47.6275</td>\n",
       "      <td>-122.315</td>\n",
       "      <td>3220</td>\n",
       "      <td>5600</td>\n",
       "      <td>small</td>\n",
       "    </tr>\n",
       "    <tr>\n",
       "      <th>17996</th>\n",
       "      <td>2212210360</td>\n",
       "      <td>20140702T000000</td>\n",
       "      <td>253000.0</td>\n",
       "      <td>2</td>\n",
       "      <td>1.00</td>\n",
       "      <td>1310</td>\n",
       "      <td>7128</td>\n",
       "      <td>1.0</td>\n",
       "      <td>0</td>\n",
       "      <td>0</td>\n",
       "      <td>4</td>\n",
       "      <td>7</td>\n",
       "      <td>940</td>\n",
       "      <td>370</td>\n",
       "      <td>1980</td>\n",
       "      <td>0</td>\n",
       "      <td>98031</td>\n",
       "      <td>47.3958</td>\n",
       "      <td>-122.189</td>\n",
       "      <td>1400</td>\n",
       "      <td>7161</td>\n",
       "      <td>small</td>\n",
       "    </tr>\n",
       "    <tr>\n",
       "      <th>17997</th>\n",
       "      <td>205000410</td>\n",
       "      <td>20140915T000000</td>\n",
       "      <td>630000.0</td>\n",
       "      <td>3</td>\n",
       "      <td>2.50</td>\n",
       "      <td>2320</td>\n",
       "      <td>32772</td>\n",
       "      <td>2.0</td>\n",
       "      <td>0</td>\n",
       "      <td>0</td>\n",
       "      <td>3</td>\n",
       "      <td>9</td>\n",
       "      <td>2320</td>\n",
       "      <td>0</td>\n",
       "      <td>1992</td>\n",
       "      <td>0</td>\n",
       "      <td>98053</td>\n",
       "      <td>47.6304</td>\n",
       "      <td>-121.988</td>\n",
       "      <td>2610</td>\n",
       "      <td>33305</td>\n",
       "      <td>small</td>\n",
       "    </tr>\n",
       "  </tbody>\n",
       "</table>\n",
       "<p>17998 rows × 22 columns</p>\n",
       "</div>"
      ],
      "text/plain": [
       "               id             date      price  bedrooms  bathrooms  \\\n",
       "0      7129300520  20141013T000000   221900.0         3       1.00   \n",
       "1      6414100192  20141209T000000   538000.0         3       2.25   \n",
       "2      5631500400  20150225T000000   180000.0         2       1.00   \n",
       "3      2487200875  20141209T000000   604000.0         4       3.00   \n",
       "4      1954400510  20150218T000000   510000.0         3       2.00   \n",
       "...           ...              ...        ...       ...        ...   \n",
       "17993  4254000620  20141007T000000   410000.0         3       2.50   \n",
       "17994  6414100026  20150108T000000   320000.0         2       1.00   \n",
       "17995  1346300035  20140626T000000  1990000.0         5       3.00   \n",
       "17996  2212210360  20140702T000000   253000.0         2       1.00   \n",
       "17997   205000410  20140915T000000   630000.0         3       2.50   \n",
       "\n",
       "       sqft_living  sqft_lot  floors  waterfront  view  condition  grade  \\\n",
       "0             1180      5650     1.0           0     0          3      7   \n",
       "1             2570      7242     2.0           0     0          3      7   \n",
       "2              770     10000     1.0           0     0          3      6   \n",
       "3             1960      5000     1.0           0     0          5      7   \n",
       "4             1680      8080     1.0           0     0          3      8   \n",
       "...            ...       ...     ...         ...   ...        ...    ...   \n",
       "17993         1860     15457     2.0           0     0          3      8   \n",
       "17994         1802     11225     1.0           0     0          3      7   \n",
       "17995         4480      5000     2.5           0     0          5     12   \n",
       "17996         1310      7128     1.0           0     0          4      7   \n",
       "17997         2320     32772     2.0           0     0          3      9   \n",
       "\n",
       "       sqft_above  sqft_basement  yr_built  yr_renovated  zipcode      lat  \\\n",
       "0            1180              0      1955             0    98178  47.5112   \n",
       "1            2170            400      1951          1991    98125  47.7210   \n",
       "2             770              0      1933             0    98028  47.7379   \n",
       "3            1050            910      1965             0    98136  47.5208   \n",
       "4            1680              0      1987             0    98074  47.6168   \n",
       "...           ...            ...       ...           ...      ...      ...   \n",
       "17993        1860              0      1997             0    98019  47.7383   \n",
       "17994        1802              0      1961             0    98125  47.7205   \n",
       "17995        3420           1060      1902             0    98112  47.6275   \n",
       "17996         940            370      1980             0    98031  47.3958   \n",
       "17997        2320              0      1992             0    98053  47.6304   \n",
       "\n",
       "          long  sqft_living_15neighbors  sqft_lot_15neighbors sqft_bin  \n",
       "0     -122.257                     1340                  5650    small  \n",
       "1     -122.319                     1690                  7639    small  \n",
       "2     -122.233                     2720                  8062    small  \n",
       "3     -122.393                     1360                  5000    small  \n",
       "4     -122.045                     1800                  7503    small  \n",
       "...        ...                      ...                   ...      ...  \n",
       "17993 -121.955                     2040                 14055    small  \n",
       "17994 -122.323                     1810                  7332    small  \n",
       "17995 -122.315                     3220                  5600    small  \n",
       "17996 -122.189                     1400                  7161    small  \n",
       "17997 -121.988                     2610                 33305    small  \n",
       "\n",
       "[17998 rows x 22 columns]"
      ]
     },
     "execution_count": 15,
     "metadata": {},
     "output_type": "execute_result"
    }
   ],
   "source": [
    "# Plot a histplot showing the sqft_bin variable grouped into 3 bins with equal width.\n",
    "df_house['sqft_bin'] = pd.cut(df_house['sqft_living'],bins = 3, labels = labels)\n",
    "df_house"
   ]
  },
  {
   "cell_type": "code",
   "execution_count": 16,
   "metadata": {},
   "outputs": [
    {
     "data": {
      "text/plain": [
       "small     17794\n",
       "medium      198\n",
       "large         6\n",
       "Name: sqft_bin, dtype: int64"
      ]
     },
     "execution_count": 16,
     "metadata": {},
     "output_type": "execute_result"
    }
   ],
   "source": [
    "#Inspect the sqft_bin column, before and after adding the labels to see what is happening. Also try the value_counts().\n",
    "df_house['sqft_bin'].value_counts()"
   ]
  },
  {
   "cell_type": "markdown",
   "metadata": {},
   "source": [
    "### Numerical Binning - Equal Frequency"
   ]
  },
  {
   "cell_type": "markdown",
   "metadata": {},
   "source": [
    "Equal frequency binning divides a numerical feature into buckets, each of which have the same or similar number of observations.\n",
    "- In this case, since we have some values that appear many times, they must all appear in the same bin.\n",
    "- Since the bins each represent a different proportion of the original X scale, we must give each one a name.\n",
    "- You may come across 'quartile binning' which is simply equal frequency binning using 4 bins."
   ]
  },
  {
   "cell_type": "code",
   "execution_count": 17,
   "metadata": {
    "scrolled": true
   },
   "outputs": [],
   "source": [
    "# Create a new column in the dataframe and use the qcut function to create 3 equal freqency bins.\n",
    "df_house['sqft_bin_freq'] = pd.qcut(df_house['sqft_living'], q=3, labels = labels)"
   ]
  },
  {
   "cell_type": "code",
   "execution_count": 21,
   "metadata": {},
   "outputs": [
    {
     "data": {
      "text/plain": [
       "small     6012\n",
       "medium    5998\n",
       "large     5988\n",
       "Name: sqft_bin_freq, dtype: int64"
      ]
     },
     "execution_count": 21,
     "metadata": {},
     "output_type": "execute_result"
    }
   ],
   "source": [
    "#Explore the value counts of the sqft_bin_freq column. How does it differ from the equal width method?\n",
    "df_house['sqft_bin_freq'].value_counts()"
   ]
  },
  {
   "cell_type": "markdown",
   "metadata": {},
   "source": [
    "As we can see above, once we converted the values into buckets, the distribution became much more simplified and smoother. These smoother distributions allow for simplier interpretation of our data and may reduce the noise submitted to our models. "
   ]
  },
  {
   "cell_type": "markdown",
   "metadata": {},
   "source": [
    "### Numerical Binning - Manual Method"
   ]
  },
  {
   "cell_type": "markdown",
   "metadata": {},
   "source": [
    "Manual binning allows us to define the boundaries of each bin ourselves.\n",
    "\n",
    "In the above example, our research tells us that the housing tax brackets change at 2000 and at 5000 sqft. Since we know that people consider tax payments when purchasing houses, it seems more logical to think that these boundaries might be a sinsible way to bin this variable\n",
    "\n"
   ]
  },
  {
   "cell_type": "code",
   "execution_count": 23,
   "metadata": {},
   "outputs": [
    {
     "data": {
      "text/plain": [
       "small     9935\n",
       "medium    7901\n",
       "large      162\n",
       "Name: sqft_bin_manual, dtype: int64"
      ]
     },
     "execution_count": 23,
     "metadata": {},
     "output_type": "execute_result"
    }
   ],
   "source": [
    "df_house['sqft_bin_manual'] = pd.cut(df_house['sqft_living'],\n",
    "                              [1,2000,5000,20000],\n",
    "                              labels = labels)\n",
    "df_house['sqft_bin_manual'].value_counts()"
   ]
  },
  {
   "cell_type": "markdown",
   "metadata": {},
   "source": [
    "Interval Notation\n",
    "- (1, 2000) : do NOT include 1, do NOT include 2000\n",
    "- [1, 2000) : INCLUDE 1, do NOT include 2000\n",
    "- (1, 2000] : do NOT include 1, INCLUDE 2000\n",
    "- [1, 2000] : INCLUDE 1, INCLUDE 2000"
   ]
  },
  {
   "cell_type": "markdown",
   "metadata": {},
   "source": [
    "### Applying these methods to testing data"
   ]
  },
  {
   "cell_type": "markdown",
   "metadata": {},
   "source": [
    "If we simply apply cut or qcut to our testing data we will get different results (the exception being manual binning). Again, we need to find a way to apply the same binning thresholds to our testing data.\n",
    "\n",
    "The implementation with pandas is fairly simple, using the **ret_bins = True** argument to confirm that we want to save our bins in the variable training_bins. We can then re-use our training bins as the input to the cut method on our testing data. You can read more about it at the below link:\n",
    "https://pandas.pydata.org/pandas-docs/stable/reference/api/pandas.cut.html"
   ]
  },
  {
   "cell_type": "code",
   "execution_count": null,
   "metadata": {},
   "outputs": [],
   "source": [
    "#Note this code i\n",
    "df_house['sqft_bin_manual'], training_bins = pd.cut(df_house['sqft_living'],\n",
    "                              [1,2000,5000,20000],\n",
    "                              labels = labels,\n",
    "                              retbins= True)\n",
    "df_house.head()"
   ]
  },
  {
   "cell_type": "code",
   "execution_count": null,
   "metadata": {},
   "outputs": [],
   "source": [
    "#Note this code will not work by default. It is here to demonstrate syntax only.\n",
    "df_house_test = pd.read_csv('kc_house_data_test.csv')\n",
    "df_house_test['sqft_bin_manual'] = pd.cut(df_house_test['sqft_living'],\n",
    "                              bins = training_bins,\n",
    "                              labels = labels)\n",
    "df_house_test"
   ]
  },
  {
   "cell_type": "markdown",
   "metadata": {},
   "source": [
    "### Summary of Binning Methods So Far"
   ]
  },
  {
   "cell_type": "markdown",
   "metadata": {},
   "source": [
    "In practice, we try not to bin if possible, since this destroys some of the information we have in our data. Our first choice would be to bin for a good reason associated with domain knowledge or justification such as in the above example.\n",
    "\n"
   ]
  },
  {
   "cell_type": "markdown",
   "metadata": {},
   "source": [
    "### Numerical Smoothing using Bin Averages"
   ]
  },
  {
   "cell_type": "markdown",
   "metadata": {},
   "source": [
    "Smoothing is similar to binning, but instead of turning values into a categorical field, values are replaced by the mean, median or boundary value from their respective bins. Below is an example of bin smoothing using bin means. Note that to apply this to a testing dataset, a little more work would be required to maintain the same means for the testing bins."
   ]
  },
  {
   "cell_type": "code",
   "execution_count": null,
   "metadata": {
    "scrolled": true
   },
   "outputs": [],
   "source": [
    "# Find the average value per bin\n",
    "sqft_bin_mean = df_house.groupby('sqft_bin_manual').mean()['sqft_living']\n",
    "sqft_bin_mean\n",
    "\n",
    "# Assigning a new value based on the bin average\n",
    "df_house['sqft_bin_manual_smooth'] = sqft_bin_mean.loc[df_house['sqft_bin_manual']].reset_index(drop = True)\n",
    "df_house"
   ]
  },
  {
   "cell_type": "markdown",
   "metadata": {},
   "source": [
    "### Binning Using SKLearn"
   ]
  },
  {
   "cell_type": "markdown",
   "metadata": {},
   "source": [
    "In many cases, once we have permormed **binning to generate buckets or groups**, we'll need to **encode those categories** using one hot encoding, or labels in order to reach a numeric dataset.\n",
    "\n",
    "Instead of doing each separately, SKLearn's **KBinsDiscretizer** allows us to perform both actions together. This will be demonstrated in a separate workbook.\n",
    "\n",
    "Documentation for KBinsDiscretizer can be found here:\n",
    "https://scikit-learn.org/stable/modules/generated/sklearn.preprocessing.KBinsDiscretizer.html"
   ]
  },
  {
   "cell_type": "markdown",
   "metadata": {},
   "source": [
    "### Numerical Smoothing using Bin Averages"
   ]
  },
  {
   "cell_type": "markdown",
   "metadata": {},
   "source": [
    "Smoothing is similar to binning, but instead of turning values into a categorical field, values are replaced by the mean, median or boundary value from their respective bins. Below is an example of bin smoothing using bin means. Note that to apply this to a testing dataset, a little more work would be required to maintain the same means for the testing bins."
   ]
  },
  {
   "cell_type": "code",
   "execution_count": 25,
   "metadata": {},
   "outputs": [],
   "source": [
    "# Find the average value per bin\n",
    "sqft_bin_mean = df_house.groupby('sqft_bin_manual').mean()['sqft_living']\n",
    "sqft_bin_mean\n",
    "\n",
    "# Assigning a new value based on the bin average\n",
    "df_house['sqft_bin_manual_smooth'] = sqft_bin_mean.loc[df_house['sqft_bin_manual']].reset_index(drop = True)"
   ]
  },
  {
   "cell_type": "markdown",
   "metadata": {},
   "source": [
    "### Exercise 1: Binning a Histogram"
   ]
  },
  {
   "cell_type": "markdown",
   "metadata": {},
   "source": [
    "Below is data of basketball players displaying their jumping attribute."
   ]
  },
  {
   "cell_type": "code",
   "execution_count": null,
   "metadata": {},
   "outputs": [],
   "source": [
    "#import the basketball dataset\n",
    "df_dunk = pd.read_csv('dunk_data.csv')\n",
    "df_dunk"
   ]
  },
  {
   "cell_type": "code",
   "execution_count": null,
   "metadata": {
    "scrolled": false
   },
   "outputs": [],
   "source": [
    "# Display the unaltered distribution of the jump column\n",
    "sns.histplot(df_dunk['jump'], discrete = True)\n",
    "plt.show()"
   ]
  },
  {
   "cell_type": "code",
   "execution_count": null,
   "metadata": {
    "scrolled": false
   },
   "outputs": [],
   "source": [
    "# Display a binned version of the above histogram with 5 equal width bins\n",
    "sns.histplot(df_dunk['jump'], bins = 5)\n",
    "plt.show()"
   ]
  },
  {
   "cell_type": "markdown",
   "metadata": {},
   "source": [
    "### Exercise 2 (Advanced): Apply bins to training and testing data using Pandas"
   ]
  },
  {
   "cell_type": "markdown",
   "metadata": {},
   "source": [
    "Below is data of basketball players displaying their attributes. Bin the height column to tall and very tall with a threshold of 2m."
   ]
  },
  {
   "cell_type": "code",
   "execution_count": null,
   "metadata": {
    "scrolled": true
   },
   "outputs": [],
   "source": [
    "#apply binning with the threshold of 2m to the height column\n",
    "df_dunk = pd.read_csv('dunk_data.csv')\n",
    "df_dunk"
   ]
  },
  {
   "cell_type": "code",
   "execution_count": null,
   "metadata": {
    "scrolled": false
   },
   "outputs": [],
   "source": [
    "labels = ['tall','vtall']\n",
    "df_dunk['height_bin'], train_bins = pd.cut(df_dunk['height'],\n",
    "                              [1,200,300],\n",
    "                              labels = labels,\n",
    "                              retbins= True)\n",
    "df_dunk"
   ]
  },
  {
   "cell_type": "code",
   "execution_count": null,
   "metadata": {},
   "outputs": [],
   "source": [
    "#apply binning with the threshold of 2m to the height column\n",
    "df_dunk_test = pd.read_csv('dunk_data_test.csv')"
   ]
  },
  {
   "cell_type": "code",
   "execution_count": null,
   "metadata": {},
   "outputs": [],
   "source": [
    "#Note this code will not work by default. It is here to demonstrate syntax only.\n",
    "df_dunk_test['height_bin'] = pd.cut(df_dunk_test['height'],\n",
    "                              bins = train_bins,\n",
    "                              labels = labels)\n",
    "df_dunk_test.head()"
   ]
  }
 ],
 "metadata": {
  "kernelspec": {
   "display_name": "Python 3",
   "language": "python",
   "name": "python3"
  },
  "language_info": {
   "codemirror_mode": {
    "name": "ipython",
    "version": 3
   },
   "file_extension": ".py",
   "mimetype": "text/x-python",
   "name": "python",
   "nbconvert_exporter": "python",
   "pygments_lexer": "ipython3",
   "version": "3.8.5"
  }
 },
 "nbformat": 4,
 "nbformat_minor": 5
}
