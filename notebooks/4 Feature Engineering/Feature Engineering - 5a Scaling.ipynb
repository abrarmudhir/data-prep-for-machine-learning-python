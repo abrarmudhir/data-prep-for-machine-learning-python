{
 "cells": [
  {
   "cell_type": "markdown",
   "metadata": {},
   "source": [
    "# Scaling Variables"
   ]
  },
  {
   "cell_type": "markdown",
   "metadata": {},
   "source": [
    "In this notebook we will demonstrate a number of scaling techiques to ensure consistentcy across features."
   ]
  },
  {
   "cell_type": "markdown",
   "metadata": {},
   "source": [
    "### Import Basic Packages"
   ]
  },
  {
   "cell_type": "code",
   "execution_count": null,
   "metadata": {},
   "outputs": [],
   "source": [
    "# Basics\n",
    "import numpy as np\n",
    "import pandas as pd\n",
    "import seaborn as sns \n",
    "import matplotlib.pyplot as plt"
   ]
  },
  {
   "cell_type": "markdown",
   "metadata": {},
   "source": [
    "### Import Data"
   ]
  },
  {
   "cell_type": "markdown",
   "metadata": {},
   "source": [
    "We are working with features that describe retail stores, the products they have available and whether the store is recommended or not. This is a classification scenario and recommended is the target variable.\n"
   ]
  },
  {
   "cell_type": "code",
   "execution_count": 2,
   "metadata": {
    "scrolled": false
   },
   "outputs": [
    {
     "data": {
      "text/html": [
       "<div>\n",
       "<style scoped>\n",
       "    .dataframe tbody tr th:only-of-type {\n",
       "        vertical-align: middle;\n",
       "    }\n",
       "\n",
       "    .dataframe tbody tr th {\n",
       "        vertical-align: top;\n",
       "    }\n",
       "\n",
       "    .dataframe thead th {\n",
       "        text-align: right;\n",
       "    }\n",
       "</style>\n",
       "<table border=\"1\" class=\"dataframe\">\n",
       "  <thead>\n",
       "    <tr style=\"text-align: right;\">\n",
       "      <th></th>\n",
       "      <th>store_area</th>\n",
       "      <th>items_available</th>\n",
       "      <th>daily_cust_count</th>\n",
       "      <th>store_sales</th>\n",
       "      <th>city</th>\n",
       "      <th>recommended</th>\n",
       "    </tr>\n",
       "  </thead>\n",
       "  <tbody>\n",
       "    <tr>\n",
       "      <th>0</th>\n",
       "      <td>2157</td>\n",
       "      <td>1961</td>\n",
       "      <td>530</td>\n",
       "      <td>66490</td>\n",
       "      <td>Vancouver</td>\n",
       "      <td>0</td>\n",
       "    </tr>\n",
       "    <tr>\n",
       "      <th>1</th>\n",
       "      <td>1928</td>\n",
       "      <td>2278</td>\n",
       "      <td>210</td>\n",
       "      <td>39820</td>\n",
       "      <td>Surrey</td>\n",
       "      <td>0</td>\n",
       "    </tr>\n",
       "    <tr>\n",
       "      <th>2</th>\n",
       "      <td>2090</td>\n",
       "      <td>1609</td>\n",
       "      <td>936</td>\n",
       "      <td>70213</td>\n",
       "      <td>Burnaby</td>\n",
       "      <td>1</td>\n",
       "    </tr>\n",
       "    <tr>\n",
       "      <th>3</th>\n",
       "      <td>2942</td>\n",
       "      <td>1923</td>\n",
       "      <td>744</td>\n",
       "      <td>59103</td>\n",
       "      <td>Vancouver</td>\n",
       "      <td>0</td>\n",
       "    </tr>\n",
       "    <tr>\n",
       "      <th>4</th>\n",
       "      <td>3037</td>\n",
       "      <td>2111</td>\n",
       "      <td>450</td>\n",
       "      <td>46620</td>\n",
       "      <td>Surrey</td>\n",
       "      <td>0</td>\n",
       "    </tr>\n",
       "    <tr>\n",
       "      <th>...</th>\n",
       "      <td>...</td>\n",
       "      <td>...</td>\n",
       "      <td>...</td>\n",
       "      <td>...</td>\n",
       "      <td>...</td>\n",
       "      <td>...</td>\n",
       "    </tr>\n",
       "    <tr>\n",
       "      <th>659</th>\n",
       "      <td>1619</td>\n",
       "      <td>1366</td>\n",
       "      <td>1340</td>\n",
       "      <td>62940</td>\n",
       "      <td>Langley</td>\n",
       "      <td>0</td>\n",
       "    </tr>\n",
       "    <tr>\n",
       "      <th>660</th>\n",
       "      <td>2167</td>\n",
       "      <td>2020</td>\n",
       "      <td>980</td>\n",
       "      <td>66070</td>\n",
       "      <td>Vancouver</td>\n",
       "      <td>1</td>\n",
       "    </tr>\n",
       "    <tr>\n",
       "      <th>661</th>\n",
       "      <td>1884</td>\n",
       "      <td>1892</td>\n",
       "      <td>630</td>\n",
       "      <td>43190</td>\n",
       "      <td>Surrey</td>\n",
       "      <td>0</td>\n",
       "    </tr>\n",
       "    <tr>\n",
       "      <th>662</th>\n",
       "      <td>1211</td>\n",
       "      <td>1447</td>\n",
       "      <td>1110</td>\n",
       "      <td>40730</td>\n",
       "      <td>Langley</td>\n",
       "      <td>0</td>\n",
       "    </tr>\n",
       "    <tr>\n",
       "      <th>663</th>\n",
       "      <td>2946</td>\n",
       "      <td>2048</td>\n",
       "      <td>770</td>\n",
       "      <td>78530</td>\n",
       "      <td>Vancouver</td>\n",
       "      <td>0</td>\n",
       "    </tr>\n",
       "  </tbody>\n",
       "</table>\n",
       "<p>664 rows × 6 columns</p>\n",
       "</div>"
      ],
      "text/plain": [
       "     store_area  items_available  daily_cust_count  store_sales       city  \\\n",
       "0          2157             1961               530        66490  Vancouver   \n",
       "1          1928             2278               210        39820     Surrey   \n",
       "2          2090             1609               936        70213    Burnaby   \n",
       "3          2942             1923               744        59103  Vancouver   \n",
       "4          3037             2111               450        46620     Surrey   \n",
       "..          ...              ...               ...          ...        ...   \n",
       "659        1619             1366              1340        62940    Langley   \n",
       "660        2167             2020               980        66070  Vancouver   \n",
       "661        1884             1892               630        43190     Surrey   \n",
       "662        1211             1447              1110        40730    Langley   \n",
       "663        2946             2048               770        78530  Vancouver   \n",
       "\n",
       "     recommended  \n",
       "0              0  \n",
       "1              0  \n",
       "2              1  \n",
       "3              0  \n",
       "4              0  \n",
       "..           ...  \n",
       "659            0  \n",
       "660            1  \n",
       "661            0  \n",
       "662            0  \n",
       "663            0  \n",
       "\n",
       "[664 rows x 6 columns]"
      ]
     },
     "execution_count": 2,
     "metadata": {},
     "output_type": "execute_result"
    }
   ],
   "source": [
    "# Import store sales dataset\n",
    "df_stores = pd.read_csv('stores.csv')\n",
    "df_stores"
   ]
  },
  {
   "cell_type": "code",
   "execution_count": 3,
   "metadata": {
    "scrolled": true
   },
   "outputs": [],
   "source": [
    "# Import Testing Data\n",
    "df_stores_test = pd.read_csv('stores_test.csv')"
   ]
  },
  {
   "cell_type": "markdown",
   "metadata": {},
   "source": [
    "### MinMax Scaling (Normalization)"
   ]
  },
  {
   "cell_type": "markdown",
   "metadata": {},
   "source": [
    "One of the simplest methods to scale our data is to use minmax scaling.\n",
    "\n",
    "This method focuses on the absolute range of each feature, brings all values into a range of 0 to 1.\n",
    "\n",
    "We wil be using SKLearn's **MinMaxScaler**\n",
    "https://scikit-learn.org/stable/modules/generated/sklearn.preprocessing.MinMaxScaler.html"
   ]
  },
  {
   "cell_type": "code",
   "execution_count": 2,
   "metadata": {
    "scrolled": false
   },
   "outputs": [
    {
     "data": {
      "text/html": [
       "<div>\n",
       "<style scoped>\n",
       "    .dataframe tbody tr th:only-of-type {\n",
       "        vertical-align: middle;\n",
       "    }\n",
       "\n",
       "    .dataframe tbody tr th {\n",
       "        vertical-align: top;\n",
       "    }\n",
       "\n",
       "    .dataframe thead th {\n",
       "        text-align: right;\n",
       "    }\n",
       "</style>\n",
       "<table border=\"1\" class=\"dataframe\">\n",
       "  <thead>\n",
       "    <tr style=\"text-align: right;\">\n",
       "      <th></th>\n",
       "      <th>store_area</th>\n",
       "      <th>items_available</th>\n",
       "      <th>daily_cust_count</th>\n",
       "      <th>store_sales</th>\n",
       "      <th>city</th>\n",
       "      <th>recommended</th>\n",
       "    </tr>\n",
       "  </thead>\n",
       "  <tbody>\n",
       "    <tr>\n",
       "      <th>0</th>\n",
       "      <td>2157</td>\n",
       "      <td>1961</td>\n",
       "      <td>530</td>\n",
       "      <td>66490</td>\n",
       "      <td>Vancouver</td>\n",
       "      <td>0</td>\n",
       "    </tr>\n",
       "    <tr>\n",
       "      <th>1</th>\n",
       "      <td>1928</td>\n",
       "      <td>2278</td>\n",
       "      <td>210</td>\n",
       "      <td>39820</td>\n",
       "      <td>Surrey</td>\n",
       "      <td>0</td>\n",
       "    </tr>\n",
       "    <tr>\n",
       "      <th>2</th>\n",
       "      <td>2090</td>\n",
       "      <td>1609</td>\n",
       "      <td>936</td>\n",
       "      <td>70213</td>\n",
       "      <td>Burnaby</td>\n",
       "      <td>1</td>\n",
       "    </tr>\n",
       "    <tr>\n",
       "      <th>3</th>\n",
       "      <td>2942</td>\n",
       "      <td>1923</td>\n",
       "      <td>744</td>\n",
       "      <td>59103</td>\n",
       "      <td>Vancouver</td>\n",
       "      <td>0</td>\n",
       "    </tr>\n",
       "    <tr>\n",
       "      <th>4</th>\n",
       "      <td>3037</td>\n",
       "      <td>2111</td>\n",
       "      <td>450</td>\n",
       "      <td>46620</td>\n",
       "      <td>Surrey</td>\n",
       "      <td>0</td>\n",
       "    </tr>\n",
       "    <tr>\n",
       "      <th>...</th>\n",
       "      <td>...</td>\n",
       "      <td>...</td>\n",
       "      <td>...</td>\n",
       "      <td>...</td>\n",
       "      <td>...</td>\n",
       "      <td>...</td>\n",
       "    </tr>\n",
       "    <tr>\n",
       "      <th>659</th>\n",
       "      <td>1619</td>\n",
       "      <td>1366</td>\n",
       "      <td>1340</td>\n",
       "      <td>62940</td>\n",
       "      <td>Langley</td>\n",
       "      <td>0</td>\n",
       "    </tr>\n",
       "    <tr>\n",
       "      <th>660</th>\n",
       "      <td>2167</td>\n",
       "      <td>2020</td>\n",
       "      <td>980</td>\n",
       "      <td>66070</td>\n",
       "      <td>Vancouver</td>\n",
       "      <td>1</td>\n",
       "    </tr>\n",
       "    <tr>\n",
       "      <th>661</th>\n",
       "      <td>1884</td>\n",
       "      <td>1892</td>\n",
       "      <td>630</td>\n",
       "      <td>43190</td>\n",
       "      <td>Surrey</td>\n",
       "      <td>0</td>\n",
       "    </tr>\n",
       "    <tr>\n",
       "      <th>662</th>\n",
       "      <td>1211</td>\n",
       "      <td>1447</td>\n",
       "      <td>1110</td>\n",
       "      <td>40730</td>\n",
       "      <td>Langley</td>\n",
       "      <td>0</td>\n",
       "    </tr>\n",
       "    <tr>\n",
       "      <th>663</th>\n",
       "      <td>2946</td>\n",
       "      <td>2048</td>\n",
       "      <td>770</td>\n",
       "      <td>78530</td>\n",
       "      <td>Vancouver</td>\n",
       "      <td>0</td>\n",
       "    </tr>\n",
       "  </tbody>\n",
       "</table>\n",
       "<p>664 rows × 6 columns</p>\n",
       "</div>"
      ],
      "text/plain": [
       "     store_area  items_available  daily_cust_count  store_sales       city  \\\n",
       "0          2157             1961               530        66490  Vancouver   \n",
       "1          1928             2278               210        39820     Surrey   \n",
       "2          2090             1609               936        70213    Burnaby   \n",
       "3          2942             1923               744        59103  Vancouver   \n",
       "4          3037             2111               450        46620     Surrey   \n",
       "..          ...              ...               ...          ...        ...   \n",
       "659        1619             1366              1340        62940    Langley   \n",
       "660        2167             2020               980        66070  Vancouver   \n",
       "661        1884             1892               630        43190     Surrey   \n",
       "662        1211             1447              1110        40730    Langley   \n",
       "663        2946             2048               770        78530  Vancouver   \n",
       "\n",
       "     recommended  \n",
       "0              0  \n",
       "1              0  \n",
       "2              1  \n",
       "3              0  \n",
       "4              0  \n",
       "..           ...  \n",
       "659            0  \n",
       "660            1  \n",
       "661            0  \n",
       "662            0  \n",
       "663            0  \n",
       "\n",
       "[664 rows x 6 columns]"
      ]
     },
     "execution_count": 2,
     "metadata": {},
     "output_type": "execute_result"
    }
   ],
   "source": [
    "# Import store sales dataset\n",
    "df_stores = pd.read_csv('stores.csv')\n",
    "df_stores"
   ]
  },
  {
   "cell_type": "code",
   "execution_count": 3,
   "metadata": {},
   "outputs": [],
   "source": [
    "numeric_cols = df_stores.drop('recommended', axis = 1).select_dtypes('number').columns"
   ]
  },
  {
   "cell_type": "code",
   "execution_count": 4,
   "metadata": {},
   "outputs": [
    {
     "data": {
      "image/png": "[encoded data removed]",
      "text/plain": [
       "<Figure size 432x72 with 1 Axes>"
      ]
     },
     "metadata": {
      "needs_background": "light"
     },
     "output_type": "display_data"
    },
    {
     "data": {
      "image/png": "[encoded data removed]",
      "text/plain": [
       "<Figure size 432x72 with 1 Axes>"
      ]
     },
     "metadata": {
      "needs_background": "light"
     },
     "output_type": "display_data"
    },
    {
     "data": {
      "image/png": "[encoded data removed]",
      "text/plain": [
       "<Figure size 432x72 with 1 Axes>"
      ]
     },
     "metadata": {
      "needs_background": "light"
     },
     "output_type": "display_data"
    },
    {
     "data": {
      "image/png": "[encoded data removed]",
      "text/plain": [
       "<Figure size 432x72 with 1 Axes>"
      ]
     },
     "metadata": {
      "needs_background": "light"
     },
     "output_type": "display_data"
    }
   ],
   "source": [
    "# plot each of the numeric features\n",
    "\n",
    "for feature in numeric_cols:\n",
    "    fig, (ax) = plt.subplots(1,1,figsize=(6,1))\n",
    "    sns.histplot(df_stores[feature], ax = ax)\n",
    "    plt.show()"
   ]
  },
  {
   "cell_type": "code",
   "execution_count": 5,
   "metadata": {
    "scrolled": false
   },
   "outputs": [
    {
     "data": {
      "text/html": [
       "<div>\n",
       "<style scoped>\n",
       "    .dataframe tbody tr th:only-of-type {\n",
       "        vertical-align: middle;\n",
       "    }\n",
       "\n",
       "    .dataframe tbody tr th {\n",
       "        vertical-align: top;\n",
       "    }\n",
       "\n",
       "    .dataframe thead th {\n",
       "        text-align: right;\n",
       "    }\n",
       "</style>\n",
       "<table border=\"1\" class=\"dataframe\">\n",
       "  <thead>\n",
       "    <tr style=\"text-align: right;\">\n",
       "      <th></th>\n",
       "      <th>store_area</th>\n",
       "      <th>items_available</th>\n",
       "      <th>daily_cust_count</th>\n",
       "      <th>store_sales</th>\n",
       "      <th>recommended</th>\n",
       "    </tr>\n",
       "  </thead>\n",
       "  <tbody>\n",
       "    <tr>\n",
       "      <th>count</th>\n",
       "      <td>664.000000</td>\n",
       "      <td>664.000000</td>\n",
       "      <td>664.000000</td>\n",
       "      <td>664.000000</td>\n",
       "      <td>664.000000</td>\n",
       "    </tr>\n",
       "    <tr>\n",
       "      <th>mean</th>\n",
       "      <td>2095.987952</td>\n",
       "      <td>1860.156627</td>\n",
       "      <td>818.875000</td>\n",
       "      <td>60367.125000</td>\n",
       "      <td>0.323795</td>\n",
       "    </tr>\n",
       "    <tr>\n",
       "      <th>std</th>\n",
       "      <td>501.502809</td>\n",
       "      <td>310.416296</td>\n",
       "      <td>265.931105</td>\n",
       "      <td>17084.923008</td>\n",
       "      <td>0.468276</td>\n",
       "    </tr>\n",
       "    <tr>\n",
       "      <th>min</th>\n",
       "      <td>869.000000</td>\n",
       "      <td>932.000000</td>\n",
       "      <td>10.000000</td>\n",
       "      <td>14920.000000</td>\n",
       "      <td>0.000000</td>\n",
       "    </tr>\n",
       "    <tr>\n",
       "      <th>25%</th>\n",
       "      <td>1755.500000</td>\n",
       "      <td>1670.000000</td>\n",
       "      <td>627.500000</td>\n",
       "      <td>46050.000000</td>\n",
       "      <td>0.000000</td>\n",
       "    </tr>\n",
       "    <tr>\n",
       "      <th>50%</th>\n",
       "      <td>2007.000000</td>\n",
       "      <td>1900.500000</td>\n",
       "      <td>850.000000</td>\n",
       "      <td>62895.000000</td>\n",
       "      <td>0.000000</td>\n",
       "    </tr>\n",
       "    <tr>\n",
       "      <th>75%</th>\n",
       "      <td>2362.000000</td>\n",
       "      <td>2072.250000</td>\n",
       "      <td>988.000000</td>\n",
       "      <td>72415.000000</td>\n",
       "      <td>1.000000</td>\n",
       "    </tr>\n",
       "    <tr>\n",
       "      <th>max</th>\n",
       "      <td>4186.000000</td>\n",
       "      <td>2667.000000</td>\n",
       "      <td>1530.000000</td>\n",
       "      <td>116320.000000</td>\n",
       "      <td>1.000000</td>\n",
       "    </tr>\n",
       "  </tbody>\n",
       "</table>\n",
       "</div>"
      ],
      "text/plain": [
       "        store_area  items_available  daily_cust_count    store_sales  \\\n",
       "count   664.000000       664.000000        664.000000     664.000000   \n",
       "mean   2095.987952      1860.156627        818.875000   60367.125000   \n",
       "std     501.502809       310.416296        265.931105   17084.923008   \n",
       "min     869.000000       932.000000         10.000000   14920.000000   \n",
       "25%    1755.500000      1670.000000        627.500000   46050.000000   \n",
       "50%    2007.000000      1900.500000        850.000000   62895.000000   \n",
       "75%    2362.000000      2072.250000        988.000000   72415.000000   \n",
       "max    4186.000000      2667.000000       1530.000000  116320.000000   \n",
       "\n",
       "       recommended  \n",
       "count   664.000000  \n",
       "mean      0.323795  \n",
       "std       0.468276  \n",
       "min       0.000000  \n",
       "25%       0.000000  \n",
       "50%       0.000000  \n",
       "75%       1.000000  \n",
       "max       1.000000  "
      ]
     },
     "execution_count": 5,
     "metadata": {},
     "output_type": "execute_result"
    }
   ],
   "source": [
    "# View the descriptive stats for each numeric column in the dataframe\n",
    "df_stores.describe()"
   ]
  },
  {
   "cell_type": "code",
   "execution_count": 6,
   "metadata": {
    "scrolled": true
   },
   "outputs": [
    {
     "data": {
      "text/html": [
       "<div>\n",
       "<style scoped>\n",
       "    .dataframe tbody tr th:only-of-type {\n",
       "        vertical-align: middle;\n",
       "    }\n",
       "\n",
       "    .dataframe tbody tr th {\n",
       "        vertical-align: top;\n",
       "    }\n",
       "\n",
       "    .dataframe thead th {\n",
       "        text-align: right;\n",
       "    }\n",
       "</style>\n",
       "<table border=\"1\" class=\"dataframe\">\n",
       "  <thead>\n",
       "    <tr style=\"text-align: right;\">\n",
       "      <th></th>\n",
       "      <th>store_area</th>\n",
       "      <th>items_available</th>\n",
       "      <th>daily_cust_count</th>\n",
       "      <th>store_sales</th>\n",
       "      <th>city</th>\n",
       "      <th>recommended</th>\n",
       "    </tr>\n",
       "  </thead>\n",
       "  <tbody>\n",
       "    <tr>\n",
       "      <th>0</th>\n",
       "      <td>0.388303</td>\n",
       "      <td>0.593084</td>\n",
       "      <td>0.342105</td>\n",
       "      <td>0.508580</td>\n",
       "      <td>Vancouver</td>\n",
       "      <td>0</td>\n",
       "    </tr>\n",
       "    <tr>\n",
       "      <th>1</th>\n",
       "      <td>0.319264</td>\n",
       "      <td>0.775793</td>\n",
       "      <td>0.131579</td>\n",
       "      <td>0.245562</td>\n",
       "      <td>Surrey</td>\n",
       "      <td>0</td>\n",
       "    </tr>\n",
       "    <tr>\n",
       "      <th>2</th>\n",
       "      <td>0.368104</td>\n",
       "      <td>0.390202</td>\n",
       "      <td>0.609211</td>\n",
       "      <td>0.545296</td>\n",
       "      <td>Burnaby</td>\n",
       "      <td>1</td>\n",
       "    </tr>\n",
       "    <tr>\n",
       "      <th>3</th>\n",
       "      <td>0.624962</td>\n",
       "      <td>0.571182</td>\n",
       "      <td>0.482895</td>\n",
       "      <td>0.435730</td>\n",
       "      <td>Vancouver</td>\n",
       "      <td>0</td>\n",
       "    </tr>\n",
       "    <tr>\n",
       "      <th>4</th>\n",
       "      <td>0.653603</td>\n",
       "      <td>0.679539</td>\n",
       "      <td>0.289474</td>\n",
       "      <td>0.312623</td>\n",
       "      <td>Surrey</td>\n",
       "      <td>0</td>\n",
       "    </tr>\n",
       "    <tr>\n",
       "      <th>...</th>\n",
       "      <td>...</td>\n",
       "      <td>...</td>\n",
       "      <td>...</td>\n",
       "      <td>...</td>\n",
       "      <td>...</td>\n",
       "      <td>...</td>\n",
       "    </tr>\n",
       "    <tr>\n",
       "      <th>659</th>\n",
       "      <td>0.226108</td>\n",
       "      <td>0.250144</td>\n",
       "      <td>0.875000</td>\n",
       "      <td>0.473570</td>\n",
       "      <td>Langley</td>\n",
       "      <td>0</td>\n",
       "    </tr>\n",
       "    <tr>\n",
       "      <th>660</th>\n",
       "      <td>0.391317</td>\n",
       "      <td>0.627089</td>\n",
       "      <td>0.638158</td>\n",
       "      <td>0.504438</td>\n",
       "      <td>Vancouver</td>\n",
       "      <td>1</td>\n",
       "    </tr>\n",
       "    <tr>\n",
       "      <th>661</th>\n",
       "      <td>0.305999</td>\n",
       "      <td>0.553314</td>\n",
       "      <td>0.407895</td>\n",
       "      <td>0.278797</td>\n",
       "      <td>Surrey</td>\n",
       "      <td>0</td>\n",
       "    </tr>\n",
       "    <tr>\n",
       "      <th>662</th>\n",
       "      <td>0.103105</td>\n",
       "      <td>0.296830</td>\n",
       "      <td>0.723684</td>\n",
       "      <td>0.254536</td>\n",
       "      <td>Langley</td>\n",
       "      <td>0</td>\n",
       "    </tr>\n",
       "    <tr>\n",
       "      <th>663</th>\n",
       "      <td>0.626168</td>\n",
       "      <td>0.643228</td>\n",
       "      <td>0.500000</td>\n",
       "      <td>0.627318</td>\n",
       "      <td>Vancouver</td>\n",
       "      <td>0</td>\n",
       "    </tr>\n",
       "  </tbody>\n",
       "</table>\n",
       "<p>664 rows × 6 columns</p>\n",
       "</div>"
      ],
      "text/plain": [
       "     store_area  items_available  daily_cust_count  store_sales       city  \\\n",
       "0      0.388303         0.593084          0.342105     0.508580  Vancouver   \n",
       "1      0.319264         0.775793          0.131579     0.245562     Surrey   \n",
       "2      0.368104         0.390202          0.609211     0.545296    Burnaby   \n",
       "3      0.624962         0.571182          0.482895     0.435730  Vancouver   \n",
       "4      0.653603         0.679539          0.289474     0.312623     Surrey   \n",
       "..          ...              ...               ...          ...        ...   \n",
       "659    0.226108         0.250144          0.875000     0.473570    Langley   \n",
       "660    0.391317         0.627089          0.638158     0.504438  Vancouver   \n",
       "661    0.305999         0.553314          0.407895     0.278797     Surrey   \n",
       "662    0.103105         0.296830          0.723684     0.254536    Langley   \n",
       "663    0.626168         0.643228          0.500000     0.627318  Vancouver   \n",
       "\n",
       "     recommended  \n",
       "0              0  \n",
       "1              0  \n",
       "2              1  \n",
       "3              0  \n",
       "4              0  \n",
       "..           ...  \n",
       "659            0  \n",
       "660            1  \n",
       "661            0  \n",
       "662            0  \n",
       "663            0  \n",
       "\n",
       "[664 rows x 6 columns]"
      ]
     },
     "execution_count": 6,
     "metadata": {},
     "output_type": "execute_result"
    }
   ],
   "source": [
    "# Import MinMaxScaler and fit and transform to the training data \n",
    "from sklearn.preprocessing import MinMaxScaler\n",
    "minmax_scaler = MinMaxScaler()\n",
    "\n",
    "df_minmax = df_stores.copy()\n",
    "df_minmax[numeric_cols] = minmax_scaler.fit_transform(df_minmax[numeric_cols])\n",
    "df_minmax"
   ]
  },
  {
   "cell_type": "code",
   "execution_count": 9,
   "metadata": {},
   "outputs": [],
   "source": [
    "#Apply the fitted scalar to the test data\n",
    "df_test_minmax = df_stores_test.copy()\n",
    "df_test_minmax[numeric_cols] = minmax_scaler.transform(df_test_minmax[numeric_cols])"
   ]
  },
  {
   "cell_type": "markdown",
   "metadata": {},
   "source": [
    "By exploring the describe function we can now see that our features have a mean of zero and a stdev of 1."
   ]
  },
  {
   "cell_type": "code",
   "execution_count": 7,
   "metadata": {},
   "outputs": [
    {
     "data": {
      "image/png": "[encoded data removed]",
      "text/plain": [
       "<Figure size 864x288 with 2 Axes>"
      ]
     },
     "metadata": {
      "needs_background": "light"
     },
     "output_type": "display_data"
    }
   ],
   "source": [
    "#Plot a scatter chart of the Store_Sales column and Store_Area column before and after minmax scaling\n",
    "fig, (before, after) = plt.subplots(1, 2,figsize=(12,4))\n",
    "before = df_stores.plot.scatter(ax = before, x='store_sales', y='store_area', label = 'Before Scaling (training)', color = 'darkblue')\n",
    "after = df_minmax.plot.scatter(ax = after, x='store_sales', y='store_area', label = 'After Scaling (training)', color= 'darkblue')"
   ]
  },
  {
   "cell_type": "code",
   "execution_count": 11,
   "metadata": {
    "scrolled": false
   },
   "outputs": [
    {
     "data": {
      "image/png": "[encoded data removed]",
      "text/plain": [
       "<Figure size 864x288 with 2 Axes>"
      ]
     },
     "metadata": {
      "needs_background": "light"
     },
     "output_type": "display_data"
    }
   ],
   "source": [
    "#Plot a scatter chart of the Store_Sales column and Store_Area column before and after minmax scaling\n",
    "fig, (before, after) = plt.subplots(1, 2,figsize=(12,4))\n",
    "before = df_stores_test.plot.scatter(ax = before, x='store_sales', y='store_area', label = 'Before Scaling (testing)', color = 'orange')\n",
    "after = df_test_minmax.plot.scatter(ax = after, x='store_sales', y='store_area', label = 'After Scaling (testing)', color= 'orange')"
   ]
  },
  {
   "cell_type": "markdown",
   "metadata": {},
   "source": [
    "Our features now occupy a similar feature space on each axis. This wil improve the performance of many machine learning models."
   ]
  },
  {
   "cell_type": "markdown",
   "metadata": {},
   "source": [
    "### Using StandardScaler to Standardize Normally Distributed Variables"
   ]
  },
  {
   "cell_type": "markdown",
   "metadata": {},
   "source": [
    "When our features are normally distributed, we typically prefer to use a standardization technique, to bring the distributions of variables into comparable ranges.\n",
    "\n",
    "This method focuses on the distribution of the data more than the absolute range, which can be helpful for distributions with tails like the normal distribution.\n",
    "\n",
    "We wil be using SKLearn's **StandardScaler**\n",
    "https://scikit-learn.org/stable/modules/generated/sklearn.preprocessing.StandardScaler.html"
   ]
  },
  {
   "cell_type": "code",
   "execution_count": 12,
   "metadata": {},
   "outputs": [],
   "source": [
    "# Import both the normally distributed stores data, and the testing dataset\n",
    "df_stores_norm = pd.read_csv('stores_norm_dist.csv')\n",
    "df_stores_norm_test = pd.read_csv('stores_norm_dist_test.csv')\n",
    "\n",
    "# We are working with features that describe retail stores.\n",
    "# the products they have available and whether the store is recommended or not.\n",
    "# This is a classification scenario and recommended is the target variable."
   ]
  },
  {
   "cell_type": "code",
   "execution_count": 13,
   "metadata": {},
   "outputs": [],
   "source": [
    "numeric_cols = df_stores_norm.drop('recommended', axis = 1).select_dtypes('number').columns"
   ]
  },
  {
   "cell_type": "code",
   "execution_count": 14,
   "metadata": {},
   "outputs": [
    {
     "data": {
      "image/png": "[encoded data removed]",
      "text/plain": [
       "<Figure size 432x72 with 1 Axes>"
      ]
     },
     "metadata": {
      "needs_background": "light"
     },
     "output_type": "display_data"
    },
    {
     "data": {
      "image/png": "[encoded data removed]",
      "text/plain": [
       "<Figure size 432x72 with 1 Axes>"
      ]
     },
     "metadata": {
      "needs_background": "light"
     },
     "output_type": "display_data"
    },
    {
     "data": {
      "image/png": "[encoded data removed]",
      "text/plain": [
       "<Figure size 432x72 with 1 Axes>"
      ]
     },
     "metadata": {
      "needs_background": "light"
     },
     "output_type": "display_data"
    },
    {
     "data": {
      "image/png": "[encoded data removed]",
      "text/plain": [
       "<Figure size 432x72 with 1 Axes>"
      ]
     },
     "metadata": {
      "needs_background": "light"
     },
     "output_type": "display_data"
    }
   ],
   "source": [
    "# plot each of the numeric features\n",
    "\n",
    "for feature in numeric_cols:\n",
    "    fig, (ax) = plt.subplots(1,1,figsize=(6,1))\n",
    "    sns.histplot(df_stores_norm[feature], ax = ax)\n",
    "    plt.show()"
   ]
  },
  {
   "cell_type": "code",
   "execution_count": 15,
   "metadata": {},
   "outputs": [
    {
     "data": {
      "text/html": [
       "<div>\n",
       "<style scoped>\n",
       "    .dataframe tbody tr th:only-of-type {\n",
       "        vertical-align: middle;\n",
       "    }\n",
       "\n",
       "    .dataframe tbody tr th {\n",
       "        vertical-align: top;\n",
       "    }\n",
       "\n",
       "    .dataframe thead th {\n",
       "        text-align: right;\n",
       "    }\n",
       "</style>\n",
       "<table border=\"1\" class=\"dataframe\">\n",
       "  <thead>\n",
       "    <tr style=\"text-align: right;\">\n",
       "      <th></th>\n",
       "      <th>store_area</th>\n",
       "      <th>items_available</th>\n",
       "      <th>daily_cust_count</th>\n",
       "      <th>store_sales</th>\n",
       "      <th>recommended</th>\n",
       "    </tr>\n",
       "  </thead>\n",
       "  <tbody>\n",
       "    <tr>\n",
       "      <th>count</th>\n",
       "      <td>6.480000e+02</td>\n",
       "      <td>6.480000e+02</td>\n",
       "      <td>6.480000e+02</td>\n",
       "      <td>6.480000e+02</td>\n",
       "      <td>648.000000</td>\n",
       "    </tr>\n",
       "    <tr>\n",
       "      <th>mean</th>\n",
       "      <td>-5.184467e-16</td>\n",
       "      <td>3.387208e-16</td>\n",
       "      <td>-2.244432e-17</td>\n",
       "      <td>1.045974e-16</td>\n",
       "      <td>0.279321</td>\n",
       "    </tr>\n",
       "    <tr>\n",
       "      <th>std</th>\n",
       "      <td>1.000772e+00</td>\n",
       "      <td>1.000772e+00</td>\n",
       "      <td>1.000772e+00</td>\n",
       "      <td>1.000772e+00</td>\n",
       "      <td>0.449012</td>\n",
       "    </tr>\n",
       "    <tr>\n",
       "      <th>min</th>\n",
       "      <td>-2.372331e+00</td>\n",
       "      <td>-2.956288e+00</td>\n",
       "      <td>-2.361091e+00</td>\n",
       "      <td>-2.877187e+00</td>\n",
       "      <td>0.000000</td>\n",
       "    </tr>\n",
       "    <tr>\n",
       "      <th>25%</th>\n",
       "      <td>-5.945928e-01</td>\n",
       "      <td>-6.876234e-01</td>\n",
       "      <td>-4.941783e-01</td>\n",
       "      <td>-6.350262e-01</td>\n",
       "      <td>0.000000</td>\n",
       "    </tr>\n",
       "    <tr>\n",
       "      <th>50%</th>\n",
       "      <td>-1.163678e-02</td>\n",
       "      <td>6.824269e-03</td>\n",
       "      <td>-4.348422e-02</td>\n",
       "      <td>-6.691888e-02</td>\n",
       "      <td>0.000000</td>\n",
       "    </tr>\n",
       "    <tr>\n",
       "      <th>75%</th>\n",
       "      <td>5.390790e-01</td>\n",
       "      <td>7.058552e-01</td>\n",
       "      <td>4.092800e-01</td>\n",
       "      <td>6.762417e-01</td>\n",
       "      <td>1.000000</td>\n",
       "    </tr>\n",
       "    <tr>\n",
       "      <th>max</th>\n",
       "      <td>1.083739e+01</td>\n",
       "      <td>3.468364e+00</td>\n",
       "      <td>1.086930e+01</td>\n",
       "      <td>5.092928e+00</td>\n",
       "      <td>1.000000</td>\n",
       "    </tr>\n",
       "  </tbody>\n",
       "</table>\n",
       "</div>"
      ],
      "text/plain": [
       "         store_area  items_available  daily_cust_count   store_sales  \\\n",
       "count  6.480000e+02     6.480000e+02      6.480000e+02  6.480000e+02   \n",
       "mean  -5.184467e-16     3.387208e-16     -2.244432e-17  1.045974e-16   \n",
       "std    1.000772e+00     1.000772e+00      1.000772e+00  1.000772e+00   \n",
       "min   -2.372331e+00    -2.956288e+00     -2.361091e+00 -2.877187e+00   \n",
       "25%   -5.945928e-01    -6.876234e-01     -4.941783e-01 -6.350262e-01   \n",
       "50%   -1.163678e-02     6.824269e-03     -4.348422e-02 -6.691888e-02   \n",
       "75%    5.390790e-01     7.058552e-01      4.092800e-01  6.762417e-01   \n",
       "max    1.083739e+01     3.468364e+00      1.086930e+01  5.092928e+00   \n",
       "\n",
       "       recommended  \n",
       "count   648.000000  \n",
       "mean      0.279321  \n",
       "std       0.449012  \n",
       "min       0.000000  \n",
       "25%       0.000000  \n",
       "50%       0.000000  \n",
       "75%       1.000000  \n",
       "max       1.000000  "
      ]
     },
     "execution_count": 15,
     "metadata": {},
     "output_type": "execute_result"
    }
   ],
   "source": [
    "# Import standard scalar and fit transform the training data\n",
    "from sklearn.preprocessing import StandardScaler\n",
    "std_scaler = StandardScaler()\n",
    "\n",
    "df_stdscale = df_stores_norm.copy()\n",
    "df_stdscale[numeric_cols] = std_scaler.fit_transform(df_stdscale[numeric_cols])\n",
    "df_stdscale.describe()"
   ]
  },
  {
   "cell_type": "markdown",
   "metadata": {},
   "source": [
    "By exploring the describe function we can now see that our features have a mean of zero and a stdev of 1."
   ]
  },
  {
   "cell_type": "code",
   "execution_count": 16,
   "metadata": {},
   "outputs": [
    {
     "data": {
      "image/png": "[encoded data removed]",
      "text/plain": [
       "<Figure size 864x288 with 2 Axes>"
      ]
     },
     "metadata": {
      "needs_background": "light"
     },
     "output_type": "display_data"
    }
   ],
   "source": [
    "#Plot a scatter chart of the Store_Sales column and Store_Area column before scaling\n",
    "fig, (before, after) = plt.subplots(1, 2,figsize=(12,4))\n",
    "before = df_stores_norm.plot.scatter(ax = before, x='store_sales', y='store_area', label = 'Before Standardization', color = 'darkblue')\n",
    "after = df_stdscale.plot.scatter(ax = after, x='store_sales', y='store_area', label = 'After Standardization', color = 'darkblue')"
   ]
  },
  {
   "cell_type": "code",
   "execution_count": 20,
   "metadata": {},
   "outputs": [],
   "source": [
    "#Apply the fitted scalar to the test data\n",
    "df_stdscale_test = df_stores_norm_test.copy()\n",
    "df_stdscale_test[numeric_cols] = std_scaler.transform(df_stdscale_test[numeric_cols])"
   ]
  },
  {
   "cell_type": "code",
   "execution_count": 21,
   "metadata": {},
   "outputs": [
    {
     "data": {
      "image/png": "[encoded data removed]",
      "text/plain": [
       "<Figure size 864x288 with 2 Axes>"
      ]
     },
     "metadata": {
      "needs_background": "light"
     },
     "output_type": "display_data"
    }
   ],
   "source": [
    "#Plot a scatter chart of the Store_Sales column and Store_Area column before and after minmax scaling\n",
    "fig, (before, after) = plt.subplots(1, 2,figsize=(12,4))\n",
    "before = df_stores_norm_test.plot.scatter(ax = before, x='store_sales', y='store_area', label = 'Before Scaling (testing)', color = 'orange')\n",
    "after = df_stdscale_test.plot.scatter(ax = after, x='store_sales', y='store_area', label = 'After Scaling (testing)', color= 'orange')"
   ]
  },
  {
   "cell_type": "markdown",
   "metadata": {},
   "source": [
    "### Using Robust Scaler to Scale Features\n",
    "\n",
    "Robust scaler is not as affected by outliers, as it scales the interquartile range instead of the standard deviation.\n",
    "\n",
    "To use robust scaler, you can use a similar syntax as the other mehtods from SKLearn:\n",
    "https://scikit-learn.org/stable/modules/generated/sklearn.preprocessing.RobustScaler.html"
   ]
  },
  {
   "cell_type": "code",
   "execution_count": null,
   "metadata": {},
   "outputs": [],
   "source": [
    "from sklearn.preprocessing import RobustScaler\n",
    "\n",
    "robust_scaler = RobustScaler()\n",
    "\n",
    "robust_scalar.fit()\n",
    "robust_scalar.fit_transform()\n",
    "robust_scalar.transform()"
   ]
  },
  {
   "cell_type": "markdown",
   "metadata": {},
   "source": [
    "### Which Scaling method to use?\n",
    "\n",
    "In general, there are no rules. The main goal is to transform variables into a comparable range to allow models to balance features fairly.\n",
    "\n",
    "- This means that all our numeric features should be scaled using the same method.\n",
    "- If our features our normally distributed, we might favour the standard scaler.\n",
    "- With outliers, the robust scaler may perform better.\n",
    "\n",
    "However, the ultimate goal is improved model performance, so our choices should be guided by those metrics."
   ]
  },
  {
   "cell_type": "markdown",
   "metadata": {},
   "source": [
    "### Exercise 1 (Basic): Plot the distributions of the numeric variables in the customer experience dataset\n",
    "Using the below dataset, use plot each distribution so that you can see the different scales of each numeric variable. Notice the potential outliers that may affect our scaling."
   ]
  },
  {
   "cell_type": "code",
   "execution_count": 23,
   "metadata": {
    "scrolled": false
   },
   "outputs": [
    {
     "data": {
      "text/html": [
       "<div>\n",
       "<style scoped>\n",
       "    .dataframe tbody tr th:only-of-type {\n",
       "        vertical-align: middle;\n",
       "    }\n",
       "\n",
       "    .dataframe tbody tr th {\n",
       "        vertical-align: top;\n",
       "    }\n",
       "\n",
       "    .dataframe thead th {\n",
       "        text-align: right;\n",
       "    }\n",
       "</style>\n",
       "<table border=\"1\" class=\"dataframe\">\n",
       "  <thead>\n",
       "    <tr style=\"text-align: right;\">\n",
       "      <th></th>\n",
       "      <th>caseid</th>\n",
       "      <th>date</th>\n",
       "      <th>inquiry</th>\n",
       "      <th>wait_time</th>\n",
       "      <th>case_duration</th>\n",
       "      <th>sat_score</th>\n",
       "      <th>solved</th>\n",
       "    </tr>\n",
       "  </thead>\n",
       "  <tbody>\n",
       "    <tr>\n",
       "      <th>0</th>\n",
       "      <td>1</td>\n",
       "      <td>2021-11-28</td>\n",
       "      <td>Bug</td>\n",
       "      <td>680</td>\n",
       "      <td>3129</td>\n",
       "      <td>2</td>\n",
       "      <td>0</td>\n",
       "    </tr>\n",
       "    <tr>\n",
       "      <th>1</th>\n",
       "      <td>2</td>\n",
       "      <td>2021-12-03</td>\n",
       "      <td>Bug</td>\n",
       "      <td>745</td>\n",
       "      <td>246</td>\n",
       "      <td>6</td>\n",
       "      <td>1</td>\n",
       "    </tr>\n",
       "    <tr>\n",
       "      <th>2</th>\n",
       "      <td>3</td>\n",
       "      <td>2021-12-20</td>\n",
       "      <td>Bug</td>\n",
       "      <td>1199</td>\n",
       "      <td>2686</td>\n",
       "      <td>1</td>\n",
       "      <td>0</td>\n",
       "    </tr>\n",
       "    <tr>\n",
       "      <th>3</th>\n",
       "      <td>4</td>\n",
       "      <td>2021-10-02</td>\n",
       "      <td>Bug</td>\n",
       "      <td>205</td>\n",
       "      <td>591</td>\n",
       "      <td>4</td>\n",
       "      <td>1</td>\n",
       "    </tr>\n",
       "    <tr>\n",
       "      <th>4</th>\n",
       "      <td>5</td>\n",
       "      <td>2021-11-20</td>\n",
       "      <td>Bug</td>\n",
       "      <td>24</td>\n",
       "      <td>2327</td>\n",
       "      <td>2</td>\n",
       "      <td>0</td>\n",
       "    </tr>\n",
       "    <tr>\n",
       "      <th>...</th>\n",
       "      <td>...</td>\n",
       "      <td>...</td>\n",
       "      <td>...</td>\n",
       "      <td>...</td>\n",
       "      <td>...</td>\n",
       "      <td>...</td>\n",
       "      <td>...</td>\n",
       "    </tr>\n",
       "    <tr>\n",
       "      <th>164</th>\n",
       "      <td>165</td>\n",
       "      <td>2021-11-28</td>\n",
       "      <td>Discovery</td>\n",
       "      <td>989</td>\n",
       "      <td>1347</td>\n",
       "      <td>6</td>\n",
       "      <td>1</td>\n",
       "    </tr>\n",
       "    <tr>\n",
       "      <th>165</th>\n",
       "      <td>166</td>\n",
       "      <td>2021-09-06</td>\n",
       "      <td>Discovery</td>\n",
       "      <td>806</td>\n",
       "      <td>2512</td>\n",
       "      <td>10</td>\n",
       "      <td>0</td>\n",
       "    </tr>\n",
       "    <tr>\n",
       "      <th>166</th>\n",
       "      <td>167</td>\n",
       "      <td>2021-12-07</td>\n",
       "      <td>Discovery</td>\n",
       "      <td>1058</td>\n",
       "      <td>154</td>\n",
       "      <td>9</td>\n",
       "      <td>1</td>\n",
       "    </tr>\n",
       "    <tr>\n",
       "      <th>167</th>\n",
       "      <td>168</td>\n",
       "      <td>2021-11-26</td>\n",
       "      <td>Discovery</td>\n",
       "      <td>268</td>\n",
       "      <td>155</td>\n",
       "      <td>8</td>\n",
       "      <td>1</td>\n",
       "    </tr>\n",
       "    <tr>\n",
       "      <th>168</th>\n",
       "      <td>169</td>\n",
       "      <td>2021-10-07</td>\n",
       "      <td>Discovery</td>\n",
       "      <td>12</td>\n",
       "      <td>743</td>\n",
       "      <td>7</td>\n",
       "      <td>1</td>\n",
       "    </tr>\n",
       "  </tbody>\n",
       "</table>\n",
       "<p>169 rows × 7 columns</p>\n",
       "</div>"
      ],
      "text/plain": [
       "     caseid        date    inquiry  wait_time  case_duration  sat_score  \\\n",
       "0         1  2021-11-28        Bug        680           3129          2   \n",
       "1         2  2021-12-03        Bug        745            246          6   \n",
       "2         3  2021-12-20        Bug       1199           2686          1   \n",
       "3         4  2021-10-02        Bug        205            591          4   \n",
       "4         5  2021-11-20        Bug         24           2327          2   \n",
       "..      ...         ...        ...        ...            ...        ...   \n",
       "164     165  2021-11-28  Discovery        989           1347          6   \n",
       "165     166  2021-09-06  Discovery        806           2512         10   \n",
       "166     167  2021-12-07  Discovery       1058            154          9   \n",
       "167     168  2021-11-26  Discovery        268            155          8   \n",
       "168     169  2021-10-07  Discovery         12            743          7   \n",
       "\n",
       "     solved  \n",
       "0         0  \n",
       "1         1  \n",
       "2         0  \n",
       "3         1  \n",
       "4         0  \n",
       "..      ...  \n",
       "164       1  \n",
       "165       0  \n",
       "166       1  \n",
       "167       1  \n",
       "168       1  \n",
       "\n",
       "[169 rows x 7 columns]"
      ]
     },
     "execution_count": 23,
     "metadata": {},
     "output_type": "execute_result"
    }
   ],
   "source": [
    "#import dataset\n",
    "df_cx = pd.read_csv('cx_survey_data.csv')\n",
    "df_cx"
   ]
  },
  {
   "cell_type": "code",
   "execution_count": 24,
   "metadata": {
    "scrolled": false
   },
   "outputs": [],
   "source": [
    "#define numeric columns to scale\n",
    "scale_cols = df_cx.drop(['solved','caseid'], axis = 1).select_dtypes('number').columns"
   ]
  },
  {
   "cell_type": "code",
   "execution_count": 25,
   "metadata": {
    "scrolled": false
   },
   "outputs": [
    {
     "data": {
      "image/png": "[encoded data removed]",
      "text/plain": [
       "<Figure size 432x72 with 1 Axes>"
      ]
     },
     "metadata": {
      "needs_background": "light"
     },
     "output_type": "display_data"
    },
    {
     "data": {
      "image/png": "[encoded data removed]",
      "text/plain": [
       "<Figure size 432x72 with 1 Axes>"
      ]
     },
     "metadata": {
      "needs_background": "light"
     },
     "output_type": "display_data"
    },
    {
     "data": {
      "image/png": "[encoded data removed]",
      "text/plain": [
       "<Figure size 432x72 with 1 Axes>"
      ]
     },
     "metadata": {
      "needs_background": "light"
     },
     "output_type": "display_data"
    }
   ],
   "source": [
    "# plot a distribution of each numeric column\n",
    "\n",
    "for feature in scale_cols:\n",
    "    fig, (ax) = plt.subplots(1,1,figsize=(6,1))\n",
    "    sns.histplot(df_cx[feature], ax = ax)\n",
    "    plt.show()"
   ]
  },
  {
   "cell_type": "markdown",
   "metadata": {},
   "source": [
    "### Exercise 2 (Advanced): Apply Min Max Scaling to Training & Testing Data"
   ]
  },
  {
   "cell_type": "markdown",
   "metadata": {},
   "source": [
    "In this exercise you're going to explore what impact an outlier in the training data might cause on the results of minmax scaling."
   ]
  },
  {
   "cell_type": "code",
   "execution_count": 26,
   "metadata": {},
   "outputs": [
    {
     "data": {
      "text/html": [
       "<div>\n",
       "<style scoped>\n",
       "    .dataframe tbody tr th:only-of-type {\n",
       "        vertical-align: middle;\n",
       "    }\n",
       "\n",
       "    .dataframe tbody tr th {\n",
       "        vertical-align: top;\n",
       "    }\n",
       "\n",
       "    .dataframe thead th {\n",
       "        text-align: right;\n",
       "    }\n",
       "</style>\n",
       "<table border=\"1\" class=\"dataframe\">\n",
       "  <thead>\n",
       "    <tr style=\"text-align: right;\">\n",
       "      <th></th>\n",
       "      <th>caseid</th>\n",
       "      <th>date</th>\n",
       "      <th>inquiry</th>\n",
       "      <th>wait_time</th>\n",
       "      <th>case_duration</th>\n",
       "      <th>sat_score</th>\n",
       "      <th>solved</th>\n",
       "    </tr>\n",
       "  </thead>\n",
       "  <tbody>\n",
       "    <tr>\n",
       "      <th>0</th>\n",
       "      <td>1</td>\n",
       "      <td>2021-11-28</td>\n",
       "      <td>Bug</td>\n",
       "      <td>0.563866</td>\n",
       "      <td>0.254026</td>\n",
       "      <td>0.111111</td>\n",
       "      <td>0</td>\n",
       "    </tr>\n",
       "    <tr>\n",
       "      <th>1</th>\n",
       "      <td>2</td>\n",
       "      <td>2021-12-03</td>\n",
       "      <td>Bug</td>\n",
       "      <td>0.618487</td>\n",
       "      <td>0.019522</td>\n",
       "      <td>0.555556</td>\n",
       "      <td>1</td>\n",
       "    </tr>\n",
       "    <tr>\n",
       "      <th>2</th>\n",
       "      <td>3</td>\n",
       "      <td>2021-12-20</td>\n",
       "      <td>Bug</td>\n",
       "      <td>1.000000</td>\n",
       "      <td>0.217993</td>\n",
       "      <td>0.000000</td>\n",
       "      <td>0</td>\n",
       "    </tr>\n",
       "    <tr>\n",
       "      <th>3</th>\n",
       "      <td>4</td>\n",
       "      <td>2021-10-02</td>\n",
       "      <td>Bug</td>\n",
       "      <td>0.164706</td>\n",
       "      <td>0.047584</td>\n",
       "      <td>0.333333</td>\n",
       "      <td>1</td>\n",
       "    </tr>\n",
       "    <tr>\n",
       "      <th>4</th>\n",
       "      <td>5</td>\n",
       "      <td>2021-11-20</td>\n",
       "      <td>Bug</td>\n",
       "      <td>0.012605</td>\n",
       "      <td>0.188791</td>\n",
       "      <td>0.111111</td>\n",
       "      <td>0</td>\n",
       "    </tr>\n",
       "  </tbody>\n",
       "</table>\n",
       "</div>"
      ],
      "text/plain": [
       "   caseid        date inquiry  wait_time  case_duration  sat_score  solved\n",
       "0       1  2021-11-28     Bug   0.563866       0.254026   0.111111       0\n",
       "1       2  2021-12-03     Bug   0.618487       0.019522   0.555556       1\n",
       "2       3  2021-12-20     Bug   1.000000       0.217993   0.000000       0\n",
       "3       4  2021-10-02     Bug   0.164706       0.047584   0.333333       1\n",
       "4       5  2021-11-20     Bug   0.012605       0.188791   0.111111       0"
      ]
     },
     "execution_count": 26,
     "metadata": {},
     "output_type": "execute_result"
    }
   ],
   "source": [
    "#fit and transform the min max scaler to the numeric columns\n",
    "from sklearn.preprocessing import MinMaxScaler\n",
    "minmax_scaler = MinMaxScaler()\n",
    "\n",
    "df_cx_scaled = df_cx.copy()\n",
    "df_cx_scaled[scale_cols] = minmax_scaler.fit_transform(df_cx_scaled[scale_cols])\n",
    "df_cx_scaled.head()"
   ]
  },
  {
   "cell_type": "code",
   "execution_count": 27,
   "metadata": {},
   "outputs": [
    {
     "data": {
      "image/png": "[encoded data removed]",
      "text/plain": [
       "<Figure size 864x288 with 2 Axes>"
      ]
     },
     "metadata": {
      "needs_background": "light"
     },
     "output_type": "display_data"
    }
   ],
   "source": [
    "#Plot a scatter chart of the wait_time and case_duration columns before and after scaling on training and testing data\n",
    "fig, (before, after) = plt.subplots(1, 2,figsize=(12,4))\n",
    "before = df_cx.plot.scatter(ax = before, x='wait_time', y='case_duration', label = 'Before Scaling (training)', color = 'darkblue')\n",
    "after = df_cx_scaled.plot.scatter(ax = after, x='wait_time', y='case_duration', label = 'After Scaling (training)', color= 'darkblue')"
   ]
  },
  {
   "cell_type": "code",
   "execution_count": 28,
   "metadata": {},
   "outputs": [],
   "source": [
    "#import the cx_testing dataset and identify the numeric columns\n",
    "df_cx_test = pd.read_csv('cx_survey_data_test.csv')"
   ]
  },
  {
   "cell_type": "code",
   "execution_count": 29,
   "metadata": {},
   "outputs": [],
   "source": [
    "#make a copy of the testing data and transform the numeric columns using the minmax_scaler\n",
    "df_cx_test_scaled = df_cx_test.copy()\n",
    "df_cx_test_scaled[scale_cols] = minmax_scaler.transform(df_cx_test_scaled[scale_cols])"
   ]
  },
  {
   "cell_type": "code",
   "execution_count": 30,
   "metadata": {},
   "outputs": [
    {
     "data": {
      "image/png": "[encoded data removed]",
      "text/plain": [
       "<Figure size 864x288 with 2 Axes>"
      ]
     },
     "metadata": {
      "needs_background": "light"
     },
     "output_type": "display_data"
    }
   ],
   "source": [
    "#Plot a scatter chart of the wait_time and case_duration columns before and after scaling on training and testing data\n",
    "fig, (before, after) = plt.subplots(1, 2,figsize=(12,4))\n",
    "before = df_cx_test.plot.scatter(ax = before, x='wait_time', y='case_duration', label = 'Before Scaling (testing)', color = 'orange')\n",
    "after = df_cx_test_scaled.plot.scatter(ax = after, x='wait_time', y='case_duration', label = 'After Scaling (testing)', color= 'orange')"
   ]
  },
  {
   "cell_type": "code",
   "execution_count": null,
   "metadata": {},
   "outputs": [],
   "source": []
  }
 ],
 "metadata": {
  "kernelspec": {
   "display_name": "Python 3",
   "language": "python",
   "name": "python3"
  },
  "language_info": {
   "codemirror_mode": {
    "name": "ipython",
    "version": 3
   },
   "file_extension": ".py",
   "mimetype": "text/x-python",
   "name": "python",
   "nbconvert_exporter": "python",
   "pygments_lexer": "ipython3",
   "version": "3.8.5"
  }
 },
 "nbformat": 4,
 "nbformat_minor": 5
}
