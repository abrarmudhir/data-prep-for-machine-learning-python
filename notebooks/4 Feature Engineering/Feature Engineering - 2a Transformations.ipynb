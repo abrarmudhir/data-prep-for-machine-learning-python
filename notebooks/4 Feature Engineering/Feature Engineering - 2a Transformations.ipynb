{
 "cells": [
  {
   "cell_type": "markdown",
   "metadata": {},
   "source": [
    "# Dealing with Skewed Data"
   ]
  },
  {
   "cell_type": "markdown",
   "metadata": {},
   "source": [
    "In this notebook we'll explore the implications of skewed data and some solutions to reduce the skewedness of the data if necessary."
   ]
  },
  {
   "cell_type": "markdown",
   "metadata": {},
   "source": [
    "### Import Basic Packages"
   ]
  },
  {
   "cell_type": "code",
   "execution_count": null,
   "metadata": {
    "scrolled": false
   },
   "outputs": [],
   "source": [
    "#Basics\n",
    "import numpy as np\n",
    "import pandas as pd\n",
    "import seaborn as sns\n",
    "import matplotlib.pyplot as plt"
   ]
  },
  {
   "cell_type": "markdown",
   "metadata": {},
   "source": [
    "### Import Data & Describe Scenario"
   ]
  },
  {
   "cell_type": "markdown",
   "metadata": {},
   "source": [
    "In this dataset we have many input varaibles that are being used to predict the **price** of a house."
   ]
  },
  {
   "cell_type": "code",
   "execution_count": null,
   "metadata": {
    "scrolled": false
   },
   "outputs": [],
   "source": [
    "# Import data to a pandas dataframe\n",
    "df_house = pd.read_csv('kc_house_data.csv')\n",
    "df_house"
   ]
  },
  {
   "cell_type": "markdown",
   "metadata": {},
   "source": [
    "### Understanding skew"
   ]
  },
  {
   "cell_type": "code",
   "execution_count": null,
   "metadata": {},
   "outputs": [],
   "source": [
    "# Define the columns of interest for our transformation analysis\n",
    "cols_of_interest = ['price','sqft_living','sqft_lot']\n",
    "\n",
    "#cols_of_interest = df_house.select_dtypes('number').columns"
   ]
  },
  {
   "cell_type": "code",
   "execution_count": null,
   "metadata": {
    "scrolled": false
   },
   "outputs": [],
   "source": [
    "# Show a basic histplot of each column\n",
    "for feature in cols_of_interest:\n",
    "    sns.histplot(df_house[feature])\n",
    "    plt.show()\n",
    "    \n",
    "#Press shift o to remove the scroll from the box."
   ]
  },
  {
   "cell_type": "code",
   "execution_count": null,
   "metadata": {
    "scrolled": true
   },
   "outputs": [],
   "source": [
    "#Use the pandas skew function to calculate the skew of each numeric column\n",
    "skewdata = df_house[cols_of_interest].skew()\n",
    "skewdata"
   ]
  },
  {
   "cell_type": "markdown",
   "metadata": {},
   "source": [
    "#### Interpretation of Skew Values\n",
    "- Skew > 1 = high positive skew\n",
    "- Skew > 0.5 = moderate positive skew\n",
    "\n",
    "- Skew < -0.5 = moderate negative skew\n",
    "- Skew < -1.0 = high negative skew"
   ]
  },
  {
   "cell_type": "markdown",
   "metadata": {},
   "source": [
    "Other tests exist to **test for normality** of data, which include:\n",
    "- Shapiro-Wilks test\n",
    "- Kolmogorov–Smirnov test"
   ]
  },
  {
   "cell_type": "markdown",
   "metadata": {},
   "source": [
    "### Solving Skew with Natural Logs"
   ]
  },
  {
   "cell_type": "code",
   "execution_count": 209,
   "metadata": {
    "scrolled": false
   },
   "outputs": [],
   "source": [
    "#Take the log of a single feature\n",
    "df_house['log_price'] = np.log(df_house['price'])\n",
    "\n",
    "for feature in cols_of_interest:\n",
    "    df_house['log_' + feature] = np.log(df_house[feature])"
   ]
  },
  {
   "cell_type": "code",
   "execution_count": 210,
   "metadata": {
    "scrolled": false
   },
   "outputs": [
    {
     "data": {
      "image/png": "[encoded data removed]",
      "text/plain": [
       "<Figure size 432x288 with 1 Axes>"
      ]
     },
     "metadata": {
      "needs_background": "light"
     },
     "output_type": "display_data"
    },
    {
     "data": {
      "image/png": "[encoded data removed]",
      "text/plain": [
       "<Figure size 432x288 with 1 Axes>"
      ]
     },
     "metadata": {
      "needs_background": "light"
     },
     "output_type": "display_data"
    },
    {
     "data": {
      "image/png": "[encoded data removed]",
      "text/plain": [
       "<Figure size 432x288 with 1 Axes>"
      ]
     },
     "metadata": {
      "needs_background": "light"
     },
     "output_type": "display_data"
    }
   ],
   "source": [
    "# Show a basic histplot of the price column (the target variable in this case)\n",
    "for feature in cols_of_interest:\n",
    "    sns.histplot(df_house['log_' + feature])\n",
    "    plt.show()\n",
    "\n",
    "#Press shift o to remove the scroll from the box."
   ]
  },
  {
   "cell_type": "code",
   "execution_count": 211,
   "metadata": {},
   "outputs": [],
   "source": [
    "log_cols = ['log_price','log_sqft_living','log_sqft_lot']"
   ]
  },
  {
   "cell_type": "code",
   "execution_count": 213,
   "metadata": {
    "scrolled": true
   },
   "outputs": [
    {
     "data": {
      "text/plain": [
       "log_price          0.413807\n",
       "log_sqft_living   -0.035521\n",
       "log_sqft_lot       1.230832\n",
       "dtype: float64"
      ]
     },
     "execution_count": 213,
     "metadata": {},
     "output_type": "execute_result"
    }
   ],
   "source": [
    "df_house[log_cols].skew()"
   ]
  },
  {
   "cell_type": "markdown",
   "metadata": {},
   "source": [
    "### Alternatives to Natural Logs"
   ]
  },
  {
   "cell_type": "code",
   "execution_count": null,
   "metadata": {},
   "outputs": [],
   "source": [
    "# log10 takes the log base 10 of each value. See also, log2, log1p\n",
    "df_house['log10_price'] = np.log10(df_house['price'])\n",
    "df_house"
   ]
  },
  {
   "cell_type": "code",
   "execution_count": null,
   "metadata": {},
   "outputs": [],
   "source": [
    "# The square root transform can also be a helpful way to remove positive skew from a distribution\n",
    "df_house['sqrt_price'] = np.sqrt(df_house['price'])\n",
    "df_house"
   ]
  },
  {
   "cell_type": "code",
   "execution_count": null,
   "metadata": {
    "scrolled": true
   },
   "outputs": [],
   "source": [
    "# The cube root transform transforms the data even further\n",
    "df_house['cbrt_price'] = np.cbrt(df_house['price'])\n",
    "df_house"
   ]
  },
  {
   "cell_type": "code",
   "execution_count": null,
   "metadata": {
    "scrolled": true
   },
   "outputs": [],
   "source": [
    "# Alternatively, we can solve for left skew by raising all values of a feature to a power > 1.\n",
    "\n",
    "#Note: In this case the price column is positively skewed, but code is provided as an example.\n",
    "df_house['power2_price'] = np.power(df_house['price'],2)\n",
    "df_house"
   ]
  },
  {
   "cell_type": "markdown",
   "metadata": {},
   "source": [
    "**Further Reading**\n",
    "\n",
    "If you wish to explore other methods, here are some recommendations:\n",
    "\n",
    "- Box Cox Transformation - A semi automatic method for finding the optimal transformation for any POSITIVE feature.\n",
    "- Power Transformer - SKLearn functionlity to implement boxcox and other transforms."
   ]
  },
  {
   "cell_type": "markdown",
   "metadata": {},
   "source": [
    "### Scenario 1 - Heteroskedastic Errors in A Linear Model"
   ]
  },
  {
   "cell_type": "code",
   "execution_count": null,
   "metadata": {
    "scrolled": false
   },
   "outputs": [],
   "source": [
    "# Scatterplots to visualise the correlations\n",
    "ax = sns.scatterplot(data=df_house, x=\"sqft_living\", y=\"price\")\n",
    "ax.set(title = 'sqft_living vs price')"
   ]
  },
  {
   "cell_type": "markdown",
   "metadata": {},
   "source": [
    "Here we can see clearly that plotting a linear model between these two variables would result in a growing error term the sqft_living increases."
   ]
  },
  {
   "cell_type": "code",
   "execution_count": null,
   "metadata": {
    "scrolled": true
   },
   "outputs": [],
   "source": [
    "df_house['log_price'] = np.log(df_house['price'])\n",
    "df_house['log_sqft_living'] = np.log(df_house['sqft_living'])"
   ]
  },
  {
   "cell_type": "code",
   "execution_count": null,
   "metadata": {
    "scrolled": false
   },
   "outputs": [],
   "source": [
    "# Scatterplots to visualise the correlations\n",
    "ax = sns.scatterplot(data=df_house, x=\"log_sqft_living\", y=\"log_price\")\n",
    "ax.set(title = 'log_sft_living vs log_price')"
   ]
  },
  {
   "cell_type": "markdown",
   "metadata": {},
   "source": [
    "Having performed a log-log transformation (log on dependent and independetn varaibles), we no longer have inconsistent errors."
   ]
  },
  {
   "cell_type": "markdown",
   "metadata": {},
   "source": [
    "### Scenario 2 - Fitting a Linear Model"
   ]
  },
  {
   "cell_type": "code",
   "execution_count": null,
   "metadata": {
    "scrolled": true
   },
   "outputs": [],
   "source": [
    "# Scatterplots to visualise the correlations\n",
    "ax = sns.scatterplot(data=df_house, x=\"sqft_lot\", y=\"price\")\n",
    "ax.set(title = 'sqft_lot vs price')"
   ]
  },
  {
   "cell_type": "markdown",
   "metadata": {},
   "source": [
    "In this case, plotting a right skewed input against the right skewed target makes fitting a linear relationship particularly difficult."
   ]
  },
  {
   "cell_type": "code",
   "execution_count": null,
   "metadata": {
    "scrolled": true
   },
   "outputs": [],
   "source": [
    "df_house['log_price'] = np.log(df_house['price'])\n",
    "df_house['log_sqft_lot'] = np.log(df_house['sqft_lot'])"
   ]
  },
  {
   "cell_type": "code",
   "execution_count": null,
   "metadata": {
    "scrolled": true
   },
   "outputs": [],
   "source": [
    "# Scatterplots to visualise the correlations\n",
    "ax = sns.scatterplot(data=df_house, x=\"log_sqft_lot\", y=\"log_price\")\n",
    "ax.set(title = 'log_sqft_lot vs log_price')"
   ]
  },
  {
   "cell_type": "markdown",
   "metadata": {},
   "source": [
    "Having taken the log of both input and target, we create a much more interpretable relationship."
   ]
  },
  {
   "cell_type": "markdown",
   "metadata": {},
   "source": [
    "### Exercise 1 (Basic) - Identifying Skewedness of Variable"
   ]
  },
  {
   "cell_type": "markdown",
   "metadata": {},
   "source": [
    "Task:\n",
    "- Import the phones dataset\n",
    "- Plot the battery life percentage column\n",
    "- identify the skewedness of the variable."
   ]
  },
  {
   "cell_type": "code",
   "execution_count": 230,
   "metadata": {},
   "outputs": [
    {
     "data": {
      "text/html": [
       "<div>\n",
       "<style scoped>\n",
       "    .dataframe tbody tr th:only-of-type {\n",
       "        vertical-align: middle;\n",
       "    }\n",
       "\n",
       "    .dataframe tbody tr th {\n",
       "        vertical-align: top;\n",
       "    }\n",
       "\n",
       "    .dataframe thead th {\n",
       "        text-align: right;\n",
       "    }\n",
       "</style>\n",
       "<table border=\"1\" class=\"dataframe\">\n",
       "  <thead>\n",
       "    <tr style=\"text-align: right;\">\n",
       "      <th></th>\n",
       "      <th>price</th>\n",
       "      <th>year_made</th>\n",
       "      <th>name</th>\n",
       "      <th>battery_life_percentage</th>\n",
       "      <th>storage</th>\n",
       "      <th>magnet_charging</th>\n",
       "      <th>marketplace</th>\n",
       "      <th>years_owned</th>\n",
       "      <th>visible_scratches</th>\n",
       "      <th>pro</th>\n",
       "      <th>original_sale_price</th>\n",
       "      <th>#_of_previous_owners</th>\n",
       "      <th>megapixel</th>\n",
       "    </tr>\n",
       "  </thead>\n",
       "  <tbody>\n",
       "    <tr>\n",
       "      <th>0</th>\n",
       "      <td>551</td>\n",
       "      <td>2019</td>\n",
       "      <td>iPhone_11</td>\n",
       "      <td>74</td>\n",
       "      <td>64</td>\n",
       "      <td>no</td>\n",
       "      <td>kijiji</td>\n",
       "      <td>2</td>\n",
       "      <td>9</td>\n",
       "      <td>no</td>\n",
       "      <td>747</td>\n",
       "      <td>1</td>\n",
       "      <td>12</td>\n",
       "    </tr>\n",
       "    <tr>\n",
       "      <th>1</th>\n",
       "      <td>822</td>\n",
       "      <td>2020</td>\n",
       "      <td>iPhone_12</td>\n",
       "      <td>94</td>\n",
       "      <td>128</td>\n",
       "      <td>yes</td>\n",
       "      <td>craigslist</td>\n",
       "      <td>2</td>\n",
       "      <td>6</td>\n",
       "      <td>no</td>\n",
       "      <td>888</td>\n",
       "      <td>1</td>\n",
       "      <td>16</td>\n",
       "    </tr>\n",
       "    <tr>\n",
       "      <th>2</th>\n",
       "      <td>1008</td>\n",
       "      <td>2022</td>\n",
       "      <td>iPhone_13</td>\n",
       "      <td>97</td>\n",
       "      <td>256</td>\n",
       "      <td>yes</td>\n",
       "      <td>craigslist</td>\n",
       "      <td>0</td>\n",
       "      <td>2</td>\n",
       "      <td>no</td>\n",
       "      <td>1185</td>\n",
       "      <td>1</td>\n",
       "      <td>22</td>\n",
       "    </tr>\n",
       "    <tr>\n",
       "      <th>3</th>\n",
       "      <td>881</td>\n",
       "      <td>2021</td>\n",
       "      <td>iPhone_14</td>\n",
       "      <td>90</td>\n",
       "      <td>128</td>\n",
       "      <td>yes</td>\n",
       "      <td>craigslist</td>\n",
       "      <td>2</td>\n",
       "      <td>2</td>\n",
       "      <td>no</td>\n",
       "      <td>887</td>\n",
       "      <td>1</td>\n",
       "      <td>20</td>\n",
       "    </tr>\n",
       "    <tr>\n",
       "      <th>4</th>\n",
       "      <td>839</td>\n",
       "      <td>2020</td>\n",
       "      <td>iPhone_12</td>\n",
       "      <td>91</td>\n",
       "      <td>256</td>\n",
       "      <td>yes</td>\n",
       "      <td>kijiji</td>\n",
       "      <td>1</td>\n",
       "      <td>5</td>\n",
       "      <td>no</td>\n",
       "      <td>969</td>\n",
       "      <td>1</td>\n",
       "      <td>16</td>\n",
       "    </tr>\n",
       "    <tr>\n",
       "      <th>...</th>\n",
       "      <td>...</td>\n",
       "      <td>...</td>\n",
       "      <td>...</td>\n",
       "      <td>...</td>\n",
       "      <td>...</td>\n",
       "      <td>...</td>\n",
       "      <td>...</td>\n",
       "      <td>...</td>\n",
       "      <td>...</td>\n",
       "      <td>...</td>\n",
       "      <td>...</td>\n",
       "      <td>...</td>\n",
       "      <td>...</td>\n",
       "    </tr>\n",
       "    <tr>\n",
       "      <th>344</th>\n",
       "      <td>1326</td>\n",
       "      <td>2022</td>\n",
       "      <td>iPhone_14</td>\n",
       "      <td>91</td>\n",
       "      <td>64</td>\n",
       "      <td>yes</td>\n",
       "      <td>craigslist</td>\n",
       "      <td>0</td>\n",
       "      <td>0</td>\n",
       "      <td>no</td>\n",
       "      <td>1394</td>\n",
       "      <td>1</td>\n",
       "      <td>22</td>\n",
       "    </tr>\n",
       "    <tr>\n",
       "      <th>345</th>\n",
       "      <td>458</td>\n",
       "      <td>2019</td>\n",
       "      <td>iPhone_11</td>\n",
       "      <td>75</td>\n",
       "      <td>256</td>\n",
       "      <td>no</td>\n",
       "      <td>facebook</td>\n",
       "      <td>3</td>\n",
       "      <td>3</td>\n",
       "      <td>no</td>\n",
       "      <td>702</td>\n",
       "      <td>2</td>\n",
       "      <td>12</td>\n",
       "    </tr>\n",
       "    <tr>\n",
       "      <th>346</th>\n",
       "      <td>487</td>\n",
       "      <td>2019</td>\n",
       "      <td>iPhone_11</td>\n",
       "      <td>87</td>\n",
       "      <td>256</td>\n",
       "      <td>no</td>\n",
       "      <td>facebook</td>\n",
       "      <td>1</td>\n",
       "      <td>7</td>\n",
       "      <td>no</td>\n",
       "      <td>781</td>\n",
       "      <td>2</td>\n",
       "      <td>12</td>\n",
       "    </tr>\n",
       "    <tr>\n",
       "      <th>347</th>\n",
       "      <td>1340</td>\n",
       "      <td>2022</td>\n",
       "      <td>iPhone_14</td>\n",
       "      <td>100</td>\n",
       "      <td>256</td>\n",
       "      <td>yes</td>\n",
       "      <td>craigslist</td>\n",
       "      <td>0</td>\n",
       "      <td>0</td>\n",
       "      <td>no</td>\n",
       "      <td>1411</td>\n",
       "      <td>1</td>\n",
       "      <td>22</td>\n",
       "    </tr>\n",
       "    <tr>\n",
       "      <th>348</th>\n",
       "      <td>1144</td>\n",
       "      <td>2021</td>\n",
       "      <td>iPhone_13</td>\n",
       "      <td>94</td>\n",
       "      <td>128</td>\n",
       "      <td>yes</td>\n",
       "      <td>facebook</td>\n",
       "      <td>1</td>\n",
       "      <td>1</td>\n",
       "      <td>yes</td>\n",
       "      <td>1249</td>\n",
       "      <td>1</td>\n",
       "      <td>20</td>\n",
       "    </tr>\n",
       "  </tbody>\n",
       "</table>\n",
       "<p>349 rows × 13 columns</p>\n",
       "</div>"
      ],
      "text/plain": [
       "     price  year_made       name  battery_life_percentage  storage  \\\n",
       "0      551       2019  iPhone_11                       74       64   \n",
       "1      822       2020  iPhone_12                       94      128   \n",
       "2     1008       2022  iPhone_13                       97      256   \n",
       "3      881       2021  iPhone_14                       90      128   \n",
       "4      839       2020  iPhone_12                       91      256   \n",
       "..     ...        ...        ...                      ...      ...   \n",
       "344   1326       2022  iPhone_14                       91       64   \n",
       "345    458       2019  iPhone_11                       75      256   \n",
       "346    487       2019  iPhone_11                       87      256   \n",
       "347   1340       2022  iPhone_14                      100      256   \n",
       "348   1144       2021  iPhone_13                       94      128   \n",
       "\n",
       "    magnet_charging marketplace  years_owned  visible_scratches  pro  \\\n",
       "0                no      kijiji            2                  9   no   \n",
       "1               yes  craigslist            2                  6   no   \n",
       "2               yes  craigslist            0                  2   no   \n",
       "3               yes  craigslist            2                  2   no   \n",
       "4               yes      kijiji            1                  5   no   \n",
       "..              ...         ...          ...                ...  ...   \n",
       "344             yes  craigslist            0                  0   no   \n",
       "345              no    facebook            3                  3   no   \n",
       "346              no    facebook            1                  7   no   \n",
       "347             yes  craigslist            0                  0   no   \n",
       "348             yes    facebook            1                  1  yes   \n",
       "\n",
       "     original_sale_price  #_of_previous_owners  megapixel  \n",
       "0                    747                     1         12  \n",
       "1                    888                     1         16  \n",
       "2                   1185                     1         22  \n",
       "3                    887                     1         20  \n",
       "4                    969                     1         16  \n",
       "..                   ...                   ...        ...  \n",
       "344                 1394                     1         22  \n",
       "345                  702                     2         12  \n",
       "346                  781                     2         12  \n",
       "347                 1411                     1         22  \n",
       "348                 1249                     1         20  \n",
       "\n",
       "[349 rows x 13 columns]"
      ]
     },
     "execution_count": 230,
     "metadata": {},
     "output_type": "execute_result"
    }
   ],
   "source": [
    "# Import the phone marketplace dataset. Phone price is the target variable.\n",
    "df_phone = pd.read_csv('phone_marketplace_dataset.csv')\n",
    "df_phone"
   ]
  },
  {
   "cell_type": "code",
   "execution_count": 208,
   "metadata": {
    "scrolled": true
   },
   "outputs": [
    {
     "data": {
      "image/png": "[encoded data removed]",
      "text/plain": [
       "<Figure size 432x288 with 1 Axes>"
      ]
     },
     "metadata": {
      "needs_background": "light"
     },
     "output_type": "display_data"
    }
   ],
   "source": [
    "# Plot the battery life percentage feature\n",
    "sns.histplot(df_phone['battery_life_percentage'])\n",
    "plt.show()"
   ]
  },
  {
   "cell_type": "code",
   "execution_count": 215,
   "metadata": {},
   "outputs": [
    {
     "data": {
      "text/plain": [
       "-0.817025535352887"
      ]
     },
     "execution_count": 215,
     "metadata": {},
     "output_type": "execute_result"
    }
   ],
   "source": [
    "# Calculate the skew value of the battery life percentage column\n",
    "df_phone['battery_life_percentage'].skew()\n",
    "\n",
    "# is battery life highly negatively skewed, moderately negative, not skewed, moderately positive, or highly positive?"
   ]
  },
  {
   "cell_type": "markdown",
   "metadata": {},
   "source": [
    "### Exercise 2 (Advanced) - Experiment with Transformations"
   ]
  },
  {
   "cell_type": "markdown",
   "metadata": {},
   "source": [
    "Before you begin, think about which transformations are likely to help make this variable more normal.\n",
    "\n",
    "Task:\n",
    "- In a new column, calculate the natural log of the battery life column\n",
    "- In a new column, calculate the log base 10 of the battery life column\n",
    "- In a new column, calculate the square oot of the battery life column.\n",
    "- In a new column, calculate the battery life column squared.\n",
    "- In a new column, calculate the battery life column cubed.\n",
    "\n",
    "- Plot the distributions on the same chart.\n",
    "- Calcuate the skewedness of the new columns.\n",
    "- Which one solved the skewedness most effectively?"
   ]
  },
  {
   "cell_type": "code",
   "execution_count": 239,
   "metadata": {
    "scrolled": false
   },
   "outputs": [
    {
     "data": {
      "text/html": [
       "<div>\n",
       "<style scoped>\n",
       "    .dataframe tbody tr th:only-of-type {\n",
       "        vertical-align: middle;\n",
       "    }\n",
       "\n",
       "    .dataframe tbody tr th {\n",
       "        vertical-align: top;\n",
       "    }\n",
       "\n",
       "    .dataframe thead th {\n",
       "        text-align: right;\n",
       "    }\n",
       "</style>\n",
       "<table border=\"1\" class=\"dataframe\">\n",
       "  <thead>\n",
       "    <tr style=\"text-align: right;\">\n",
       "      <th></th>\n",
       "      <th>price</th>\n",
       "      <th>year_made</th>\n",
       "      <th>name</th>\n",
       "      <th>battery_life_percentage</th>\n",
       "      <th>storage</th>\n",
       "      <th>magnet_charging</th>\n",
       "      <th>marketplace</th>\n",
       "      <th>years_owned</th>\n",
       "      <th>visible_scratches</th>\n",
       "      <th>pro</th>\n",
       "      <th>...</th>\n",
       "      <th>log_battery_life_percentage</th>\n",
       "      <th>log_price</th>\n",
       "      <th>log10_battery_life_percentage</th>\n",
       "      <th>sqrt_battery_life_percentage</th>\n",
       "      <th>squared_battery_life_percentage</th>\n",
       "      <th>log_battery</th>\n",
       "      <th>log10_battery</th>\n",
       "      <th>sqrt_battery</th>\n",
       "      <th>squared_battery</th>\n",
       "      <th>cubed_battery</th>\n",
       "    </tr>\n",
       "  </thead>\n",
       "  <tbody>\n",
       "    <tr>\n",
       "      <th>0</th>\n",
       "      <td>551</td>\n",
       "      <td>2019</td>\n",
       "      <td>iPhone_11</td>\n",
       "      <td>74</td>\n",
       "      <td>64</td>\n",
       "      <td>no</td>\n",
       "      <td>kijiji</td>\n",
       "      <td>2</td>\n",
       "      <td>9</td>\n",
       "      <td>no</td>\n",
       "      <td>...</td>\n",
       "      <td>4.304065</td>\n",
       "      <td>6.311735</td>\n",
       "      <td>1.869232</td>\n",
       "      <td>8.602325</td>\n",
       "      <td>5476</td>\n",
       "      <td>4.304065</td>\n",
       "      <td>1.869232</td>\n",
       "      <td>8.602325</td>\n",
       "      <td>5476</td>\n",
       "      <td>405224</td>\n",
       "    </tr>\n",
       "    <tr>\n",
       "      <th>1</th>\n",
       "      <td>822</td>\n",
       "      <td>2020</td>\n",
       "      <td>iPhone_12</td>\n",
       "      <td>94</td>\n",
       "      <td>128</td>\n",
       "      <td>yes</td>\n",
       "      <td>craigslist</td>\n",
       "      <td>2</td>\n",
       "      <td>6</td>\n",
       "      <td>no</td>\n",
       "      <td>...</td>\n",
       "      <td>4.543295</td>\n",
       "      <td>6.711740</td>\n",
       "      <td>1.973128</td>\n",
       "      <td>9.695360</td>\n",
       "      <td>8836</td>\n",
       "      <td>4.543295</td>\n",
       "      <td>1.973128</td>\n",
       "      <td>9.695360</td>\n",
       "      <td>8836</td>\n",
       "      <td>830584</td>\n",
       "    </tr>\n",
       "    <tr>\n",
       "      <th>2</th>\n",
       "      <td>1008</td>\n",
       "      <td>2022</td>\n",
       "      <td>iPhone_13</td>\n",
       "      <td>97</td>\n",
       "      <td>256</td>\n",
       "      <td>yes</td>\n",
       "      <td>craigslist</td>\n",
       "      <td>0</td>\n",
       "      <td>2</td>\n",
       "      <td>no</td>\n",
       "      <td>...</td>\n",
       "      <td>4.574711</td>\n",
       "      <td>6.915723</td>\n",
       "      <td>1.986772</td>\n",
       "      <td>9.848858</td>\n",
       "      <td>9409</td>\n",
       "      <td>4.574711</td>\n",
       "      <td>1.986772</td>\n",
       "      <td>9.848858</td>\n",
       "      <td>9409</td>\n",
       "      <td>912673</td>\n",
       "    </tr>\n",
       "    <tr>\n",
       "      <th>3</th>\n",
       "      <td>881</td>\n",
       "      <td>2021</td>\n",
       "      <td>iPhone_14</td>\n",
       "      <td>90</td>\n",
       "      <td>128</td>\n",
       "      <td>yes</td>\n",
       "      <td>craigslist</td>\n",
       "      <td>2</td>\n",
       "      <td>2</td>\n",
       "      <td>no</td>\n",
       "      <td>...</td>\n",
       "      <td>4.499810</td>\n",
       "      <td>6.781058</td>\n",
       "      <td>1.954243</td>\n",
       "      <td>9.486833</td>\n",
       "      <td>8100</td>\n",
       "      <td>4.499810</td>\n",
       "      <td>1.954243</td>\n",
       "      <td>9.486833</td>\n",
       "      <td>8100</td>\n",
       "      <td>729000</td>\n",
       "    </tr>\n",
       "    <tr>\n",
       "      <th>4</th>\n",
       "      <td>839</td>\n",
       "      <td>2020</td>\n",
       "      <td>iPhone_12</td>\n",
       "      <td>91</td>\n",
       "      <td>256</td>\n",
       "      <td>yes</td>\n",
       "      <td>kijiji</td>\n",
       "      <td>1</td>\n",
       "      <td>5</td>\n",
       "      <td>no</td>\n",
       "      <td>...</td>\n",
       "      <td>4.510860</td>\n",
       "      <td>6.732211</td>\n",
       "      <td>1.959041</td>\n",
       "      <td>9.539392</td>\n",
       "      <td>8281</td>\n",
       "      <td>4.510860</td>\n",
       "      <td>1.959041</td>\n",
       "      <td>9.539392</td>\n",
       "      <td>8281</td>\n",
       "      <td>753571</td>\n",
       "    </tr>\n",
       "    <tr>\n",
       "      <th>...</th>\n",
       "      <td>...</td>\n",
       "      <td>...</td>\n",
       "      <td>...</td>\n",
       "      <td>...</td>\n",
       "      <td>...</td>\n",
       "      <td>...</td>\n",
       "      <td>...</td>\n",
       "      <td>...</td>\n",
       "      <td>...</td>\n",
       "      <td>...</td>\n",
       "      <td>...</td>\n",
       "      <td>...</td>\n",
       "      <td>...</td>\n",
       "      <td>...</td>\n",
       "      <td>...</td>\n",
       "      <td>...</td>\n",
       "      <td>...</td>\n",
       "      <td>...</td>\n",
       "      <td>...</td>\n",
       "      <td>...</td>\n",
       "      <td>...</td>\n",
       "    </tr>\n",
       "    <tr>\n",
       "      <th>344</th>\n",
       "      <td>1326</td>\n",
       "      <td>2022</td>\n",
       "      <td>iPhone_14</td>\n",
       "      <td>91</td>\n",
       "      <td>64</td>\n",
       "      <td>yes</td>\n",
       "      <td>craigslist</td>\n",
       "      <td>0</td>\n",
       "      <td>0</td>\n",
       "      <td>no</td>\n",
       "      <td>...</td>\n",
       "      <td>4.510860</td>\n",
       "      <td>7.189922</td>\n",
       "      <td>1.959041</td>\n",
       "      <td>9.539392</td>\n",
       "      <td>8281</td>\n",
       "      <td>4.510860</td>\n",
       "      <td>1.959041</td>\n",
       "      <td>9.539392</td>\n",
       "      <td>8281</td>\n",
       "      <td>753571</td>\n",
       "    </tr>\n",
       "    <tr>\n",
       "      <th>345</th>\n",
       "      <td>458</td>\n",
       "      <td>2019</td>\n",
       "      <td>iPhone_11</td>\n",
       "      <td>75</td>\n",
       "      <td>256</td>\n",
       "      <td>no</td>\n",
       "      <td>facebook</td>\n",
       "      <td>3</td>\n",
       "      <td>3</td>\n",
       "      <td>no</td>\n",
       "      <td>...</td>\n",
       "      <td>4.317488</td>\n",
       "      <td>6.126869</td>\n",
       "      <td>1.875061</td>\n",
       "      <td>8.660254</td>\n",
       "      <td>5625</td>\n",
       "      <td>4.317488</td>\n",
       "      <td>1.875061</td>\n",
       "      <td>8.660254</td>\n",
       "      <td>5625</td>\n",
       "      <td>421875</td>\n",
       "    </tr>\n",
       "    <tr>\n",
       "      <th>346</th>\n",
       "      <td>487</td>\n",
       "      <td>2019</td>\n",
       "      <td>iPhone_11</td>\n",
       "      <td>87</td>\n",
       "      <td>256</td>\n",
       "      <td>no</td>\n",
       "      <td>facebook</td>\n",
       "      <td>1</td>\n",
       "      <td>7</td>\n",
       "      <td>no</td>\n",
       "      <td>...</td>\n",
       "      <td>4.465908</td>\n",
       "      <td>6.188264</td>\n",
       "      <td>1.939519</td>\n",
       "      <td>9.327379</td>\n",
       "      <td>7569</td>\n",
       "      <td>4.465908</td>\n",
       "      <td>1.939519</td>\n",
       "      <td>9.327379</td>\n",
       "      <td>7569</td>\n",
       "      <td>658503</td>\n",
       "    </tr>\n",
       "    <tr>\n",
       "      <th>347</th>\n",
       "      <td>1340</td>\n",
       "      <td>2022</td>\n",
       "      <td>iPhone_14</td>\n",
       "      <td>100</td>\n",
       "      <td>256</td>\n",
       "      <td>yes</td>\n",
       "      <td>craigslist</td>\n",
       "      <td>0</td>\n",
       "      <td>0</td>\n",
       "      <td>no</td>\n",
       "      <td>...</td>\n",
       "      <td>4.605170</td>\n",
       "      <td>7.200425</td>\n",
       "      <td>2.000000</td>\n",
       "      <td>10.000000</td>\n",
       "      <td>10000</td>\n",
       "      <td>4.605170</td>\n",
       "      <td>2.000000</td>\n",
       "      <td>10.000000</td>\n",
       "      <td>10000</td>\n",
       "      <td>1000000</td>\n",
       "    </tr>\n",
       "    <tr>\n",
       "      <th>348</th>\n",
       "      <td>1144</td>\n",
       "      <td>2021</td>\n",
       "      <td>iPhone_13</td>\n",
       "      <td>94</td>\n",
       "      <td>128</td>\n",
       "      <td>yes</td>\n",
       "      <td>facebook</td>\n",
       "      <td>1</td>\n",
       "      <td>1</td>\n",
       "      <td>yes</td>\n",
       "      <td>...</td>\n",
       "      <td>4.543295</td>\n",
       "      <td>7.042286</td>\n",
       "      <td>1.973128</td>\n",
       "      <td>9.695360</td>\n",
       "      <td>8836</td>\n",
       "      <td>4.543295</td>\n",
       "      <td>1.973128</td>\n",
       "      <td>9.695360</td>\n",
       "      <td>8836</td>\n",
       "      <td>830584</td>\n",
       "    </tr>\n",
       "  </tbody>\n",
       "</table>\n",
       "<p>349 rows × 23 columns</p>\n",
       "</div>"
      ],
      "text/plain": [
       "     price  year_made       name  battery_life_percentage  storage  \\\n",
       "0      551       2019  iPhone_11                       74       64   \n",
       "1      822       2020  iPhone_12                       94      128   \n",
       "2     1008       2022  iPhone_13                       97      256   \n",
       "3      881       2021  iPhone_14                       90      128   \n",
       "4      839       2020  iPhone_12                       91      256   \n",
       "..     ...        ...        ...                      ...      ...   \n",
       "344   1326       2022  iPhone_14                       91       64   \n",
       "345    458       2019  iPhone_11                       75      256   \n",
       "346    487       2019  iPhone_11                       87      256   \n",
       "347   1340       2022  iPhone_14                      100      256   \n",
       "348   1144       2021  iPhone_13                       94      128   \n",
       "\n",
       "    magnet_charging marketplace  years_owned  visible_scratches  pro  ...  \\\n",
       "0                no      kijiji            2                  9   no  ...   \n",
       "1               yes  craigslist            2                  6   no  ...   \n",
       "2               yes  craigslist            0                  2   no  ...   \n",
       "3               yes  craigslist            2                  2   no  ...   \n",
       "4               yes      kijiji            1                  5   no  ...   \n",
       "..              ...         ...          ...                ...  ...  ...   \n",
       "344             yes  craigslist            0                  0   no  ...   \n",
       "345              no    facebook            3                  3   no  ...   \n",
       "346              no    facebook            1                  7   no  ...   \n",
       "347             yes  craigslist            0                  0   no  ...   \n",
       "348             yes    facebook            1                  1  yes  ...   \n",
       "\n",
       "     log_battery_life_percentage  log_price  log10_battery_life_percentage  \\\n",
       "0                       4.304065   6.311735                       1.869232   \n",
       "1                       4.543295   6.711740                       1.973128   \n",
       "2                       4.574711   6.915723                       1.986772   \n",
       "3                       4.499810   6.781058                       1.954243   \n",
       "4                       4.510860   6.732211                       1.959041   \n",
       "..                           ...        ...                            ...   \n",
       "344                     4.510860   7.189922                       1.959041   \n",
       "345                     4.317488   6.126869                       1.875061   \n",
       "346                     4.465908   6.188264                       1.939519   \n",
       "347                     4.605170   7.200425                       2.000000   \n",
       "348                     4.543295   7.042286                       1.973128   \n",
       "\n",
       "     sqrt_battery_life_percentage  squared_battery_life_percentage  \\\n",
       "0                        8.602325                             5476   \n",
       "1                        9.695360                             8836   \n",
       "2                        9.848858                             9409   \n",
       "3                        9.486833                             8100   \n",
       "4                        9.539392                             8281   \n",
       "..                            ...                              ...   \n",
       "344                      9.539392                             8281   \n",
       "345                      8.660254                             5625   \n",
       "346                      9.327379                             7569   \n",
       "347                     10.000000                            10000   \n",
       "348                      9.695360                             8836   \n",
       "\n",
       "     log_battery  log10_battery  sqrt_battery  squared_battery  cubed_battery  \n",
       "0       4.304065       1.869232      8.602325             5476         405224  \n",
       "1       4.543295       1.973128      9.695360             8836         830584  \n",
       "2       4.574711       1.986772      9.848858             9409         912673  \n",
       "3       4.499810       1.954243      9.486833             8100         729000  \n",
       "4       4.510860       1.959041      9.539392             8281         753571  \n",
       "..           ...            ...           ...              ...            ...  \n",
       "344     4.510860       1.959041      9.539392             8281         753571  \n",
       "345     4.317488       1.875061      8.660254             5625         421875  \n",
       "346     4.465908       1.939519      9.327379             7569         658503  \n",
       "347     4.605170       2.000000     10.000000            10000        1000000  \n",
       "348     4.543295       1.973128      9.695360             8836         830584  \n",
       "\n",
       "[349 rows x 23 columns]"
      ]
     },
     "execution_count": 239,
     "metadata": {},
     "output_type": "execute_result"
    }
   ],
   "source": [
    "# Create 4 new columns\n",
    "df_phones['log_battery'] = np.log(df_phones['battery_life_percentage'])\n",
    "df_phones['log10_battery'] = np.log10(df_phones['battery_life_percentage'])\n",
    "df_phones['sqrt_battery'] = np.sqrt(df_phones['battery_life_percentage'])\n",
    "df_phones['squared_battery'] = np.power(df_phones['battery_life_percentage'],2)\n",
    "df_phones['cubed_battery'] = np.power(df_phones['battery_life_percentage'],3)\n",
    "df_phones"
   ]
  },
  {
   "cell_type": "code",
   "execution_count": null,
   "metadata": {},
   "outputs": [],
   "source": [
    "# Create a list with the names of the 5 new columns\n",
    "transform_cols = ['log_battery','log10_battery','sqrt_battery', 'squared_battery', 'cubed_battery']"
   ]
  },
  {
   "cell_type": "code",
   "execution_count": 240,
   "metadata": {
    "scrolled": false
   },
   "outputs": [
    {
     "data": {
      "image/png": "[encoded data removed]",
      "text/plain": [
       "<Figure size 432x288 with 1 Axes>"
      ]
     },
     "metadata": {
      "needs_background": "light"
     },
     "output_type": "display_data"
    },
    {
     "data": {
      "image/png": "[encoded data removed]",
      "text/plain": [
       "<Figure size 432x288 with 1 Axes>"
      ]
     },
     "metadata": {
      "needs_background": "light"
     },
     "output_type": "display_data"
    },
    {
     "data": {
      "image/png": "[encoded data removed]",
      "text/plain": [
       "<Figure size 432x288 with 1 Axes>"
      ]
     },
     "metadata": {
      "needs_background": "light"
     },
     "output_type": "display_data"
    },
    {
     "data": {
      "image/png": "[encoded data removed]",
      "text/plain": [
       "<Figure size 432x288 with 1 Axes>"
      ]
     },
     "metadata": {
      "needs_background": "light"
     },
     "output_type": "display_data"
    },
    {
     "data": {
      "image/png": "[encoded data removed]",
      "text/plain": [
       "<Figure size 432x288 with 1 Axes>"
      ]
     },
     "metadata": {
      "needs_background": "light"
     },
     "output_type": "display_data"
    }
   ],
   "source": [
    "#Plot the 4 new columns together, and take a look at the new scales of each.\n",
    "\n",
    "for feature in transform_cols:\n",
    "    sns.histplot(df_phones[feature])\n",
    "    plt.show()"
   ]
  },
  {
   "cell_type": "code",
   "execution_count": 247,
   "metadata": {
    "scrolled": false
   },
   "outputs": [
    {
     "name": "stdout",
     "output_type": "stream",
     "text": [
      "log_battery: -0.9752812018882029\n",
      "log10_battery: -0.9752812018882534\n",
      "sqrt_battery: -0.896225285648387\n",
      "squared_battery: -0.6584633854237617\n",
      "cubed_battery: -0.5000973873265593\n"
     ]
    }
   ],
   "source": [
    "# Calculate the skew of each of the new columns\n",
    "\n",
    "for feature in transform_cols:\n",
    "    print(feature + \": \" + str(df_phones[feature].skew()))"
   ]
  },
  {
   "cell_type": "markdown",
   "metadata": {},
   "source": [
    "The original skew of the battery column was -0.8170. So infact only the squared and cubed columns made it better. In this case, using skew() as a basic measure of normality, we would continue with the cubed distribution."
   ]
  },
  {
   "cell_type": "markdown",
   "metadata": {},
   "source": [
    "### Further Practice"
   ]
  },
  {
   "cell_type": "markdown",
   "metadata": {},
   "source": [
    "For further practice, try exercises 1 and 2 again, but using a positively skewed column."
   ]
  }
 ],
 "metadata": {
  "kernelspec": {
   "display_name": "Python 3",
   "language": "python",
   "name": "python3"
  },
  "language_info": {
   "codemirror_mode": {
    "name": "ipython",
    "version": 3
   },
   "file_extension": ".py",
   "mimetype": "text/x-python",
   "name": "python",
   "nbconvert_exporter": "python",
   "pygments_lexer": "ipython3",
   "version": "3.8.5"
  }
 },
 "nbformat": 4,
 "nbformat_minor": 4
}
