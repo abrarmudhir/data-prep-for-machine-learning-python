{
 "cells": [
  {
   "cell_type": "markdown",
   "metadata": {},
   "source": [
    "# Dealing with Skewed Data"
   ]
  },
  {
   "cell_type": "markdown",
   "metadata": {},
   "source": [
    "In this notebook we'll explore the implications of skewed data and some solutions to reduce the skewedness of the data if necessary."
   ]
  },
  {
   "cell_type": "markdown",
   "metadata": {},
   "source": [
    "### Import Basic Packages"
   ]
  },
  {
   "cell_type": "code",
   "execution_count": 2,
   "metadata": {
    "scrolled": false
   },
   "outputs": [],
   "source": [
    "#Basics\n",
    "import numpy as np\n",
    "import pandas as pd\n",
    "import seaborn as sns\n",
    "import matplotlib.pyplot as plt"
   ]
  },
  {
   "cell_type": "markdown",
   "metadata": {},
   "source": [
    "### Import Data & Describe Scenario"
   ]
  },
  {
   "cell_type": "markdown",
   "metadata": {},
   "source": [
    "In this dataset we have many input varaibles that are being used to predict the **price** of a house."
   ]
  },
  {
   "cell_type": "code",
   "execution_count": 3,
   "metadata": {
    "scrolled": false
   },
   "outputs": [
    {
     "data": {
      "text/html": [
       "<div>\n",
       "<style scoped>\n",
       "    .dataframe tbody tr th:only-of-type {\n",
       "        vertical-align: middle;\n",
       "    }\n",
       "\n",
       "    .dataframe tbody tr th {\n",
       "        vertical-align: top;\n",
       "    }\n",
       "\n",
       "    .dataframe thead th {\n",
       "        text-align: right;\n",
       "    }\n",
       "</style>\n",
       "<table border=\"1\" class=\"dataframe\">\n",
       "  <thead>\n",
       "    <tr style=\"text-align: right;\">\n",
       "      <th></th>\n",
       "      <th>id</th>\n",
       "      <th>date</th>\n",
       "      <th>price</th>\n",
       "      <th>bedrooms</th>\n",
       "      <th>bathrooms</th>\n",
       "      <th>sqft_living</th>\n",
       "      <th>sqft_lot</th>\n",
       "      <th>floors</th>\n",
       "      <th>waterfront</th>\n",
       "      <th>view</th>\n",
       "      <th>...</th>\n",
       "      <th>grade</th>\n",
       "      <th>sqft_above</th>\n",
       "      <th>sqft_basement</th>\n",
       "      <th>yr_built</th>\n",
       "      <th>yr_renovated</th>\n",
       "      <th>zipcode</th>\n",
       "      <th>lat</th>\n",
       "      <th>long</th>\n",
       "      <th>sqft_living_15neighbors</th>\n",
       "      <th>sqft_lot_15neighbors</th>\n",
       "    </tr>\n",
       "  </thead>\n",
       "  <tbody>\n",
       "    <tr>\n",
       "      <th>0</th>\n",
       "      <td>7129300520</td>\n",
       "      <td>20141013T000000</td>\n",
       "      <td>221900.0</td>\n",
       "      <td>3</td>\n",
       "      <td>1.00</td>\n",
       "      <td>1180</td>\n",
       "      <td>5650</td>\n",
       "      <td>1.0</td>\n",
       "      <td>0</td>\n",
       "      <td>0</td>\n",
       "      <td>...</td>\n",
       "      <td>7</td>\n",
       "      <td>1180</td>\n",
       "      <td>0</td>\n",
       "      <td>1955</td>\n",
       "      <td>0</td>\n",
       "      <td>98178</td>\n",
       "      <td>47.5112</td>\n",
       "      <td>-122.257</td>\n",
       "      <td>1340</td>\n",
       "      <td>5650</td>\n",
       "    </tr>\n",
       "    <tr>\n",
       "      <th>1</th>\n",
       "      <td>6414100192</td>\n",
       "      <td>20141209T000000</td>\n",
       "      <td>538000.0</td>\n",
       "      <td>3</td>\n",
       "      <td>2.25</td>\n",
       "      <td>2570</td>\n",
       "      <td>7242</td>\n",
       "      <td>2.0</td>\n",
       "      <td>0</td>\n",
       "      <td>0</td>\n",
       "      <td>...</td>\n",
       "      <td>7</td>\n",
       "      <td>2170</td>\n",
       "      <td>400</td>\n",
       "      <td>1951</td>\n",
       "      <td>1991</td>\n",
       "      <td>98125</td>\n",
       "      <td>47.7210</td>\n",
       "      <td>-122.319</td>\n",
       "      <td>1690</td>\n",
       "      <td>7639</td>\n",
       "    </tr>\n",
       "    <tr>\n",
       "      <th>2</th>\n",
       "      <td>5631500400</td>\n",
       "      <td>20150225T000000</td>\n",
       "      <td>180000.0</td>\n",
       "      <td>2</td>\n",
       "      <td>1.00</td>\n",
       "      <td>770</td>\n",
       "      <td>10000</td>\n",
       "      <td>1.0</td>\n",
       "      <td>0</td>\n",
       "      <td>0</td>\n",
       "      <td>...</td>\n",
       "      <td>6</td>\n",
       "      <td>770</td>\n",
       "      <td>0</td>\n",
       "      <td>1933</td>\n",
       "      <td>0</td>\n",
       "      <td>98028</td>\n",
       "      <td>47.7379</td>\n",
       "      <td>-122.233</td>\n",
       "      <td>2720</td>\n",
       "      <td>8062</td>\n",
       "    </tr>\n",
       "    <tr>\n",
       "      <th>3</th>\n",
       "      <td>2487200875</td>\n",
       "      <td>20141209T000000</td>\n",
       "      <td>604000.0</td>\n",
       "      <td>4</td>\n",
       "      <td>3.00</td>\n",
       "      <td>1960</td>\n",
       "      <td>5000</td>\n",
       "      <td>1.0</td>\n",
       "      <td>0</td>\n",
       "      <td>0</td>\n",
       "      <td>...</td>\n",
       "      <td>7</td>\n",
       "      <td>1050</td>\n",
       "      <td>910</td>\n",
       "      <td>1965</td>\n",
       "      <td>0</td>\n",
       "      <td>98136</td>\n",
       "      <td>47.5208</td>\n",
       "      <td>-122.393</td>\n",
       "      <td>1360</td>\n",
       "      <td>5000</td>\n",
       "    </tr>\n",
       "    <tr>\n",
       "      <th>4</th>\n",
       "      <td>1954400510</td>\n",
       "      <td>20150218T000000</td>\n",
       "      <td>510000.0</td>\n",
       "      <td>3</td>\n",
       "      <td>2.00</td>\n",
       "      <td>1680</td>\n",
       "      <td>8080</td>\n",
       "      <td>1.0</td>\n",
       "      <td>0</td>\n",
       "      <td>0</td>\n",
       "      <td>...</td>\n",
       "      <td>8</td>\n",
       "      <td>1680</td>\n",
       "      <td>0</td>\n",
       "      <td>1987</td>\n",
       "      <td>0</td>\n",
       "      <td>98074</td>\n",
       "      <td>47.6168</td>\n",
       "      <td>-122.045</td>\n",
       "      <td>1800</td>\n",
       "      <td>7503</td>\n",
       "    </tr>\n",
       "    <tr>\n",
       "      <th>...</th>\n",
       "      <td>...</td>\n",
       "      <td>...</td>\n",
       "      <td>...</td>\n",
       "      <td>...</td>\n",
       "      <td>...</td>\n",
       "      <td>...</td>\n",
       "      <td>...</td>\n",
       "      <td>...</td>\n",
       "      <td>...</td>\n",
       "      <td>...</td>\n",
       "      <td>...</td>\n",
       "      <td>...</td>\n",
       "      <td>...</td>\n",
       "      <td>...</td>\n",
       "      <td>...</td>\n",
       "      <td>...</td>\n",
       "      <td>...</td>\n",
       "      <td>...</td>\n",
       "      <td>...</td>\n",
       "      <td>...</td>\n",
       "      <td>...</td>\n",
       "    </tr>\n",
       "    <tr>\n",
       "      <th>17993</th>\n",
       "      <td>4254000620</td>\n",
       "      <td>20141007T000000</td>\n",
       "      <td>410000.0</td>\n",
       "      <td>3</td>\n",
       "      <td>2.50</td>\n",
       "      <td>1860</td>\n",
       "      <td>15457</td>\n",
       "      <td>2.0</td>\n",
       "      <td>0</td>\n",
       "      <td>0</td>\n",
       "      <td>...</td>\n",
       "      <td>8</td>\n",
       "      <td>1860</td>\n",
       "      <td>0</td>\n",
       "      <td>1997</td>\n",
       "      <td>0</td>\n",
       "      <td>98019</td>\n",
       "      <td>47.7383</td>\n",
       "      <td>-121.955</td>\n",
       "      <td>2040</td>\n",
       "      <td>14055</td>\n",
       "    </tr>\n",
       "    <tr>\n",
       "      <th>17994</th>\n",
       "      <td>6414100026</td>\n",
       "      <td>20150108T000000</td>\n",
       "      <td>320000.0</td>\n",
       "      <td>2</td>\n",
       "      <td>1.00</td>\n",
       "      <td>1802</td>\n",
       "      <td>11225</td>\n",
       "      <td>1.0</td>\n",
       "      <td>0</td>\n",
       "      <td>0</td>\n",
       "      <td>...</td>\n",
       "      <td>7</td>\n",
       "      <td>1802</td>\n",
       "      <td>0</td>\n",
       "      <td>1961</td>\n",
       "      <td>0</td>\n",
       "      <td>98125</td>\n",
       "      <td>47.7205</td>\n",
       "      <td>-122.323</td>\n",
       "      <td>1810</td>\n",
       "      <td>7332</td>\n",
       "    </tr>\n",
       "    <tr>\n",
       "      <th>17995</th>\n",
       "      <td>1346300035</td>\n",
       "      <td>20140626T000000</td>\n",
       "      <td>1990000.0</td>\n",
       "      <td>5</td>\n",
       "      <td>3.00</td>\n",
       "      <td>4480</td>\n",
       "      <td>5000</td>\n",
       "      <td>2.5</td>\n",
       "      <td>0</td>\n",
       "      <td>0</td>\n",
       "      <td>...</td>\n",
       "      <td>12</td>\n",
       "      <td>3420</td>\n",
       "      <td>1060</td>\n",
       "      <td>1902</td>\n",
       "      <td>0</td>\n",
       "      <td>98112</td>\n",
       "      <td>47.6275</td>\n",
       "      <td>-122.315</td>\n",
       "      <td>3220</td>\n",
       "      <td>5600</td>\n",
       "    </tr>\n",
       "    <tr>\n",
       "      <th>17996</th>\n",
       "      <td>2212210360</td>\n",
       "      <td>20140702T000000</td>\n",
       "      <td>253000.0</td>\n",
       "      <td>2</td>\n",
       "      <td>1.00</td>\n",
       "      <td>1310</td>\n",
       "      <td>7128</td>\n",
       "      <td>1.0</td>\n",
       "      <td>0</td>\n",
       "      <td>0</td>\n",
       "      <td>...</td>\n",
       "      <td>7</td>\n",
       "      <td>940</td>\n",
       "      <td>370</td>\n",
       "      <td>1980</td>\n",
       "      <td>0</td>\n",
       "      <td>98031</td>\n",
       "      <td>47.3958</td>\n",
       "      <td>-122.189</td>\n",
       "      <td>1400</td>\n",
       "      <td>7161</td>\n",
       "    </tr>\n",
       "    <tr>\n",
       "      <th>17997</th>\n",
       "      <td>205000410</td>\n",
       "      <td>20140915T000000</td>\n",
       "      <td>630000.0</td>\n",
       "      <td>3</td>\n",
       "      <td>2.50</td>\n",
       "      <td>2320</td>\n",
       "      <td>32772</td>\n",
       "      <td>2.0</td>\n",
       "      <td>0</td>\n",
       "      <td>0</td>\n",
       "      <td>...</td>\n",
       "      <td>9</td>\n",
       "      <td>2320</td>\n",
       "      <td>0</td>\n",
       "      <td>1992</td>\n",
       "      <td>0</td>\n",
       "      <td>98053</td>\n",
       "      <td>47.6304</td>\n",
       "      <td>-121.988</td>\n",
       "      <td>2610</td>\n",
       "      <td>33305</td>\n",
       "    </tr>\n",
       "  </tbody>\n",
       "</table>\n",
       "<p>17998 rows × 21 columns</p>\n",
       "</div>"
      ],
      "text/plain": [
       "               id             date      price  bedrooms  bathrooms  \\\n",
       "0      7129300520  20141013T000000   221900.0         3       1.00   \n",
       "1      6414100192  20141209T000000   538000.0         3       2.25   \n",
       "2      5631500400  20150225T000000   180000.0         2       1.00   \n",
       "3      2487200875  20141209T000000   604000.0         4       3.00   \n",
       "4      1954400510  20150218T000000   510000.0         3       2.00   \n",
       "...           ...              ...        ...       ...        ...   \n",
       "17993  4254000620  20141007T000000   410000.0         3       2.50   \n",
       "17994  6414100026  20150108T000000   320000.0         2       1.00   \n",
       "17995  1346300035  20140626T000000  1990000.0         5       3.00   \n",
       "17996  2212210360  20140702T000000   253000.0         2       1.00   \n",
       "17997   205000410  20140915T000000   630000.0         3       2.50   \n",
       "\n",
       "       sqft_living  sqft_lot  floors  waterfront  view  ...  grade  \\\n",
       "0             1180      5650     1.0           0     0  ...      7   \n",
       "1             2570      7242     2.0           0     0  ...      7   \n",
       "2              770     10000     1.0           0     0  ...      6   \n",
       "3             1960      5000     1.0           0     0  ...      7   \n",
       "4             1680      8080     1.0           0     0  ...      8   \n",
       "...            ...       ...     ...         ...   ...  ...    ...   \n",
       "17993         1860     15457     2.0           0     0  ...      8   \n",
       "17994         1802     11225     1.0           0     0  ...      7   \n",
       "17995         4480      5000     2.5           0     0  ...     12   \n",
       "17996         1310      7128     1.0           0     0  ...      7   \n",
       "17997         2320     32772     2.0           0     0  ...      9   \n",
       "\n",
       "       sqft_above  sqft_basement  yr_built  yr_renovated  zipcode      lat  \\\n",
       "0            1180              0      1955             0    98178  47.5112   \n",
       "1            2170            400      1951          1991    98125  47.7210   \n",
       "2             770              0      1933             0    98028  47.7379   \n",
       "3            1050            910      1965             0    98136  47.5208   \n",
       "4            1680              0      1987             0    98074  47.6168   \n",
       "...           ...            ...       ...           ...      ...      ...   \n",
       "17993        1860              0      1997             0    98019  47.7383   \n",
       "17994        1802              0      1961             0    98125  47.7205   \n",
       "17995        3420           1060      1902             0    98112  47.6275   \n",
       "17996         940            370      1980             0    98031  47.3958   \n",
       "17997        2320              0      1992             0    98053  47.6304   \n",
       "\n",
       "          long  sqft_living_15neighbors  sqft_lot_15neighbors  \n",
       "0     -122.257                     1340                  5650  \n",
       "1     -122.319                     1690                  7639  \n",
       "2     -122.233                     2720                  8062  \n",
       "3     -122.393                     1360                  5000  \n",
       "4     -122.045                     1800                  7503  \n",
       "...        ...                      ...                   ...  \n",
       "17993 -121.955                     2040                 14055  \n",
       "17994 -122.323                     1810                  7332  \n",
       "17995 -122.315                     3220                  5600  \n",
       "17996 -122.189                     1400                  7161  \n",
       "17997 -121.988                     2610                 33305  \n",
       "\n",
       "[17998 rows x 21 columns]"
      ]
     },
     "execution_count": 3,
     "metadata": {},
     "output_type": "execute_result"
    }
   ],
   "source": [
    "# Import data to a pandas dataframe\n",
    "df_house = pd.read_csv('kc_house_data.csv')\n",
    "df_house"
   ]
  },
  {
   "cell_type": "markdown",
   "metadata": {},
   "source": [
    "### Understanding skew"
   ]
  },
  {
   "cell_type": "code",
   "execution_count": 32,
   "metadata": {},
   "outputs": [],
   "source": [
    "# Define the columns of interest for our transformation analysis\n",
    "\n",
    "\n",
    "#cols_of_interest = df_house.select_dtypes('number').columns"
   ]
  },
  {
   "cell_type": "code",
   "execution_count": 31,
   "metadata": {
    "scrolled": false
   },
   "outputs": [],
   "source": [
    "# Show a basic histplot of each column\n",
    "\n",
    "    \n",
    "#Press shift o to remove the scroll from the box."
   ]
  },
  {
   "cell_type": "code",
   "execution_count": 30,
   "metadata": {
    "scrolled": true
   },
   "outputs": [],
   "source": [
    "#Use the pandas skew function to calculate the skew of each numeric column\n"
   ]
  },
  {
   "cell_type": "markdown",
   "metadata": {},
   "source": [
    "#### Interpretation of Skew Values\n",
    "- Skew > 1 = high positive skew\n",
    "- Skew > 0.5 = moderate positive skew\n",
    "\n",
    "- Skew < -0.5 = moderate negative skew\n",
    "- Skew < -1.0 = high negative skew"
   ]
  },
  {
   "cell_type": "markdown",
   "metadata": {},
   "source": [
    "Other tests exist to **test for normality** of data, which include:\n",
    "- Shapiro-Wilks test\n",
    "- Kolmogorov–Smirnov test"
   ]
  },
  {
   "cell_type": "markdown",
   "metadata": {},
   "source": [
    "### Solving Skew with Natural Logs"
   ]
  },
  {
   "cell_type": "code",
   "execution_count": 29,
   "metadata": {
    "scrolled": false
   },
   "outputs": [],
   "source": [
    "#Take the log of a single feature\n"
   ]
  },
  {
   "cell_type": "code",
   "execution_count": 28,
   "metadata": {
    "scrolled": false
   },
   "outputs": [],
   "source": [
    "# Show a basic histplot of the price column (the target variable in this case)\n",
    "\n",
    "\n",
    "#Press shift o to remove the scroll from the box."
   ]
  },
  {
   "cell_type": "code",
   "execution_count": 12,
   "metadata": {},
   "outputs": [],
   "source": [
    "log_cols = ['log_price','log_sqft_living','log_sqft_lot']"
   ]
  },
  {
   "cell_type": "code",
   "execution_count": null,
   "metadata": {
    "scrolled": true
   },
   "outputs": [],
   "source": []
  },
  {
   "cell_type": "markdown",
   "metadata": {},
   "source": [
    "### Alternatives to Natural Logs"
   ]
  },
  {
   "cell_type": "code",
   "execution_count": null,
   "metadata": {},
   "outputs": [],
   "source": [
    "# log10 takes the log base 10 of each value. See also, log2, log1p\n",
    "df_house['log10_price'] = np.log10(df_house['price'])\n",
    "df_house"
   ]
  },
  {
   "cell_type": "code",
   "execution_count": null,
   "metadata": {},
   "outputs": [],
   "source": [
    "# The square root transform can also be a helpful way to remove positive skew from a distribution\n",
    "df_house['sqrt_price'] = np.sqrt(df_house['price'])\n",
    "df_house"
   ]
  },
  {
   "cell_type": "code",
   "execution_count": null,
   "metadata": {
    "scrolled": true
   },
   "outputs": [],
   "source": [
    "# The cube root transform transforms the data even further\n",
    "df_house['cbrt_price'] = np.cbrt(df_house['price'])\n",
    "df_house"
   ]
  },
  {
   "cell_type": "code",
   "execution_count": null,
   "metadata": {
    "scrolled": true
   },
   "outputs": [],
   "source": [
    "# Alternatively, we can solve for left skew by raising all values of a feature to a power > 1.\n",
    "\n",
    "#Note: In this case the price column is positively skewed, but code is provided as an example.\n",
    "df_house['power2_price'] = np.power(df_house['price'],2)\n",
    "df_house"
   ]
  },
  {
   "cell_type": "markdown",
   "metadata": {},
   "source": [
    "**Further Reading**\n",
    "\n",
    "If you wish to explore other methods, here are some recommendations:\n",
    "\n",
    "- Box Cox Transformation - A semi automatic method for finding the optimal transformation for any POSITIVE feature.\n",
    "- Power Transformer - SKLearn functionlity to implement boxcox and other transforms."
   ]
  },
  {
   "cell_type": "markdown",
   "metadata": {},
   "source": [
    "### Scenario 1 - Heteroskedastic Errors in A Linear Model"
   ]
  },
  {
   "cell_type": "code",
   "execution_count": 14,
   "metadata": {
    "scrolled": false
   },
   "outputs": [
    {
     "data": {
      "text/plain": [
       "[Text(0.5, 1.0, 'sqft_living vs price')]"
      ]
     },
     "execution_count": 14,
     "metadata": {},
     "output_type": "execute_result"
    },
    {
     "data": {
      "image/png": "[encoded data removed]",
      "text/plain": [
       "<Figure size 432x288 with 1 Axes>"
      ]
     },
     "metadata": {
      "needs_background": "light"
     },
     "output_type": "display_data"
    }
   ],
   "source": [
    "# Scatterplots to visualise the correlations\n",
    "ax = sns.scatterplot(data=df_house, x=\"sqft_living\", y=\"price\")\n",
    "ax.set(title = 'sqft_living vs price')"
   ]
  },
  {
   "cell_type": "markdown",
   "metadata": {},
   "source": [
    "Here we can see clearly that plotting a linear model between these two variables would result in a growing error term the sqft_living increases."
   ]
  },
  {
   "cell_type": "code",
   "execution_count": 15,
   "metadata": {
    "scrolled": true
   },
   "outputs": [],
   "source": [
    "df_house['log_price'] = np.log(df_house['price'])\n",
    "df_house['log_sqft_living'] = np.log(df_house['sqft_living'])"
   ]
  },
  {
   "cell_type": "code",
   "execution_count": 16,
   "metadata": {
    "scrolled": false
   },
   "outputs": [
    {
     "data": {
      "text/plain": [
       "[Text(0.5, 1.0, 'log_sft_living vs log_price')]"
      ]
     },
     "execution_count": 16,
     "metadata": {},
     "output_type": "execute_result"
    },
    {
     "data": {
      "image/png": "[encoded data removed]",
      "text/plain": [
       "<Figure size 432x288 with 1 Axes>"
      ]
     },
     "metadata": {
      "needs_background": "light"
     },
     "output_type": "display_data"
    }
   ],
   "source": [
    "# Scatterplots to visualise the correlations\n",
    "ax = sns.scatterplot(data=df_house, x=\"log_sqft_living\", y=\"log_price\")\n",
    "ax.set(title = 'log_sft_living vs log_price')"
   ]
  },
  {
   "cell_type": "markdown",
   "metadata": {},
   "source": [
    "Having performed a log-log transformation (log on dependent and independetn varaibles), we no longer have inconsistent errors."
   ]
  },
  {
   "cell_type": "markdown",
   "metadata": {},
   "source": [
    "### Scenario 2 - Fitting a Linear Model"
   ]
  },
  {
   "cell_type": "code",
   "execution_count": 17,
   "metadata": {
    "scrolled": true
   },
   "outputs": [
    {
     "data": {
      "text/plain": [
       "[Text(0.5, 1.0, 'sqft_lot vs price')]"
      ]
     },
     "execution_count": 17,
     "metadata": {},
     "output_type": "execute_result"
    },
    {
     "data": {
      "image/png": "[encoded data removed]",
      "text/plain": [
       "<Figure size 432x288 with 1 Axes>"
      ]
     },
     "metadata": {
      "needs_background": "light"
     },
     "output_type": "display_data"
    }
   ],
   "source": [
    "# Scatterplots to visualise the correlations\n",
    "ax = sns.scatterplot(data=df_house, x=\"sqft_lot\", y=\"price\")\n",
    "ax.set(title = 'sqft_lot vs price')"
   ]
  },
  {
   "cell_type": "markdown",
   "metadata": {},
   "source": [
    "In this case, plotting a right skewed input against the right skewed target makes fitting a linear relationship particularly difficult."
   ]
  },
  {
   "cell_type": "code",
   "execution_count": 18,
   "metadata": {
    "scrolled": true
   },
   "outputs": [],
   "source": [
    "df_house['log_price'] = np.log(df_house['price'])\n",
    "df_house['log_sqft_lot'] = np.log(df_house['sqft_lot'])"
   ]
  },
  {
   "cell_type": "code",
   "execution_count": 19,
   "metadata": {
    "scrolled": true
   },
   "outputs": [
    {
     "data": {
      "text/plain": [
       "[Text(0.5, 1.0, 'log_sqft_lot vs log_price')]"
      ]
     },
     "execution_count": 19,
     "metadata": {},
     "output_type": "execute_result"
    },
    {
     "data": {
      "image/png": "[encoded data removed]",
      "text/plain": [
       "<Figure size 432x288 with 1 Axes>"
      ]
     },
     "metadata": {
      "needs_background": "light"
     },
     "output_type": "display_data"
    }
   ],
   "source": [
    "# Scatterplots to visualise the correlations\n",
    "ax = sns.scatterplot(data=df_house, x=\"log_sqft_lot\", y=\"log_price\")\n",
    "ax.set(title = 'log_sqft_lot vs log_price')"
   ]
  },
  {
   "cell_type": "markdown",
   "metadata": {},
   "source": [
    "Having taken the log of both input and target, we create a much more interpretable relationship."
   ]
  },
  {
   "cell_type": "markdown",
   "metadata": {},
   "source": [
    "### Exercise 1 (Basic) - Identifying Skewedness of Variable"
   ]
  },
  {
   "cell_type": "markdown",
   "metadata": {},
   "source": [
    "Task:\n",
    "- Import the phones dataset\n",
    "- Plot the battery life percentage column\n",
    "- identify the skewedness of the variable."
   ]
  },
  {
   "cell_type": "code",
   "execution_count": 27,
   "metadata": {},
   "outputs": [
    {
     "data": {
      "text/html": [
       "<div>\n",
       "<style scoped>\n",
       "    .dataframe tbody tr th:only-of-type {\n",
       "        vertical-align: middle;\n",
       "    }\n",
       "\n",
       "    .dataframe tbody tr th {\n",
       "        vertical-align: top;\n",
       "    }\n",
       "\n",
       "    .dataframe thead th {\n",
       "        text-align: right;\n",
       "    }\n",
       "</style>\n",
       "<table border=\"1\" class=\"dataframe\">\n",
       "  <thead>\n",
       "    <tr style=\"text-align: right;\">\n",
       "      <th></th>\n",
       "      <th>price</th>\n",
       "      <th>year_made</th>\n",
       "      <th>name</th>\n",
       "      <th>battery_life_percentage</th>\n",
       "      <th>storage</th>\n",
       "      <th>magnet_charging</th>\n",
       "      <th>marketplace</th>\n",
       "      <th>years_owned</th>\n",
       "      <th>visible_scratches</th>\n",
       "      <th>pro</th>\n",
       "      <th>original_sale_price</th>\n",
       "      <th>#_of_previous_owners</th>\n",
       "      <th>megapixel</th>\n",
       "    </tr>\n",
       "  </thead>\n",
       "  <tbody>\n",
       "    <tr>\n",
       "      <th>0</th>\n",
       "      <td>551</td>\n",
       "      <td>2019</td>\n",
       "      <td>iPhone_11</td>\n",
       "      <td>74</td>\n",
       "      <td>64</td>\n",
       "      <td>no</td>\n",
       "      <td>kijiji</td>\n",
       "      <td>2</td>\n",
       "      <td>9</td>\n",
       "      <td>no</td>\n",
       "      <td>747</td>\n",
       "      <td>1</td>\n",
       "      <td>12</td>\n",
       "    </tr>\n",
       "    <tr>\n",
       "      <th>1</th>\n",
       "      <td>822</td>\n",
       "      <td>2020</td>\n",
       "      <td>iPhone_12</td>\n",
       "      <td>94</td>\n",
       "      <td>128</td>\n",
       "      <td>yes</td>\n",
       "      <td>craigslist</td>\n",
       "      <td>2</td>\n",
       "      <td>6</td>\n",
       "      <td>no</td>\n",
       "      <td>888</td>\n",
       "      <td>1</td>\n",
       "      <td>16</td>\n",
       "    </tr>\n",
       "    <tr>\n",
       "      <th>2</th>\n",
       "      <td>1008</td>\n",
       "      <td>2022</td>\n",
       "      <td>iPhone_13</td>\n",
       "      <td>97</td>\n",
       "      <td>256</td>\n",
       "      <td>yes</td>\n",
       "      <td>craigslist</td>\n",
       "      <td>0</td>\n",
       "      <td>2</td>\n",
       "      <td>no</td>\n",
       "      <td>1185</td>\n",
       "      <td>1</td>\n",
       "      <td>22</td>\n",
       "    </tr>\n",
       "    <tr>\n",
       "      <th>3</th>\n",
       "      <td>881</td>\n",
       "      <td>2021</td>\n",
       "      <td>iPhone_14</td>\n",
       "      <td>90</td>\n",
       "      <td>128</td>\n",
       "      <td>yes</td>\n",
       "      <td>craigslist</td>\n",
       "      <td>2</td>\n",
       "      <td>2</td>\n",
       "      <td>no</td>\n",
       "      <td>887</td>\n",
       "      <td>1</td>\n",
       "      <td>20</td>\n",
       "    </tr>\n",
       "    <tr>\n",
       "      <th>4</th>\n",
       "      <td>839</td>\n",
       "      <td>2020</td>\n",
       "      <td>iPhone_12</td>\n",
       "      <td>91</td>\n",
       "      <td>256</td>\n",
       "      <td>yes</td>\n",
       "      <td>kijiji</td>\n",
       "      <td>1</td>\n",
       "      <td>5</td>\n",
       "      <td>no</td>\n",
       "      <td>969</td>\n",
       "      <td>1</td>\n",
       "      <td>16</td>\n",
       "    </tr>\n",
       "    <tr>\n",
       "      <th>...</th>\n",
       "      <td>...</td>\n",
       "      <td>...</td>\n",
       "      <td>...</td>\n",
       "      <td>...</td>\n",
       "      <td>...</td>\n",
       "      <td>...</td>\n",
       "      <td>...</td>\n",
       "      <td>...</td>\n",
       "      <td>...</td>\n",
       "      <td>...</td>\n",
       "      <td>...</td>\n",
       "      <td>...</td>\n",
       "      <td>...</td>\n",
       "    </tr>\n",
       "    <tr>\n",
       "      <th>344</th>\n",
       "      <td>1326</td>\n",
       "      <td>2022</td>\n",
       "      <td>iPhone_14</td>\n",
       "      <td>91</td>\n",
       "      <td>64</td>\n",
       "      <td>yes</td>\n",
       "      <td>craigslist</td>\n",
       "      <td>0</td>\n",
       "      <td>0</td>\n",
       "      <td>no</td>\n",
       "      <td>1394</td>\n",
       "      <td>1</td>\n",
       "      <td>22</td>\n",
       "    </tr>\n",
       "    <tr>\n",
       "      <th>345</th>\n",
       "      <td>458</td>\n",
       "      <td>2019</td>\n",
       "      <td>iPhone_11</td>\n",
       "      <td>75</td>\n",
       "      <td>256</td>\n",
       "      <td>no</td>\n",
       "      <td>facebook</td>\n",
       "      <td>3</td>\n",
       "      <td>3</td>\n",
       "      <td>no</td>\n",
       "      <td>702</td>\n",
       "      <td>2</td>\n",
       "      <td>12</td>\n",
       "    </tr>\n",
       "    <tr>\n",
       "      <th>346</th>\n",
       "      <td>487</td>\n",
       "      <td>2019</td>\n",
       "      <td>iPhone_11</td>\n",
       "      <td>87</td>\n",
       "      <td>256</td>\n",
       "      <td>no</td>\n",
       "      <td>facebook</td>\n",
       "      <td>1</td>\n",
       "      <td>7</td>\n",
       "      <td>no</td>\n",
       "      <td>781</td>\n",
       "      <td>2</td>\n",
       "      <td>12</td>\n",
       "    </tr>\n",
       "    <tr>\n",
       "      <th>347</th>\n",
       "      <td>1340</td>\n",
       "      <td>2022</td>\n",
       "      <td>iPhone_14</td>\n",
       "      <td>100</td>\n",
       "      <td>256</td>\n",
       "      <td>yes</td>\n",
       "      <td>craigslist</td>\n",
       "      <td>0</td>\n",
       "      <td>0</td>\n",
       "      <td>no</td>\n",
       "      <td>1411</td>\n",
       "      <td>1</td>\n",
       "      <td>22</td>\n",
       "    </tr>\n",
       "    <tr>\n",
       "      <th>348</th>\n",
       "      <td>1144</td>\n",
       "      <td>2021</td>\n",
       "      <td>iPhone_13</td>\n",
       "      <td>94</td>\n",
       "      <td>128</td>\n",
       "      <td>yes</td>\n",
       "      <td>facebook</td>\n",
       "      <td>1</td>\n",
       "      <td>1</td>\n",
       "      <td>yes</td>\n",
       "      <td>1249</td>\n",
       "      <td>1</td>\n",
       "      <td>20</td>\n",
       "    </tr>\n",
       "  </tbody>\n",
       "</table>\n",
       "<p>349 rows × 13 columns</p>\n",
       "</div>"
      ],
      "text/plain": [
       "     price  year_made       name  battery_life_percentage  storage  \\\n",
       "0      551       2019  iPhone_11                       74       64   \n",
       "1      822       2020  iPhone_12                       94      128   \n",
       "2     1008       2022  iPhone_13                       97      256   \n",
       "3      881       2021  iPhone_14                       90      128   \n",
       "4      839       2020  iPhone_12                       91      256   \n",
       "..     ...        ...        ...                      ...      ...   \n",
       "344   1326       2022  iPhone_14                       91       64   \n",
       "345    458       2019  iPhone_11                       75      256   \n",
       "346    487       2019  iPhone_11                       87      256   \n",
       "347   1340       2022  iPhone_14                      100      256   \n",
       "348   1144       2021  iPhone_13                       94      128   \n",
       "\n",
       "    magnet_charging marketplace  years_owned  visible_scratches  pro  \\\n",
       "0                no      kijiji            2                  9   no   \n",
       "1               yes  craigslist            2                  6   no   \n",
       "2               yes  craigslist            0                  2   no   \n",
       "3               yes  craigslist            2                  2   no   \n",
       "4               yes      kijiji            1                  5   no   \n",
       "..              ...         ...          ...                ...  ...   \n",
       "344             yes  craigslist            0                  0   no   \n",
       "345              no    facebook            3                  3   no   \n",
       "346              no    facebook            1                  7   no   \n",
       "347             yes  craigslist            0                  0   no   \n",
       "348             yes    facebook            1                  1  yes   \n",
       "\n",
       "     original_sale_price  #_of_previous_owners  megapixel  \n",
       "0                    747                     1         12  \n",
       "1                    888                     1         16  \n",
       "2                   1185                     1         22  \n",
       "3                    887                     1         20  \n",
       "4                    969                     1         16  \n",
       "..                   ...                   ...        ...  \n",
       "344                 1394                     1         22  \n",
       "345                  702                     2         12  \n",
       "346                  781                     2         12  \n",
       "347                 1411                     1         22  \n",
       "348                 1249                     1         20  \n",
       "\n",
       "[349 rows x 13 columns]"
      ]
     },
     "execution_count": 27,
     "metadata": {},
     "output_type": "execute_result"
    }
   ],
   "source": [
    "# Import the phone marketplace dataset. Phone price is the target variable.\n",
    "df_phone = pd.read_csv('phone_marketplace_dataset.csv')\n",
    "df_phone"
   ]
  },
  {
   "cell_type": "code",
   "execution_count": 20,
   "metadata": {
    "scrolled": true
   },
   "outputs": [],
   "source": [
    "# Plot the battery life percentage feature\n"
   ]
  },
  {
   "cell_type": "code",
   "execution_count": 21,
   "metadata": {},
   "outputs": [],
   "source": [
    "# Calculate the skew value of the battery life percentage column\n",
    "\n",
    "\n",
    "# is battery life highly negatively skewed, moderately negative, not skewed, moderately positive, or highly positive?"
   ]
  },
  {
   "cell_type": "markdown",
   "metadata": {},
   "source": [
    "### Exercise 2 (Advanced) - Experiment with Transformations"
   ]
  },
  {
   "cell_type": "markdown",
   "metadata": {},
   "source": [
    "Before you begin, think about which transformations are likely to help make this variable more normal.\n",
    "\n",
    "Task:\n",
    "- In a new column, calculate the natural log of the battery life column\n",
    "- In a new column, calculate the log base 10 of the battery life column\n",
    "- In a new column, calculate the square oot of the battery life column.\n",
    "- In a new column, calculate the battery life column squared.\n",
    "- In a new column, calculate the battery life column cubed.\n",
    "\n",
    "- Plot the distributions on the same chart.\n",
    "- Calcuate the skewedness of the new columns.\n",
    "- Which one solved the skewedness most effectively?"
   ]
  },
  {
   "cell_type": "code",
   "execution_count": 22,
   "metadata": {
    "scrolled": false
   },
   "outputs": [],
   "source": [
    "# Create 4 new columns\n"
   ]
  },
  {
   "cell_type": "code",
   "execution_count": 23,
   "metadata": {},
   "outputs": [],
   "source": [
    "# Create a list with the names of the 5 new columns\n"
   ]
  },
  {
   "cell_type": "code",
   "execution_count": 24,
   "metadata": {
    "scrolled": false
   },
   "outputs": [],
   "source": [
    "#Plot the 4 new columns together, and take a look at the new scales of each.\n"
   ]
  },
  {
   "cell_type": "code",
   "execution_count": 26,
   "metadata": {
    "scrolled": false
   },
   "outputs": [],
   "source": [
    "# Calculate the skew of each of the new columns\n"
   ]
  },
  {
   "cell_type": "markdown",
   "metadata": {},
   "source": [
    "### Further Practice (Optional)"
   ]
  },
  {
   "cell_type": "markdown",
   "metadata": {},
   "source": [
    "For further practice, try exercises 1 and 2 again, but using a positively skewed column."
   ]
  }
 ],
 "metadata": {
  "kernelspec": {
   "display_name": "Python 3",
   "language": "python",
   "name": "python3"
  },
  "language_info": {
   "codemirror_mode": {
    "name": "ipython",
    "version": 3
   },
   "file_extension": ".py",
   "mimetype": "text/x-python",
   "name": "python",
   "nbconvert_exporter": "python",
   "pygments_lexer": "ipython3",
   "version": "3.8.5"
  }
 },
 "nbformat": 4,
 "nbformat_minor": 4
}
