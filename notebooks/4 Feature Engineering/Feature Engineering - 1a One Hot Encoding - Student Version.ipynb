{
 "cells": [
  {
   "cell_type": "markdown",
   "metadata": {},
   "source": [
    "# One Hot Encoding"
   ]
  },
  {
   "cell_type": "markdown",
   "metadata": {},
   "source": [
    "In this notebook we will use one hot encoding to transform categorical variables into numeric ones."
   ]
  },
  {
   "cell_type": "markdown",
   "metadata": {},
   "source": [
    "### Import Basic Packages & Data"
   ]
  },
  {
   "cell_type": "code",
   "execution_count": 10,
   "metadata": {},
   "outputs": [],
   "source": [
    "# Basics\n",
    "import numpy as np\n",
    "import pandas as pd"
   ]
  },
  {
   "cell_type": "markdown",
   "metadata": {},
   "source": [
    "The dataset contains data about airbnb rentals in New York. We have a number of independent variables and a target variable, price. The goal is to transform our dataset so that all features are numeric, making it more suitable for the majority of machine learning algorithms.\n",
    "\n",
    "The original data can be found here: http://insideairbnb.com/"
   ]
  },
  {
   "cell_type": "code",
   "execution_count": 11,
   "metadata": {
    "scrolled": false
   },
   "outputs": [],
   "source": [
    "# Importing data\n",
    "df = pd.read_csv('airbnb_dataset_training.csv')"
   ]
  },
  {
   "cell_type": "markdown",
   "metadata": {},
   "source": [
    "### Identify Categorical Variables"
   ]
  },
  {
   "cell_type": "code",
   "execution_count": 12,
   "metadata": {},
   "outputs": [
    {
     "name": "stdout",
     "output_type": "stream",
     "text": [
      "id                      int64\n",
      "minimum_nights          int64\n",
      "number_of_reviews       int64\n",
      "neighbourhood_group    object\n",
      "neighbourhood          object\n",
      "room_type              object\n",
      "price                   int64\n",
      "dtype: object\n"
     ]
    }
   ],
   "source": [
    "# Checking data types to confirm categorical columns\n",
    "print(df.dtypes)"
   ]
  },
  {
   "cell_type": "code",
   "execution_count": 13,
   "metadata": {},
   "outputs": [
    {
     "name": "stdout",
     "output_type": "stream",
     "text": [
      "id                     8\n",
      "minimum_nights         5\n",
      "number_of_reviews      7\n",
      "neighbourhood_group    2\n",
      "neighbourhood          6\n",
      "room_type              2\n",
      "price                  8\n",
      "dtype: int64\n"
     ]
    }
   ],
   "source": [
    "# Count unique values in all columns\n",
    "print(df.nunique())"
   ]
  },
  {
   "cell_type": "code",
   "execution_count": 14,
   "metadata": {},
   "outputs": [
    {
     "name": "stdout",
     "output_type": "stream",
     "text": [
      "Manhattan    5\n",
      "Brooklyn     3\n",
      "Name: neighbourhood_group, dtype: int64\n"
     ]
    }
   ],
   "source": [
    "# Count unique values in a single column\n",
    "print(df['neighbourhood_group'].value_counts())"
   ]
  },
  {
   "cell_type": "code",
   "execution_count": 15,
   "metadata": {},
   "outputs": [
    {
     "data": {
      "text/html": [
       "<div>\n",
       "<style scoped>\n",
       "    .dataframe tbody tr th:only-of-type {\n",
       "        vertical-align: middle;\n",
       "    }\n",
       "\n",
       "    .dataframe tbody tr th {\n",
       "        vertical-align: top;\n",
       "    }\n",
       "\n",
       "    .dataframe thead th {\n",
       "        text-align: right;\n",
       "    }\n",
       "</style>\n",
       "<table border=\"1\" class=\"dataframe\">\n",
       "  <thead>\n",
       "    <tr style=\"text-align: right;\">\n",
       "      <th></th>\n",
       "      <th>neighbourhood_group</th>\n",
       "      <th>neighbourhood</th>\n",
       "      <th>room_type</th>\n",
       "    </tr>\n",
       "  </thead>\n",
       "  <tbody>\n",
       "    <tr>\n",
       "      <th>0</th>\n",
       "      <td>Brooklyn</td>\n",
       "      <td>Kensington</td>\n",
       "      <td>Private room</td>\n",
       "    </tr>\n",
       "    <tr>\n",
       "      <th>1</th>\n",
       "      <td>Manhattan</td>\n",
       "      <td>Midtown</td>\n",
       "      <td>Entire home/apt</td>\n",
       "    </tr>\n",
       "    <tr>\n",
       "      <th>2</th>\n",
       "      <td>Manhattan</td>\n",
       "      <td>Midtown</td>\n",
       "      <td>Private room</td>\n",
       "    </tr>\n",
       "    <tr>\n",
       "      <th>3</th>\n",
       "      <td>Brooklyn</td>\n",
       "      <td>Clinton Hill</td>\n",
       "      <td>Entire home/apt</td>\n",
       "    </tr>\n",
       "    <tr>\n",
       "      <th>4</th>\n",
       "      <td>Manhattan</td>\n",
       "      <td>Murray Hill</td>\n",
       "      <td>Entire home/apt</td>\n",
       "    </tr>\n",
       "    <tr>\n",
       "      <th>5</th>\n",
       "      <td>Manhattan</td>\n",
       "      <td>Murray Hill</td>\n",
       "      <td>Entire home/apt</td>\n",
       "    </tr>\n",
       "    <tr>\n",
       "      <th>6</th>\n",
       "      <td>Brooklyn</td>\n",
       "      <td>Bedford-Stuyvesant</td>\n",
       "      <td>Private room</td>\n",
       "    </tr>\n",
       "    <tr>\n",
       "      <th>7</th>\n",
       "      <td>Manhattan</td>\n",
       "      <td>Hell's Kitchen</td>\n",
       "      <td>Private room</td>\n",
       "    </tr>\n",
       "  </tbody>\n",
       "</table>\n",
       "</div>"
      ],
      "text/plain": [
       "  neighbourhood_group       neighbourhood        room_type\n",
       "0            Brooklyn          Kensington     Private room\n",
       "1           Manhattan             Midtown  Entire home/apt\n",
       "2           Manhattan             Midtown     Private room\n",
       "3            Brooklyn        Clinton Hill  Entire home/apt\n",
       "4           Manhattan         Murray Hill  Entire home/apt\n",
       "5           Manhattan         Murray Hill  Entire home/apt\n",
       "6            Brooklyn  Bedford-Stuyvesant     Private room\n",
       "7           Manhattan      Hell's Kitchen     Private room"
      ]
     },
     "execution_count": 15,
     "metadata": {},
     "output_type": "execute_result"
    }
   ],
   "source": [
    "# Separating categorical columns into their own dataframe\n",
    "categorical = df.select_dtypes('object')\n",
    "categorical"
   ]
  },
  {
   "cell_type": "code",
   "execution_count": 16,
   "metadata": {},
   "outputs": [
    {
     "name": "stdout",
     "output_type": "stream",
     "text": [
      "neighbourhood_group \n",
      " ['Brooklyn' 'Manhattan'] \n",
      "\n",
      "neighbourhood \n",
      " ['Kensington' 'Midtown' 'Clinton Hill' 'Murray Hill' 'Bedford-Stuyvesant'\n",
      " \"Hell's Kitchen\"] \n",
      "\n",
      "room_type \n",
      " ['Private room' 'Entire home/apt'] \n",
      "\n"
     ]
    }
   ],
   "source": [
    "# Using a loop to find all the unique values of a categorical column\n",
    "for i in categorical:\n",
    "    print(i,'\\n',df[i].unique(),'\\n')"
   ]
  },
  {
   "cell_type": "markdown",
   "metadata": {},
   "source": [
    "### One Hot Encoding in Pandas"
   ]
  },
  {
   "cell_type": "markdown",
   "metadata": {},
   "source": [
    "We can very easily accomplish our variable encoding by using the Pandas get_dummies function.\n",
    "\n",
    "**pd.get_dummies(data, prefix=None, prefix_sep='_', dummy_na=False, columns=None, sparse=False, drop_first=False, dtype=None)**\n",
    "Documentation: https://pandas.pydata.org/docs/reference/api/pandas.get_dummies.html\n",
    "- The first argument **data**, defines the dataset on which we want to perform the encoding.\n",
    "- The **columns** argument defines which columns specifically we want to encode.\n",
    "- The **prefix** argument helps us to understand which column each encoded column came from.\n",
    "- The **prefix separator** allows us to separate the prefix from the original column name.\n",
    "- The **drop_first** argument removes the first of the categorical encoded columns.\n",
    "    - drop_first = **False**      will create a dummy variable for every category.\n",
    "    - drop_first = **True**       will create n-1 dummy variables."
   ]
  },
  {
   "cell_type": "code",
   "execution_count": null,
   "metadata": {},
   "outputs": [],
   "source": [
    "# Import the required packages from pandas\n",
    "# No additional packages are required since get_dummies is part of pandas."
   ]
  },
  {
   "cell_type": "code",
   "execution_count": 30,
   "metadata": {},
   "outputs": [],
   "source": [
    "# Perform the same action but on the full dataset, creating one hot encoded columns for the following columns:\n",
    "#'neighbourhood_group','neighbourhood','room_type'\n",
    "\n"
   ]
  },
  {
   "cell_type": "markdown",
   "metadata": {},
   "source": [
    "### One Hot Encoding in Skikit Learn using OneHotEncoder (Recommended Approach)"
   ]
  },
  {
   "cell_type": "markdown",
   "metadata": {},
   "source": [
    "We can achieve the same thing in Skikit Learn by using the OneHotEncoder function. We recommend using this approach as it's easier to build a production machine learning model that can be tested.\n",
    "\n",
    "**OneHotEncoder()**\n",
    "- Documentation: https://scikit-learn.org/stable/modules/generated/sklearn.preprocessing.OneHotEncoder.html\n",
    "- The **drop** argument removes the first of the categorical encoded columns.\n",
    "    - drop: **False**      will create a dummy variable for every category.\n",
    "    - drop: **True**       will create n-1 dummy variables.\n",
    "- The **handle_unknown** argument can take one of several values: {'error', 'ignore', 'infrequent_if_exist'}, **default='error'**\n",
    "    - 'error' will raise an error if an unknown category is present when transforming the testing/real data.\n",
    "    - 'ignore' will set all unrecognized categories in the testing data to zero in all dummy columns.\n",
    "   "
   ]
  },
  {
   "cell_type": "code",
   "execution_count": 24,
   "metadata": {},
   "outputs": [],
   "source": [
    "#Import the required packages from sklearn\n"
   ]
  },
  {
   "cell_type": "code",
   "execution_count": 31,
   "metadata": {},
   "outputs": [],
   "source": [
    "# Use sklearn's OneHotEncoder to apply one hot encoding to multiple categorical features.\n",
    "\n",
    "# Initiatlize the ohe method\n",
    "             \n",
    "\n",
    "#Specify the categorical columns\n",
    "\n",
    "\n",
    "#Apply the ohe encoding\n",
    "\n",
    "\n",
    "#Combine the encoded columns with the non categorical columns\n"
   ]
  },
  {
   "cell_type": "markdown",
   "metadata": {},
   "source": [
    "In the next notebook we'll show you how to apply the ohe transformer to a testing dataset."
   ]
  },
  {
   "cell_type": "markdown",
   "metadata": {},
   "source": [
    "### Exercise 1 (Basic) Import & Identify Categorical Variables"
   ]
  },
  {
   "cell_type": "markdown",
   "metadata": {},
   "source": [
    "For these exercises, you will be working with the well known breastcancer dataset. There are a number of features being used to predict the target variable, whether there is recurrence or no-recurrence of breastcancer.\n",
    "\n",
    "Source: UMCIO, Ljulljana, Yugoslavia. M. Zwitter & M. Soklic.\n",
    "https://archive.ics.uci.edu/ml/datasets/Breast+Cancer\n",
    "\n",
    "Follow the below steps to complete the one hot encoding exercise:\n",
    "- Import the breastcancer dataset into a dataframe\n",
    "- Find out what column types exist in the dataset\n",
    "- Return a list of object (category) columns\n",
    "- Explore the unique values that exist in each column. What unique values exist in the node-caps column?"
   ]
  },
  {
   "cell_type": "code",
   "execution_count": null,
   "metadata": {},
   "outputs": [],
   "source": [
    "#Import the csv file using the pre-populated code\n",
    "bc_df = pd.read_csv('breastcancer_dataset.csv')\n",
    "bc_df"
   ]
  },
  {
   "cell_type": "code",
   "execution_count": null,
   "metadata": {},
   "outputs": [],
   "source": [
    "# Checking data types to confirm categorical columns\n"
   ]
  },
  {
   "cell_type": "code",
   "execution_count": null,
   "metadata": {},
   "outputs": [],
   "source": [
    "# Identify list of category columns.\n"
   ]
  },
  {
   "cell_type": "code",
   "execution_count": null,
   "metadata": {},
   "outputs": [],
   "source": [
    "# Using a loop to find all the unique values of each categorical column\n"
   ]
  },
  {
   "cell_type": "markdown",
   "metadata": {},
   "source": [
    "### Exercise 2 (Advanced) Apply the One Hot Encoder to the dataset"
   ]
  },
  {
   "cell_type": "markdown",
   "metadata": {},
   "source": [
    "- Apply one hot encoding to the node-caps column and check the the correct number of columns have been returned.\n",
    "- Optional: Apply one hot encoding to all categorical columns."
   ]
  },
  {
   "cell_type": "code",
   "execution_count": null,
   "metadata": {},
   "outputs": [],
   "source": [
    "# Use sklearn's OneHotEncoder to apply one hot encoding to the node-caps column.\n",
    "\n",
    "# Initiatlize the ohe method\n",
    "\n",
    "# Specify columns\n",
    "\n",
    "# Apply the ohe encoding\n",
    "\n",
    "# Combine the encoded columns with the non categorical columns\n"
   ]
  },
  {
   "cell_type": "code",
   "execution_count": null,
   "metadata": {},
   "outputs": [],
   "source": []
  }
 ],
 "metadata": {
  "kernelspec": {
   "display_name": "Python 3",
   "language": "python",
   "name": "python3"
  },
  "language_info": {
   "codemirror_mode": {
    "name": "ipython",
    "version": 3
   },
   "file_extension": ".py",
   "mimetype": "text/x-python",
   "name": "python",
   "nbconvert_exporter": "python",
   "pygments_lexer": "ipython3",
   "version": "3.8.5"
  }
 },
 "nbformat": 4,
 "nbformat_minor": 5
}
